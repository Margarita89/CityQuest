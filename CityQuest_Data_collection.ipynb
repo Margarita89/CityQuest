{
  "nbformat": 4,
  "nbformat_minor": 0,
  "metadata": {
    "colab": {
      "name": "CityQuest_Data_collection.ipynb",
      "provenance": [],
      "authorship_tag": "ABX9TyOxbt63/cdTnqNxIBBcb0+0",
      "include_colab_link": true
    },
    "kernelspec": {
      "name": "python3",
      "display_name": "Python 3"
    }
  },
  "cells": [
    {
      "cell_type": "markdown",
      "metadata": {
        "id": "view-in-github",
        "colab_type": "text"
      },
      "source": [
        "<a href=\"https://colab.research.google.com/github/Margarita89/CityQuest/blob/master/CityQuest_Data_collection.ipynb\" target=\"_parent\"><img src=\"https://colab.research.google.com/assets/colab-badge.svg\" alt=\"Open In Colab\"/></a>"
      ]
    },
    {
      "cell_type": "markdown",
      "metadata": {
        "id": "ZKp8bRqrVeQa",
        "colab_type": "text"
      },
      "source": [
        "# **City Quest Data Collection from Wikipedia**"
      ]
    },
    {
      "cell_type": "markdown",
      "metadata": {
        "id": "rxOXMuojVoRG",
        "colab_type": "text"
      },
      "source": [
        "### **Install wikipedia module**\n",
        "Here I also saved useful links of the Wikipedia pages for tests"
      ]
    },
    {
      "cell_type": "code",
      "metadata": {
        "id": "xeZ619bxrmLe",
        "colab_type": "code",
        "colab": {}
      },
      "source": [
        "!pip install wikipedia\n",
        "# Wikipedia API: https://github.com/goldsmith/Wikipedia/blob/master/wikipedia/wikipedia.py \n",
        "# NLTK: https://towardsdatascience.com/named-entity-recognition-with-nltk-and-spacy-8c4a7d88e7da \n",
        "# New York City: https://en.wikipedia.org/wiki/New_York_City\n",
        "# San Francisco: https://en.wikipedia.org/wiki/San_Francisco\n",
        "# Washigton D.C.: https://en.wikipedia.org/wiki/Washington,_D.C.\n",
        "# Las Vegas: https://en.wikipedia.org/wiki/Las_Vegas\n",
        "# Seattle: https://en.wikipedia.org/wiki/Seattle\n",
        "# Miami: https://en.wikipedia.org/wiki/Miami\n",
        "# Los Angeles: https://en.wikipedia.org/wiki/Los_Angeles\n",
        "# Philadelphia: https://en.wikipedia.org/wiki/Philadelphia\n",
        "# Chicago\n",
        "# San Diego\n",
        "# Boston\n",
        "# Minneapolis\n",
        "# Atlanta\n",
        "# Houston\n",
        "# Phoenix"
      ],
      "execution_count": null,
      "outputs": []
    },
    {
      "cell_type": "markdown",
      "metadata": {
        "id": "ZDSFmv89WL_l",
        "colab_type": "text"
      },
      "source": [
        "### **Some imports and testing wikipedia module**"
      ]
    },
    {
      "cell_type": "code",
      "metadata": {
        "id": "Y0Pb8tIzrT6C",
        "colab_type": "code",
        "colab": {}
      },
      "source": [
        "from collections import defaultdict\n",
        "from typing import Set, List, Dict, DefaultDict\n",
        "import wikipedia"
      ],
      "execution_count": null,
      "outputs": []
    },
    {
      "cell_type": "code",
      "metadata": {
        "id": "NfimW2i8WBp7",
        "colab_type": "code",
        "colab": {
          "base_uri": "https://localhost:8080/",
          "height": 35
        },
        "outputId": "3baf4405-e45e-4bd6-e4aa-7d8f28941da3"
      },
      "source": [
        "ny = wikipedia.page(\"New York City\")\n",
        "ny.title\n",
        "# u'New York'"
      ],
      "execution_count": 127,
      "outputs": [
        {
          "output_type": "execute_result",
          "data": {
            "application/vnd.google.colaboratory.intrinsic+json": {
              "type": "string"
            },
            "text/plain": [
              "'New York City'"
            ]
          },
          "metadata": {
            "tags": []
          },
          "execution_count": 127
        }
      ]
    },
    {
      "cell_type": "code",
      "metadata": {
        "id": "FEQWQKoW-DmW",
        "colab_type": "code",
        "colab": {
          "base_uri": "https://localhost:8080/",
          "height": 35
        },
        "outputId": "6d328046-586f-4a28-9dcf-665aa88c3c74"
      },
      "source": [
        "ny.url\n",
        "# u'https://en.wikipedia.org/wiki/New_York_City'"
      ],
      "execution_count": 128,
      "outputs": [
        {
          "output_type": "execute_result",
          "data": {
            "application/vnd.google.colaboratory.intrinsic+json": {
              "type": "string"
            },
            "text/plain": [
              "'https://en.wikipedia.org/wiki/New_York_City'"
            ]
          },
          "metadata": {
            "tags": []
          },
          "execution_count": 128
        }
      ]
    },
    {
      "cell_type": "code",
      "metadata": {
        "id": "G1svze4J6Udf",
        "colab_type": "code",
        "colab": {}
      },
      "source": [
        "ny.summary"
      ],
      "execution_count": null,
      "outputs": []
    },
    {
      "cell_type": "code",
      "metadata": {
        "id": "Kw71sUM7-GBP",
        "colab_type": "code",
        "colab": {
          "base_uri": "https://localhost:8080/",
          "height": 188
        },
        "outputId": "19d68548-f5be-4d02-d8cc-c47ac9409413"
      },
      "source": [
        "ny.content\n",
        "# u'New York City, often called simply New York and abbreviated as NYC, is the most populous city'..."
      ],
      "execution_count": 129,
      "outputs": [
        {
          "output_type": "execute_result",
          "data": {
            "application/vnd.google.colaboratory.intrinsic+json": {
              "type": "string"
            },
            "text/plain": [
              "'New York City, often called simply New York and abbreviated as NYC, is the most populous city in the United States. With an estimated 2019 population of 8,336,817 distributed over about 302.6 square miles (784 km2), New York City is also the most densely populated major city in the United States. Located at the southern tip of the U.S. state of New York, the city is the center of the New York metropolitan area, the largest metropolitan area in the world by urban landmass. With almost 20 million people in its metropolitan statistical area and approximately 23 million in its combined statistical area, it is one of the world\\'s most populous megacities. New York City has been described as the cultural, financial, and media capital of the world, significantly influencing commerce, entertainment, research, technology, education, politics, tourism, art, fashion, and sports. Home to the headquarters of the United Nations, New York is an important center for international diplomacy.Situated on one of the world\\'s largest natural harbors, New York City is composed of five boroughs, each of which is a county of the State of New York. The five boroughs—Brooklyn, Queens, Manhattan, the Bronx, and Staten Island—were consolidated into a single city in 1898. The city and its metropolitan area constitute the premier gateway for legal immigration to the United States. As many as 800 languages are spoken in New York, making it the most linguistically diverse city in the world. New York is home to more than 3.2 million residents born outside the United States, the largest foreign-born population of any city in the world as of 2016. As of 2019, the New York metropolitan area is estimated to produce a gross metropolitan product (GMP) of $2.0 trillion. If the New York metropolitan area were a sovereign state, it would have the eighth-largest economy in the world. New York is home to the highest number of billionaires of any city in the world.New York City traces its origins to a trading post founded by colonists from the Dutch Republic in 1624 on Lower Manhattan; the post was named New Amsterdam in 1626. The city and its surroundings came under English control in 1664 and were renamed New York after King Charles II of England granted the lands to his brother, the Duke of York. The city was the capital of the United States from 1785 until 1790, and has been the largest U.S. city since 1790. The Statue of Liberty greeted millions of immigrants as they came to the U.S. by ship in the late 19th and early 20th centuries, and is a symbol of the U.S. and its ideals of liberty and peace. In the 21st century, New York has emerged as a global node of creativity, entrepreneurship, and environmental sustainability, and as a symbol of freedom and cultural diversity. In 2019, New York was voted the greatest city in the world per a survey of over 30,000 people from 48 cities worldwide, citing its cultural diversity.Many districts and landmarks in New York City are well known, including three of the world\\'s ten most visited tourist attractions in 2013. A record 62.8 million tourists visited New York City in 2017. Times Square is the brightly illuminated hub of the Broadway Theater District, one of the world\\'s busiest pedestrian intersections, and a major center of the world\\'s entertainment industry. Many of the city\\'s landmarks, skyscrapers, and parks are known around the world. Manhattan\\'s real estate market is among the most expensive in the world. New York is home to the largest ethnic Chinese population outside of Asia, with multiple distinct Chinatowns across the city. Providing continuous 24/7 service and contributing to the nickname The City that Never Sleeps, the New York City Subway is the largest single-operator rapid transit system worldwide, with 472 rail stations. The city has over 120 colleges and universities, including Columbia University, New York University, Rockefeller University, and the City University of New York system, which is the largest urban public university system in the United States. Anchored by Wall Street in the Financial District of Lower Manhattan, New York City has been called both the world\\'s leading financial center and the most financially powerful city in the world, and is home to the world\\'s two largest stock exchanges by total market capitalization, the New York Stock Exchange and NASDAQ.\\n\\n\\n== Etymology ==\\nIn 1664, the city was named in honor of the Duke of York, who would become King James II of England. James\\'s older brother, King Charles II, appointed the Duke proprietor of the former territory of New Netherland, including the city of New Amsterdam, when England seized it from the Dutch.\\n\\n\\n== History ==\\n\\n\\n=== Early history ===\\nIn the precolonial era, the area of present-day New York City was inhabited by Algonquian Native Americans, including the Lenape. Their homeland, known as Lenapehoking, included Staten Island, Manhattan, the Bronx, the western portion of Long Island (including the areas that would later become the boroughs of Brooklyn and Queens), and the Lower Hudson Valley.The first documented visit into New York Harbor by a European was in 1524 by Giovanni da Verrazzano, a Florentine explorer in the service of the French crown. He claimed the area for France and named it Nouvelle Angoulême (New Angoulême). A Spanish expedition, led by the Portuguese captain Estêvão Gomes sailing for Emperor Charles V, arrived in New York Harbor in January 1525 and charted the mouth of the Hudson River, which he named Río de San Antonio (Saint Anthony\\'s River). The Padrón Real of 1527, the first scientific map to show the East Coast of North America continuously, was informed by Gomes\\' expedition and labeled the northeastern United States as Tierra de Esteban Gómez in his honor.In 1609, the English explorer Henry Hudson rediscovered New York Harbor while searching for the Northwest Passage to the Orient for the Dutch East India Company. He proceeded to sail up what the Dutch would name the North River (now the Hudson River), named first by Hudson as the Mauritius after Maurice, Prince of Orange. Hudson\\'s first mate described the harbor as \"a very good Harbour for all windes\" and the river as \"a mile broad\" and \"full of fish\". Hudson sailed roughly 150 miles (240 km) north, past the site of the present-day New York State capital city of Albany, in the belief that it might be an oceanic tributary before the river became too shallow to continue. He made a ten-day exploration of the area and claimed the region for the Dutch East India Company. In 1614, the area between Cape Cod and Delaware Bay was claimed by the Netherlands and called Nieuw-Nederland (New Netherland).\\nThe first non-Native American inhabitant of what would eventually become New York City was Juan Rodriguez (transliterated to Dutch as Jan Rodrigues), a merchant from Santo Domingo. Born in Santo Domingo of Portuguese and African descent, he arrived in Manhattan during the winter of 1613–14, trapping for pelts and trading with the local population as a representative of the Dutch. Broadway, from 159th Street to 218th Street in Upper Manhattan, is named Juan Rodriguez Way in his honor.\\n\\n\\n=== Dutch rule ===\\nA permanent European presence near New York Harbor began in 1624—making New York the 12th oldest continuously occupied European-established settlement in the continental United States—with the founding of a Dutch fur trading settlement on Governors Island. In 1625, construction was started on a citadel and Fort Amsterdam, later called Nieuw Amsterdam (New Amsterdam), on present-day Manhattan Island. The colony of New Amsterdam was centered on what would later be known as Lower Manhattan. It extended from the lower tip of Manhattan to modern day Wall Street, where a 12-foot wooden stockade was built in 1653 to protect against Native American and British raids. In 1626, the Dutch colonial Director-General Peter Minuit, acting as charged by the Dutch West India Company, purchased the island of Manhattan from the Canarsie, a small Lenape band, for \"the value of 60 guilders\" (about $900 in 2018). A disproved legend claims that Manhattan was purchased for $24 worth of glass beads.Following the purchase, New Amsterdam grew slowly. To attract settlers, the Dutch instituted the patroon system in 1628, whereby wealthy Dutchmen (patroons, or patrons) who brought 50 colonists to New Netherland would be awarded swaths of land, along with local political autonomy and rights to participate in the lucrative fur trade. This program had little success.Since 1621, the Dutch West India Company had operated as a monopoly in New Netherland, on authority granted by the Dutch States General. In 1639–1640, in an effort to bolster economic growth, the Dutch West India Company relinquished its monopoly over the fur trade, leading to growth in the production and trade of food, timber, tobacco, and slaves (particularly with the Dutch West Indies).In 1647, Peter Stuyvesant began his tenure as the last Director-General of New Netherland. During his tenure, the population of New Netherland grew from 2,000 to 8,000. Stuyvesant has been credited with improving law and order in the colony; however, he also earned a reputation as a despotic leader. He instituted regulations on liquor sales, attempted to assert control over the Dutch Reformed Church, and blocked other religious groups (including Quakers, Jews, and Lutherans) from establishing houses of worship. The Dutch West India Company would eventually attempt to ease tensions between Stuyvesant and residents of New Amsterdam.\\n\\n\\n=== English rule ===\\nIn 1664, unable to summon any significant resistance, Stuyvesant surrendered New Amsterdam to English troops, led by Colonel Richard Nicolls, without bloodshed. The terms of the surrender permitted Dutch residents to remain in the colony and allowed for religious freedom. The English promptly renamed the fledgling city \"New York\" after the Duke of York (the future King James II of England), who was a leader of the Royal Africa Company, which shipped more African slaves to the Americas than any other institution in the history of the Atlantic slave trade. The transfer was confirmed in 1667 by the Treaty of Breda, which concluded the Second Anglo-Dutch War.On August 24, 1673, during the Third Anglo-Dutch War, Dutch captain Anthony Colve seized the colony of New York from England at the behest of Cornelis Evertsen the Youngest and rechristened it \"New Orange\" after William III, the Prince of Orange. The Dutch would soon return the island to England under the Treaty of Westminster of November 1674.Several intertribal wars among the Native Americans and some epidemics brought on by contact with the Europeans caused sizeable population losses for the Lenape between the years 1660 and 1670. By 1700, the Lenape population had diminished to 200. New York experienced several yellow fever epidemics in the 18th century, losing ten percent of its population to the disease in 1702 alone.\\n\\n\\n=== British colony ===\\n\\nNew York grew in importance as a trading port while under British rule in the early 1700s. It also became a center of slavery, with 42% of households holding slaves by 1730, the highest percentage outside Charleston, South Carolina. Most slaveholders held a few or several domestic slaves, but others hired them out to work at labor. Slavery became integrally tied to New York\\'s economy through the labor of slaves throughout the port, and the banks and shipping tied to the American South. Discovery of the African Burying Ground in the 1990s, during construction of a new federal courthouse near Foley Square, revealed that tens of thousands of Africans had been buried in the area in the colonial years.The 1735 trial and acquittal in Manhattan of John Peter Zenger, who had been accused of seditious libel after criticizing colonial governor William Cosby, helped to establish the freedom of the press in North America. In 1754, Columbia University was founded under charter by King George II as King\\'s College in Lower Manhattan.\\n\\n\\n=== American Revolution ===\\nThe Stamp Act Congress met in New York in October 1765, as the Sons of Liberty, organized in the city, skirmished over the next ten years with British troops stationed there. The Battle of Long Island, the largest battle of the American Revolutionary War, was fought in August 1776 within the modern-day borough of Brooklyn. After the battle, in which the Americans were defeated, the British made the city their military and political base of operations in North America. The city was a haven for Loyalist refugees and escaped slaves who joined the British lines for freedom newly promised by the Crown for all fighters. As many as 10,000 escaped slaves crowded into the city during the British occupation. When the British forces evacuated at the close of the war in 1783, they transported 3,000 freedmen for resettlement in Nova Scotia. They resettled other freedmen in England and the Caribbean.\\nThe only attempt at a peaceful solution to the war took place at the Conference House on Staten Island between American delegates, including Benjamin Franklin, and British general Lord Howe on September 11, 1776. Shortly after the British occupation began, the Great Fire of New York occurred, a large conflagration on the West Side of Lower Manhattan, which destroyed about a quarter of the buildings in the city, including Trinity Church.In 1785, the assembly of the Congress of the Confederation made New York City the national capital shortly after the war. New York was the last capital of the U.S. under the Articles of Confederation and the first capital under the Constitution of the United States. New York City as the U.S. capital hosted several events of national scope in 1789—the first President of the United States, George Washington, was inaugurated; the first United States Congress and the Supreme Court of the United States each assembled for the first time; and the United States Bill of Rights was drafted, all at Federal Hall on Wall Street. By 1790, New York had surpassed Philadelphia to become the largest city in the United States, but by the end of that year, pursuant to the Residence Act, the national capital was moved to Philadelphia.\\n\\n\\n=== Nineteenth century ===\\n\\nOver the course of the nineteenth century, New York City\\'s population grew from ~60,000 to ~3.43 million. Under New York State\\'s abolition act of 1799, children of slave mothers were to be eventually liberated but to be held in indentured servitude until their mid-to-late twenties. Together with slaves freed by their masters after the Revolutionary War and escaped slaves, a significant free-black population gradually developed in Manhattan. Under such influential United States founders as Alexander Hamilton and John Jay, the New York Manumission Society worked for abolition and established the African Free School to educate black children. It was not until 1827 that slavery was completely abolished in the state, and free blacks struggled afterward with discrimination. New York interracial abolitionist activism continued; among its leaders were graduates of the African Free School. The city\\'s black population reached more than 16,000 in 1840.In the 19th century, the city was transformed by development relating to its status as a national and international trading center, as well as by European immigration. The city adopted the Commissioners\\' Plan of 1811, which expanded the city street grid to encompass almost all of Manhattan. The 1825 completion of the Erie Canal through central New York connected the Atlantic port to the agricultural markets and commodities of the North American interior via the Hudson River and the Great Lakes. Local politics became dominated by Tammany Hall, a political machine supported by Irish and German immigrants.Several prominent American literary figures lived in New York during the 1830s and 1840s, including William Cullen Bryant, Washington Irving, Herman Melville, Rufus Wilmot Griswold, John Keese, Nathaniel Parker Willis, and Edgar Allan Poe. Public-minded members of the contemporaneous business elite lobbied for the establishment of Central Park, which in 1857 became the first landscaped park in an American city.\\nThe Great Irish Famine brought a large influx of Irish immigrants; more than 200,000 were living in New York by 1860, upwards of a quarter of the city\\'s population. There was also extensive immigration from the German provinces, where revolutions had disrupted societies, and Germans comprised another 25% of New York\\'s population by 1860.Democratic Party candidates were consistently elected to local office, increasing the city\\'s ties to the South and its dominant party. In 1861, Mayor Fernando Wood called upon the aldermen to declare independence from Albany and the United States after the South seceded, but his proposal was not acted on. Anger at new military conscription laws during the American Civil War (1861–1865), which spared wealthier men who could afford to pay a $300 (equivalent to $6,229 in 2019) commutation fee to hire a substitute, led to the Draft Riots of 1863, whose most visible participants were ethnic Irish working class.The draft riots deteriorated into attacks on New York\\'s elite, followed by attacks on black New Yorkers and their property after fierce competition for a decade between Irish immigrants and black people for work. Rioters burned the Colored Orphan Asylum to the ground, with more than 200 children escaping harm due to efforts of the New York Police Department, which was mainly made up of Irish immigrants. At least 120 people were killed. Eleven black men were lynched over five days, and the riots forced hundreds of blacks to flee the city for Williamsburg, Brooklyn, and New Jersey. The black population in Manhattan fell below 10,000 by 1865, which it had last been in 1820. The white working class had established dominance. Violence by longshoremen against black men was especially fierce in the docks area. It was one of the worst incidents of civil unrest in American history.\\n\\n\\n=== Modern history ===\\n\\nIn 1898, the modern City of New York was formed with the consolidation of Brooklyn (until then a separate city), the County of New York (which then included parts of the Bronx), the County of Richmond, and the western portion of the County of Queens. The opening of the subway in 1904, first built as separate private systems, helped bind the new city together. Throughout the first half of the 20th century, the city became a world center for industry, commerce, and communication.In 1904, the steamship General Slocum caught fire in the East River, killing 1,021 people on board. In 1911, the Triangle Shirtwaist Factory fire, the city\\'s worst industrial disaster, took the lives of 146 garment workers and spurred the growth of the International Ladies\\' Garment Workers\\' Union and major improvements in factory safety standards.New York\\'s non-white population was 36,620 in 1890. New York City was a prime destination in the early twentieth century for African Americans during the Great Migration from the American South, and by 1916, New York City had become home to the largest urban African diaspora in North America. The Harlem Renaissance of literary and cultural life flourished during the era of Prohibition. The larger economic boom generated construction of skyscrapers competing in height and creating an identifiable skyline.\\nNew York became the most populous urbanized area in the world in the early-1920s, overtaking London. The metropolitan area surpassed the 10 million mark in the early-1930s, becoming the first megacity in human history. The difficult years of the Great Depression saw the election of reformer Fiorello La Guardia as mayor and the fall of Tammany Hall after eighty years of political dominance.Returning World War II veterans created a post-war economic boom and the development of large housing tracts in eastern Queens and Nassau County as well as similar suburban areas in New Jersey. New York emerged from the war unscathed as the leading city of the world, with Wall Street leading America\\'s place as the world\\'s dominant economic power. The United Nations Headquarters was completed in 1952, solidifying New York\\'s global geopolitical influence, and the rise of abstract expressionism in the city precipitated New York\\'s displacement of Paris as the center of the art world.\\n\\nThe Stonewall riots were a series of spontaneous, violent demonstrations by members of the gay community against a police raid that took place in the early morning hours of June 28, 1969, at the Stonewall Inn in the Greenwich Village neighborhood of Lower Manhattan. They are widely considered to constitute the single most important event leading to the gay liberation movement and the modern fight for LGBT rights. Wayne R. Dynes, author of the Encyclopedia of Homosexuality, wrote that drag queens were the only \"transgender folks around\" during the June 1969 Stonewall riots. \"None of them in fact made a major contribution to the movement.\" Others say the transgender community in New York City played a significant role in fighting for LGBT equality during the period of the Stonewall riots and thereafter.In the 1970s, job losses due to industrial restructuring caused New York City to suffer from economic problems and rising crime rates. While a resurgence in the financial industry greatly improved the city\\'s economic health in the 1980s, New York\\'s crime rate continued to increase through that decade and into the beginning of the 1990s. By the mid 1990s, crime rates started to drop dramatically due to revised police strategies, improving economic opportunities, gentrification, and new residents, both American transplants and new immigrants from Asia and Latin America. Important new sectors, such as Silicon Alley, emerged in the city\\'s economy. New York\\'s population reached all-time highs in the 2000 census and then again in the 2010 census.\\n\\nNew York City suffered the bulk of the economic damage and largest loss of human life in the aftermath of the September 11, 2001 attacks. Two of the four airliners highjacked that day were flown into the twin towers of the World Trade Center, destroying them and killing 2,192 civilians, 343 firefighters, and 71 law enforcement officers. The North Tower became the tallest building ever to be destroyed anywhere then or subsequently.The area was rebuilt with a new One World Trade Center, a 9/11 memorial and museum, and other new buildings and infrastructure. The World Trade Center PATH station, which had opened on July 19, 1909 as the Hudson Terminal, was also destroyed in the attacks. A temporary station was built and opened on November 23, 2003. An 800,000-square-foot (74,000 m2) permanent rail station designed by Santiago Calatrava, the World Trade Center Transportation Hub, the city\\'s third-largest hub, was completed in 2016. The new One World Trade Center is the tallest skyscraper in the Western Hemisphere and the sixth-tallest building in the world by pinnacle height, with its spire reaching a symbolic 1,776 feet (541.3 m) in reference to the year of U.S. independence.The Occupy Wall Street protests in Zuccotti Park in the Financial District of Lower Manhattan began on September 17, 2011, receiving global attention and popularizing the Occupy movement against social and economic inequality worldwide.In March 2020, the first confirmed case of COVID-19 for the city was in Manhattan. As of June 2020, New York City had recorded over 20,000 deaths from COVID-19-related complications. The city was the U.S. epicenter of the pandemic during the early phase, before the infection spread nationwide. New York City partially-reopened in its first phase on June 8. It began phase two on June 22, and phase three on July 6. During the pandemic, a federal judge blocked Mayor Bill de Blasio from enforcing restrictions on religious organizations to 25% when others operated at 50%. A federal lawsuit alleging religious discrimination began in June by Catholic priests and Jewish congregants against Governor Andrew Cuomo and Mayor de Blasio.\\n\\n\\n== Geography ==\\n\\nDuring the Wisconsin glaciation, 75,000 to 11,000 years ago, the New York City area was situated at the edge of a large ice sheet over 2,000 feet (610 m) in depth. The erosive forward movement of the ice (and its subsequent retreat) contributed to the separation of what is now Long Island and Staten Island. That action also left bedrock at a relatively shallow depth, providing a solid foundation for most of Manhattan\\'s skyscrapers.New York City is situated in the northeastern United States, in southeastern New York State, approximately halfway between Washington, D.C. and Boston. The location at the mouth of the Hudson River, which feeds into a naturally sheltered harbor and then into the Atlantic Ocean, has helped the city grow in significance as a trading port. Most of New York City is built on the three islands of Long Island, Manhattan, and Staten Island.\\nThe Hudson River flows through the Hudson Valley into New York Bay. Between New York City and Troy, New York, the river is an estuary. The Hudson River separates the city from the U.S. state of New Jersey. The East River—a tidal strait—flows from Long Island Sound and separates the Bronx and Manhattan from Long Island. The Harlem River, another tidal strait between the East and Hudson rivers, separates most of Manhattan from the Bronx. The Bronx River, which flows through the Bronx and Westchester County, is the only entirely freshwater river in the city.The city\\'s land has been altered substantially by human intervention, with considerable land reclamation along the waterfronts since Dutch colonial times; reclamation is most prominent in Lower Manhattan, with developments such as Battery Park City in the 1970s and 1980s. Some of the natural relief in topography has been evened out, especially in Manhattan.The city\\'s total area is 468.484 square miles (1,213.37 km2); 302.643 sq mi (783.84 km2) of the city is land and 165.841 sq mi (429.53 km2) of this is water. The highest point in the city is Todt Hill on Staten Island, which, at 409.8 feet (124.9 m) above sea level, is the highest point on the eastern seaboard south of Maine. The summit of the ridge is mostly covered in woodlands as part of the Staten Island Greenbelt.\\n\\n\\n=== Boroughs ===\\n\\n \\n\\nNew York City is sometimes referred to collectively as the Five Boroughs.There are hundreds of distinct neighborhoods throughout the boroughs, many with a definable history and character. If the boroughs were each independent cities, four of the boroughs (Brooklyn, Queens, Manhattan, and the Bronx) would be among the ten most populous cities in the United States (Staten Island would be ranked 37th as of 2020); these same boroughs are coterminous with the four most densely populated counties in the United States: New York (Manhattan), Kings (Brooklyn), Bronx, and Queens.\\n\\n\\n==== Manhattan ====\\nManhattan (New York County) is the geographically smallest and most densely populated borough, is home to Central Park and most of the city\\'s skyscrapers, and is sometimes locally known as The City. Manhattan\\'s population density of 72,033 people per square mile (27,812/km2) in 2015 makes it the highest of any county in the United States and higher than the density of any individual American city. Manhattan is the cultural, administrative, and financial center of New York City and contains the headquarters of many major multinational corporations, the United Nations Headquarters, Wall Street, and a number of important universities. Manhattan is often described as the financial and cultural center of the world.Most of the borough is situated on Manhattan Island, at the mouth of the Hudson River. Several small islands also compose part of the borough of Manhattan, including Randall\\'s Island, Wards Island, and Roosevelt Island in the East River, and Governors Island and Liberty Island to the south in New York Harbor. Manhattan Island is loosely divided into the Lower, Midtown, and Uptown regions. Uptown Manhattan is divided by Central Park into the Upper East Side and the Upper West Side, and above the park is Harlem. Harlem was predominantly occupied by Jewish and Italian Americans in the 19th century until the Great Migration. It was the center of the Harlem Renaissance.\\n\\nThe borough of Manhattan also includes a small neighborhood on the mainland, called Marble Hill, which is contiguous with the Bronx. New York City\\'s remaining four boroughs are collectively referred to as the Outer Boroughs.\\n\\n\\n==== Brooklyn ====\\nBrooklyn (Kings County), on the western tip of Long Island, is the city\\'s most populous borough. Brooklyn is known for its cultural, social, and ethnic diversity, an independent art scene, distinct neighborhoods, and a distinctive architectural heritage. Downtown Brooklyn is the largest central core neighborhood in the Outer Boroughs. The borough has a long beachfront shoreline including Coney Island, established in the 1870s as one of the earliest amusement grounds in the U.S. Marine Park and Prospect Park are the two largest parks in Brooklyn. Since 2010, Brooklyn has evolved into a thriving hub of entrepreneurship and high technology startup firms, and of postmodern art and design.\\n\\n\\n==== Queens ====\\nQueens (Queens County), on Long Island north and east of Brooklyn, is geographically the largest borough, the most ethnically diverse county in the United States, and the most ethnically diverse urban area in the world. Historically a collection of small towns and villages founded by the Dutch, the borough has since developed both commercial and residential prominence. Downtown Flushing has become one of the busiest central core neighborhoods in the outer boroughs. Queens is the site of Citi Field, the baseball stadium of the New York Mets, and hosts the annual U.S. Open tennis tournament at Flushing Meadows-Corona Park. Additionally, two of the three busiest airports serving the New York metropolitan area, John F. Kennedy International Airport and LaGuardia Airport, are located in Queens. The third is Newark Liberty International Airport in Newark, New Jersey.\\n\\n\\n==== The Bronx ====\\nThe Bronx (Bronx County) is New York City\\'s northernmost borough and the only New York City borough that lies mainly on the mainland United States. It is the location of Yankee Stadium, the baseball park of the New York Yankees, and home to the largest cooperatively owned housing complex in the United States, Co-op City. It is also home to the Bronx Zoo, the world\\'s largest metropolitan zoo, which spans 265 acres (1.07 km2) and houses more than 6,000 animals. The Bronx is also the birthplace of rap and hip hop culture. Pelham Bay Park is the largest park in New York City, at 2,772 acres (1,122 ha).\\n\\n\\n==== Staten Island ====\\nStaten Island (Richmond County) is the most suburban in character of the five boroughs. Staten Island is connected to Brooklyn by the Verrazano-Narrows Bridge, and to Manhattan by way of the free Staten Island Ferry, a daily commuter ferry which provides unobstructed views of the Statue of Liberty, Ellis Island, and Lower Manhattan. In central Staten Island, the Staten Island Greenbelt spans approximately 2,500 acres (10 km2), including 28 miles (45 km) of walking trails and one of the last undisturbed forests in the city. Designated in 1984 to protect the island\\'s natural lands, the Greenbelt comprises seven city parks.\\n\\t\\t\\n\\t\\t\\n\\n\\n=== Architecture ===\\n\\nNew York has architecturally noteworthy buildings in a wide range of styles and from distinct time periods, from the Dutch Colonial Pieter Claesen Wyckoff House in Brooklyn, the oldest section of which dates to 1656, to the modern One World Trade Center, the skyscraper at Ground Zero in Lower Manhattan and the most expensive office tower in the world by construction cost.Manhattan\\'s skyline, with its many skyscrapers, is universally recognized, and the city has been home to several of the tallest buildings in the world. As of 2019, New York City had 6,455 high-rise buildings, the third most in world after Hong Kong and Seoul. Of these, as of 2011, 550 completed structures were at least 330 feet (100 m) high, the second most in the world after Hong Kong, with more than fifty completed skyscrapers taller than 656 feet (200 m). These include the Woolworth Building, an early example of Gothic Revival architecture in skyscraper design, built with massively scaled Gothic detailing; completed in 1913, for 17 years it was the world\\'s tallest building.The 1916 Zoning Resolution required setbacks in new buildings and restricted towers to a percentage of the lot size, to allow sunlight to reach the streets below. The Art Deco style of the Chrysler Building (1930) and Empire State Building (1931), with their tapered tops and steel spires, reflected the zoning requirements. The buildings have distinctive ornamentation, such as the eagles at the corners of the 61st floor on the Chrysler Building, and are considered some of the finest examples of the Art Deco style. A highly influential example of the international style in the United States is the Seagram Building (1957), distinctive for its façade using visible bronze-toned I-beams to evoke the building\\'s structure. The Condé Nast Building (2000) is a prominent example of green design in American skyscrapers and has received an award from the American Institute of Architects and AIA New York State for its design.\\nThe character of New York\\'s large residential districts is often defined by the elegant brownstone rowhouses and townhouses and shabby tenements that were built during a period of rapid expansion from 1870 to 1930. In contrast, New York City also has neighborhoods that are less densely populated and feature free-standing dwellings. In neighborhoods such as Riverdale (in the Bronx), Ditmas Park (in Brooklyn), and Douglaston (in Queens), large single-family homes are common in various architectural styles such as Tudor Revival and Victorian.Stone and brick became the city\\'s building materials of choice after the construction of wood-frame houses was limited in the aftermath of the Great Fire of 1835. A distinctive feature of many of the city\\'s buildings is the roof-mounted wooden water tower. In the 1800s, the city required their installation on buildings higher than six stories to prevent the need for excessively high water pressures at lower elevations, which could break municipal water pipes. Garden apartments became popular during the 1920s in outlying areas, such as Jackson Heights.According to the United States Geological Survey, an updated analysis of seismic hazard in July 2014 revealed a \"slightly lower hazard for tall buildings\" in New York City than previously assessed. Scientists estimated this lessened risk based upon a lower likelihood than previously thought of slow shaking near the city, which would be more likely to cause damage to taller structures from an earthquake in the vicinity of the city.\\n\\n\\n=== Climate ===\\n\\nUnder the Köppen climate classification, using the 0 °C (32 °F) isotherm, New York City features a humid subtropical climate (Cfa), and is thus the northernmost major city on the North American continent with this categorization. The suburbs to the immediate north and west lie in the transitional zone between humid subtropical and humid continental climates (Dfa). By the Trewartha classification, the city is defined as having an oceanic climate (Do). Annually, the city averages 234 days with at least some sunshine. The city lies in the USDA 7b plant hardiness zone.\\n\\nWinters are chilly and damp, and prevailing wind patterns that blow sea breezes offshore temper the moderating effects of the Atlantic Ocean; yet the Atlantic and the partial shielding from colder air by the Appalachian Mountains keep the city warmer in the winter than inland North American cities at similar or lesser latitudes such as Pittsburgh, Cincinnati, and Indianapolis. The daily mean temperature in January, the area\\'s coldest month, is 32.6 °F (0.3 °C); temperatures usually drop to 10 °F (−12 °C) several times per winter, and reach 60 °F (16 °C) several days in the coldest winter month. Spring and autumn are unpredictable and can range from cool to warm, although they are usually mild with low humidity. Summers are typically hot and humid, with a daily mean temperature of 76.5 °F (24.7 °C) in July.Nighttime temperatures are often enhanced due to the urban heat island effect. Daytime temperatures exceed 90 °F (32 °C) on average of 17 days each summer and in some years exceed 100 °F (38 °C), although this is a rare achievement, last occurring on July 23, 2011. Similarly, readings of 0 °F (−18 °C) are also extremely rare, last occurring on February 14, 2016. Extreme temperatures have ranged from −15 °F (−26 °C), recorded on February 9, 1934, up to 106 °F (41 °C) on July 9, 1936; the coldest recorded wind chill was −37 °F (−38 °C) on the same day as the all-time record low. The record cold daily maximum was 2 °F (−17 °C) on December 30, 1917, while, conversely, the record warm daily minimum was 84 °F (29 °C), last recorded on July 22, 2011. The average water temperature of the nearby Atlantic Ocean ranges from 39.7 °F (4.3 °C) in February to 74.1 °F (23.4 °C) in August.The city receives 49.9 inches (1,270 mm) of precipitation annually, which is relatively evenly spread throughout the year. Average winter snowfall between 1981 and 2010 has been 25.8 inches (66 cm); this varies considerably between years. Hurricanes and tropical storms are rare in the New York area. Hurricane Sandy brought a destructive storm surge to New York City on the evening of October 29, 2012, flooding numerous streets, tunnels, and subway lines in Lower Manhattan and other areas of the city and cutting off electricity in many parts of the city and its suburbs. The storm and its profound impacts have prompted the discussion of constructing seawalls and other coastal barriers around the shorelines of the city and the metropolitan area to minimize the risk of destructive consequences from another such event in the future.The coldest month on record is January 1857, with a mean temperature of 19.6 °F (−6.9 °C) whereas the warmest months on record are July 1825 and July 1999, both with a mean temperature of 81.4 °F (27.4 °C). The warmest year on record is 2012, with a mean temperature of 57.4 °F (14.1 °C). The coldest year is 1836, with a mean temperature of 47.3 °F (8.5 °C). The driest month on record is June 1949, with 0.02 inches (0.51 mm) of rainfall. The wettest month was August 2011, with 18.95 inches (481 mm) of rainfall. The driest year on record is 1965, with 26.09 inches (663 mm) of rainfall. The wettest year was 1983, with 80.56 inches (2,046 mm) of rainfall. The snowiest month on record is February 2010, with 36.9 inches (94 cm) of snowfall. The snowiest season (Jul–Jun) on record is 1995–1996, with 75.6 inches (192 cm) of snowfall. The least snowy season was 1972–1973, with 2.3 inches (5.8 cm) of snowfall. The earliest seasonal trace of snowfall occurred on October 10, in both 1979 and 1925. The latest seasonal trace of snowfall occurred on May 9, in both 2020 and 1977.\\n\\nSee or edit raw graph data.\\n\\n\\n=== Parks ===\\n\\nThe City of New York has a complex park system, with various lands operated by the National Park Service, the New York State Office of Parks, Recreation and Historic Preservation, and the New York City Department of Parks and Recreation. In its 2018 ParkScore ranking, The Trust for Public Land reported that the park system in New York City was the ninth-best park system among the fifty most populous U.S. cities. ParkScore ranks urban park systems by a formula that analyzes median park size, park acres as percent of city area, the percent of city residents within a half-mile of a park, spending of park services per resident, and the number of playgrounds per 10,000 residents.\\n\\n\\n==== National parks ====\\n\\nGateway National Recreation Area contains over 26,000 acres (110 km2) in total, most of it surrounded by New York City, including the Jamaica Bay Wildlife Refuge. In Brooklyn and Queens, the park contains over 9,000 acres (36 km2) of salt marsh, wetlands, islands, and water, including most of Jamaica Bay. Also in Queens, the park includes a significant portion of the western Rockaway Peninsula, most notably Jacob Riis Park and Fort Tilden. In Staten Island, Gateway National Recreation Area includes Fort Wadsworth, with historic pre-Civil War era Battery Weed and Fort Tompkins, and Great Kills Park, with beaches, trails, and a marina.\\nThe Statue of Liberty National Monument and Ellis Island Immigration Museum are managed by the National Park Service and are in both the states of New York and New Jersey. They are joined in the harbor by Governors Island National Monument, in New York. Historic sites under federal management on Manhattan Island include Castle Clinton National Monument; Federal Hall National Memorial; Theodore Roosevelt Birthplace National Historic Site; General Grant National Memorial (\"Grant\\'s Tomb\"); African Burial Ground National Monument; and Hamilton Grange National Memorial. Hundreds of private properties are listed on the National Register of Historic Places or as a National Historic Landmark such as, for example, the Stonewall Inn, part of the Stonewall National Monument in Greenwich Village, as the catalyst of the modern gay rights movement.\\n\\n\\n==== State parks ====\\n\\nThere are seven state parks within the confines of New York City, including Clay Pit Ponds State Park Preserve, a natural area that includes extensive riding trails, and Riverbank State Park, a 28-acre (11 ha) facility that rises 69 feet (21 m) over the Hudson River.\\n\\n\\n==== City parks ====\\n\\nNew York City has over 28,000 acres (110 km2) of municipal parkland and 14 miles (23 km) of public beaches. The largest municipal park in the city is Pelham Bay Park in the Bronx, with 2,772 acres (1,122 ha).\\nCentral Park, an 843-acre (3.41 km2) park in middle-upper Manhattan, is the most visited urban park in the United States and one of the most filmed locations in the world, with 40 million visitors in 2013. The park has a wide range of attractions; there are several lakes and ponds, two ice-skating rinks, the Central Park Zoo, the Central Park Conservatory Garden, and the 106-acre (0.43 km2) Jackie Onassis Reservoir. Indoor attractions include Belvedere Castle with its nature center, the Swedish Cottage Marionette Theater, and the historic Carousel. On October 23, 2012, hedge fund manager John A. Paulson announced a $100 million gift to the Central Park Conservancy, the largest ever monetary donation to New York City\\'s park system.\\nWashington Square Park is a prominent landmark in the Greenwich Village neighborhood of Lower Manhattan. The Washington Square Arch at the northern gateway to the park is an iconic symbol of both New York University and Greenwich Village.\\nProspect Park in Brooklyn has a 90-acre (36 ha) meadow, a lake, and extensive woodlands. Within the park is the historic Battle Pass, prominent in the Battle of Long Island.\\nFlushing Meadows–Corona Park in Queens, with its 897 acres (363 ha) making it the city\\'s fourth largest park, was the setting for the 1939 World\\'s Fair and the 1964 World\\'s Fair and is host to the USTA Billie Jean King National Tennis Center and the annual U.S. Open Tennis Championships tournament.\\nOver a fifth of the Bronx\\'s area, 7,000 acres (28 km2), is given over to open space and parks, including Pelham Bay Park, Van Cortlandt Park, the Bronx Zoo, and the New York Botanical Gardens.\\nIn Staten Island, the Conference House Park contains the historic Conference House, site of the only attempt of a peaceful resolution to the American Revolution which was conducted in September 1775, attended by Benjamin Franklin representing the Americans and Lord Howe representing the British Crown. The historic Burial Ridge, the largest Native American burial ground within New York City, is within the park.\\n\\n\\n=== Military installations ===\\nBrooklyn is home to Fort Hamilton, the U.S. military\\'s only active duty installation within New York City, aside from Coast Guard operations. The facility was established in 1825 on the site of a small battery utilized during the American Revolution, and it is one of America\\'s longest serving military forts. Today Fort Hamilton serves as the headquarters of the North Atlantic Division of the United States Army Corps of Engineers and for the New York City Recruiting Battalion. It also houses the 1179th Transportation Brigade, the 722nd Aeromedical Staging Squadron, and a military entrance processing station. Other formerly active military reservations still utilized for National Guard and military training or reserve operations in the city include Fort Wadsworth in Staten Island and Fort Totten in Queens.\\n\\n\\n== Demographics ==\\n\\nNew York City is the most populous city in the United States, with an estimated 8,336,817 residents as of July 2019, incorporating more immigration into the city than outmigration since the 2010 United States Census. More than twice as many people live in New York City as compared to Los Angeles, the second-most populous U.S. city, and within a smaller area. New York City gained more residents between April 2010 and July 2014 (316,000) than any other U.S. city. New York City\\'s population is about 43% of New York State\\'s population, and about 36% of the population of the New York metropolitan area.\\n\\n\\n=== Population density ===\\nIn 2017, the city had an estimated population density of 28,491 inhabitants per square mile (11,000/km2), rendering it the nation\\'s most densely populated of all municipalities (of more than 100,000), with several small cities (of fewer than 100,000) in adjacent Hudson County, New Jersey having greater density, as per the 2010 census. Geographically co-extensive with New York County, the borough of Manhattan\\'s 2017 population density of 72,918 inhabitants per square mile (28,154/km2) makes it the highest of any county in the United States and higher than the density of any individual American city.\\n\\n\\n=== Race and ethnicity ===\\n\\nThe city\\'s population in 2010 was 44% white (33.3% non-Hispanic white), 25.5% Black or African American (23% non-Hispanic black), 0.7% Native American or Alaska Native, and 12.7% Asian. Hispanics or Latinos of any race represented 28.6% of the population, while Asians constituted the fastest-growing segment of the city\\'s population between 2000 and 2010; the non-Hispanic white population declined three percent, the smallest recorded decline in decades; and for the first time since the U.S. Civil War, the number of blacks declined over a decade. Throughout its history, New York has been a major port of entry for immigrants into the United States. More than 12 million European immigrants were received at Ellis Island between 1892 and 1924. The term \"melting pot\" was first coined to describe densely populated immigrant neighborhoods on the Lower East Side. By 1900, Germans constituted the largest immigrant group, followed by the Irish, Jews, and Italians. In 1940, whites represented 92% of the city\\'s population.Approximately 37% of the city\\'s population is foreign born, and more than half of all children are born to mothers who are immigrants as of 2013. In New York, no single country or region of origin dominates. The ten largest sources of foreign-born individuals in the city as of 2011 were the Dominican Republic, China, Mexico, Guyana, Jamaica, Ecuador, Haiti, India, Russia, and Trinidad and Tobago, while the Bangladeshi-born immigrant population has become one of the fastest growing in the city, counting over 74,000 by 2011.\\n\\nAsian Americans in New York City, according to the 2010 census, number more than one million, greater than the combined totals of San Francisco and Los Angeles. New York contains the highest total Asian population of any U.S. city proper. The New York City borough of Queens is home to the state\\'s largest Asian American population and the largest Andean (Colombian, Ecuadorian, Peruvian, and Bolivian) populations in the United States, and is also the most ethnically diverse urban area in the world.The Chinese population constitutes the fastest-growing nationality in New York State; multiple satellites of the original Manhattan Chinatown, in Brooklyn, and around Flushing, Queens, are thriving as traditionally urban enclaves—while also expanding rapidly eastward into suburban Nassau County on Long Island, as the New York metropolitan region and New York State have become the top destinations for new Chinese immigrants, respectively, and large-scale Chinese immigration continues into New York City and surrounding areas, with the largest metropolitan Chinese diaspora outside Asia, including an estimated 812,410 individuals in 2015.In 2012, 6.3% of New York City was of Chinese ethnicity, with nearly three-fourths living in either Queens or Brooklyn, geographically on Long Island. A community numbering 20,000 Korean-Chinese (Chaoxianzu or Joseonjok) is centered in Flushing, Queens, while New York City is also home to the largest Tibetan population outside China, India, and Nepal, also centered in Queens. Koreans made up 1.2% of the city\\'s population, and Japanese 0.3%. Filipinos were the largest Southeast Asian ethnic group at 0.8%, followed by Vietnamese, who made up 0.2% of New York City\\'s population in 2010. Indians are the largest South Asian group, comprising 2.4% of the city\\'s population, with Bangladeshis and Pakistanis at 0.7% and 0.5%, respectively. Queens is the preferred borough of settlement for Asian Indians, Koreans, Filipinos and Malaysians, and other Southeast Asians; while Brooklyn is receiving large numbers of both West Indian and Asian Indian immigrants.\\nNew York City has the largest European and non-Hispanic white population of any American city. At 2.7 million in 2012, New York\\'s non-Hispanic white population is larger than the non-Hispanic white populations of Los Angeles (1.1 million), Chicago (865,000), and Houston (550,000) combined. The non-Hispanic white population was 6.6 million in 1940. The non-Hispanic white population has begun to increase since 2010.The European diaspora residing in the city is very diverse. According to 2012 Census estimates, there were roughly 560,000 Italian Americans, 385,000 Irish Americans, 253,000 German Americans, 223,000 Russian Americans, 201,000 Polish Americans, and 137,000 English Americans. Additionally, Greek and French Americans numbered 65,000 each, with those of Hungarian descent estimated at 60,000 people. Ukrainian and Scottish Americans numbered 55,000 and 35,000, respectively. People identifying ancestry from Spain numbered 30,838 total in 2010.People of Norwegian and Swedish descent both stood at about 20,000 each, while people of Czech, Lithuanian, Portuguese, Scotch-Irish, and Welsh descent all numbered between 12,000 and 14,000. Arab Americans number over 160,000 in New York City, with the highest concentration in Brooklyn. Central Asians, primarily Uzbek Americans, are a rapidly growing segment of the city\\'s non-Hispanic white population, enumerating over 30,000, and including more than half of all Central Asian immigrants to the United States, most settling in Queens or Brooklyn. Albanian Americans are most highly concentrated in the Bronx.The wider New York City metropolitan statistical area, with more than twenty million people, about fifty percent more than second-place Los Angeles, is also ethnically diverse, with the largest foreign-born population of any metropolitan region in the world. The New York region continues to be by far the leading metropolitan gateway for legal immigrants admitted into the United States, substantially exceeding the combined totals of Los Angeles and Miami. It is home to the largest Jewish and Israeli communities outside Israel, with the Jewish population in the region numbering over 1.5 million in 2012 and including many diverse Jewish sects, predominantly from around the Middle East and Eastern Europe, and including a rapidly growing Orthodox Jewish population, the largest outside Israel.The metropolitan area is also home to 20% of the nation\\'s Indian Americans and at least 20 Little India enclaves, and 15% of all Korean Americans and four Koreatowns; the largest Asian Indian population in the Western Hemisphere; the largest Russian American, Italian American, and African American populations; the largest Dominican American, Puerto Rican American, and South American and second-largest overall Hispanic population in the United States, numbering 4.8 million; and includes multiple established Chinatowns within New York City alone.Ecuador, Colombia, Guyana, Peru, and Brazil were the top source countries from South America for legal immigrants to the New York City region in 2013; the Dominican Republic, Jamaica, Haiti, and Trinidad and Tobago in the Caribbean; Egypt, Ghana, and Nigeria from Africa; and El Salvador, Honduras, and Guatemala in Central America. Amidst a resurgence of Puerto Rican migration to New York City, this population had increased to approximately 1.3 million in the metropolitan area as of 2013.\\nSince 2010, a Little Australia has emerged and is growing rapidly representing the Australasian presence in Nolita, Manhattan. In 2011, there were an estimated 20,000 Australian residents of New York City, nearly quadruple the 5,537 in 2005. Qantas Airways of Australia and Air New Zealand have been exploring the possibilities of long-haul flights from New York to Sydney and Auckland, respectively, which would both rank among the longest non-stop flights in the world. A Little Sri Lanka has developed in the Tompkinsville neighborhood of Staten Island.\\n\\n\\n=== Sexual orientation and gender identity ===\\n\\nThe New York metropolitan area is home to a prominent self-identifying gay and bisexual community estimated at nearly 570,000 individuals, the largest in the United States and one of the world\\'s largest. Same-sex marriages in New York were legalized on June 24, 2011 and were authorized to take place beginning 30 days thereafter. Charles Kaiser, author of The Gay Metropolis: The Landmark History of Gay Life in America, wrote that in the era after World War II, \"New York City became the literal gay metropolis for hundreds of thousands of immigrants from within and without the United States: the place they chose to learn how to live openly, honestly and without shame.\"The annual New York City Pride March (or gay pride parade) traverses southward down Fifth Avenue and ends at Greenwich Village in Lower Manhattan; the parade rivals the Sao Paulo Gay Pride Parade as the largest pride parade in the world, attracting tens of thousands of participants and millions of sidewalk spectators each June. The annual Queens Pride Parade is held in Jackson Heights and is accompanied by the ensuing Multicultural Parade. Stonewall 50 – WorldPride NYC 2019 was the largest international Pride celebration in history, produced by Heritage of Pride and enhanced through a partnership with the I ❤ NY program\\'s LGBT division, commemorating the 50th anniversary of the Stonewall uprising, with 150,000 participants and five million spectators attending in Manhattan alone. New York City is also home to the largest transgender population in the world, estimated at more than 50,000 in 2018, concentrated in Manhattan and Queens; however, until the June 1969 Stonewall riots, this community had felt marginalized and neglected by the gay community. Brooklyn Liberation March, the largest transgender-rights demonstration in LGBTQ history, took place on June 14, 2020 stretching from Grand Army Plaza to Fort Greene, Brooklyn, focused on supporting Black transgender lives, drawing an estimated 15,000 to 20,000 participants.\\n\\n\\n=== Religion ===\\n\\nThe New York area is the 14th-most religious metropolis in the United States. Largely a result of Western European missionary work and colonialism, Christianity is the largest religion as of 2014. Roman Catholicism is the largest Christian denomination (33%), followed by Protestantism (23%), and other Christians (3%). The Roman Catholic population are primarily served by the Roman Catholic Archdiocese of New York. Eastern Catholics are divided into numerous jurisdictions throughout the city. Evangelical Protestantism is the largest branch of Protestantism in the city (9%), followed by Mainline Protestantism (8%), while the converse is usually true for other cities and metropolitan areas. In Evangelicalism, Baptists are the largest group; in Mainline Protestantism, Reformed Protestants are the largest. The majority of historically African American churches are affiliated with the National Baptist Convention (USA) and Progressive National Baptist Convention. The Church of God in Christ is one of the largest predominantly-black Pentecostal denominations in the area. Less than 1% of the population was Mormon. The Greek Orthodox Archdiocese of America and other Orthodox Christians (mainstream and independent) were the largest Eastern Christian groups. The American Orthodox Catholic Church (initially led by Aftimios Ofiesh) was founded in New York City in 1927.\\n\\nJudaism, with approximately 1.1 million adherents, more than half of whom live in Brooklyn, is the second largest religion. The ethnoreligious population makes up 18.4% of the city and its religious demographic makes up 8%. The first recorded Jewish settler was Jacob Barsimson, who arrived in August 1654 on a passport from the Dutch West India Company. Following the assassination of Alexander II of Russia, for which many blamed \"the Jews\", the 36 years beginning in 1881 experienced the largest wave of Jewish immigration to the United States. In 2012, the largest Jewish denominations were Orthodox, Haredi, and Conservative Judaism. Reform Jewish communities are prevalent through the area. Congregation Emanu-El of New York in Manhattan is the largest Reform synagogue in the world. Islam ranks the third largest religion in New York City, with estimates ranging between 600,000 and 1,000,000 observers, including 10% of the city\\'s public school children. Powers Street Mosque in Brooklyn is one of the oldest continuously operating mosques in the U.S., and the first Islamic organization in the city and state. These three largest groups are followed by Hinduism, Buddhism, Sikhism and Zoroastrianism, and a variety of other religions, as well as atheism. In 2014, 24% of New Yorkers self-identified with no organized religious affiliation; a little over 3% of New Yorkers were atheist.\\n\\n\\n=== Wealth and income disparity ===\\nNew York City has a high degree of income disparity as indicated by its Gini Coefficient of 0.5 for the city overall and 0.6 for Manhattan, as of 2006. (This is not unusual, as all large cities have greater income disparities than the nation overall.) In the first quarter of 2014, the average weekly wage in New York County (Manhattan) was $2,749, representing the highest total among large counties in the United States. As of 2017, New York City was home to the highest number of billionaires of any city in the world at 103, including former Mayor Michael Bloomberg. New York also had the highest density of millionaires per capita among major U.S. cities in 2014, at 4.6% of residents. New York City is one of the relatively few American cities levying an income tax (about 3%) on its residents. As of 2018, there were 78,676 homeless people in New York City.\\n\\n\\n== Economy ==\\n\\nNew York City is a global hub of business and commerce, as a center for banking and finance, retailing, world trade, transportation, tourism, real estate, new media, traditional media, advertising, legal services, accountancy, insurance, theater, fashion, and the arts in the United States; while Silicon Alley, metonymous for New York\\'s broad-spectrum high technology sphere, continues to expand. The Port of New York and New Jersey is also a major economic engine, handling record cargo volume in 2017, over 6.7 million TEUs. New York City\\'s unemployment rate fell to its record low of 4.0% in September 2018.Many Fortune 500 corporations are headquartered in New York City, as are a large number of multinational corporations. One out of ten private sector jobs in the city is with a foreign company. New York City has been ranked first among cities across the globe in attracting capital, business, and tourists. New York City\\'s role as the top global center for the advertising industry is metonymously reflected as \"Madison Avenue\". The city\\'s fashion industry provides approximately 180,000 employees with $11 billion in annual wages.Other important sectors include medical research and technology, non-profit institutions, and universities. Manufacturing accounts for a significant but declining share of employment. The city\\'s apparel and garment industry, historically centered on the Garment District in Manhattan, peaked in 1950, when more than 323,000 workers were employed in the industry in New York. In 2015, fewer than 23,000 New York City residents were employed in the manufacture of garments, accessories, and finished textiles, although efforts to revive the industry were underway. Food processing is a $5 billion industry that employs more than 19,000 residents.\\nChocolate is New York City\\'s leading specialty-food export, with up to $234 million worth of exports each year. Entrepreneurs were forming a \"Chocolate District\" in Brooklyn as of 2014, while Godiva, one of the world\\'s largest chocolatiers, continues to be headquartered in Manhattan.\\n\\n\\n=== Wall Street ===\\n\\nNew York City\\'s most important economic sector lies in its role as the headquarters for the U.S. financial industry, metonymously known as Wall Street. The city\\'s securities industry, enumerating 163,400 jobs in August 2013, continues to form the largest segment of the city\\'s financial sector and an important economic engine, accounting in 2012 for 5.0 percent of the city\\'s private sector jobs, 8.5 percent ($3.8 billion) of its tax revenue, and 22 percent of the city\\'s total wages, including an average salary of $360,700. Many large financial companies are headquartered in New York City, and the city is also home to a burgeoning number of financial startup companies.\\nLower Manhattan is home to the New York Stock Exchange, on Wall Street, and the NASDAQ, at 165 Broadway, representing the world\\'s largest and second largest stock exchanges, respectively, when measured both by overall average daily trading volume and by total market capitalization of their listed companies in 2013. Investment banking fees on Wall Street totaled approximately $40 billion in 2012, while in 2013, senior New York City bank officers who manage risk and compliance functions earned as much as $324,000 annually. In fiscal year 2013–14, Wall Street\\'s securities industry generated 19% of New York State\\'s tax revenue.New York City remains the largest global center for trading in public equity and debt capital markets, driven in part by the size and financial development of the U.S. economy. New York also leads in hedge fund management; private equity; and the monetary volume of mergers and acquisitions. Several investment banks and investment managers headquartered in Manhattan are important participants in other global financial centers. New York is also the principal commercial banking center of the United States.Many of the world\\'s largest media conglomerates are also based in the city. Manhattan contained over 500 million square feet (46.5 million m2) of office space in 2018, making it the largest office market in the United States, while Midtown Manhattan, with 400 million square feet (37.2 million m2) in 2018, is the largest central business district in the world.\\n\\n\\n=== Tech and biotech ===\\n\\nSilicon Alley, centered in Manhattan, has evolved into a metonym for the sphere encompassing the New York City metropolitan region\\'s high technology industries involving the Internet, new media, telecommunications, digital media, software development, game design, financial technology (\"FinTech\"), and other fields within information technology that are supported by its entrepreneurship ecosystem and venture capital investments. In 2015, Silicon Alley generated over $7.3 billion in venture capital investment across a broad spectrum of high technology enterprises, most based in Manhattan, with others in Brooklyn, Queens, and elsewhere in the region.\\nHigh technology startup companies and employment are growing in New York City and the region, bolstered by the city\\'s position in North America as the leading Internet hub and telecommunications center, including its vicinity to several transatlantic fiber optic trunk lines, New York\\'s intellectual capital, and its extensive outdoor wireless connectivity. Verizon Communications, headquartered at 140 West Street in Lower Manhattan, was at the final stages in 2014 of completing a $3 billion fiberoptic telecommunications upgrade throughout New York City. As of 2014, New York City hosted 300,000 employees in the tech sector. The technology sector has been claiming a greater share of New York City\\'s economy since 2010. Tech:NYC, founded in 2016, is a non-profit organization which represents New York City\\'s technology industry with government, civic institutions, in business, and in the media, and whose primary goals are to further augment New York\\'s substantial tech talent base and to advocate for policies that will nurture tech companies to grow in the city.The biotechnology sector is also growing in New York City, based upon the city\\'s strength in academic scientific research and public and commercial financial support. On December 19, 2011, then Mayor Michael R. Bloomberg announced his choice of Cornell University and Technion-Israel Institute of Technology to build a $2 billion graduate school of applied sciences called Cornell Tech on Roosevelt Island with the goal of transforming New York City into the world\\'s premier technology capital. By mid-2014, Accelerator, a biotech investment firm, had raised more than $30 million from investors, including Eli Lilly and Company, Pfizer, and Johnson & Johnson, for initial funding to create biotechnology startups at the Alexandria Center for Life Science, which encompasses more than 700,000 square feet (65,000 m2) on East 29th Street and promotes collaboration among scientists and entrepreneurs at the center and with nearby academic, medical, and research institutions. The New York City Economic Development Corporation\\'s Early Stage Life Sciences Funding Initiative and venture capital partners, including Celgene, General Electric Ventures, and Eli Lilly, committed a minimum of $100 million to help launch 15 to 20 ventures in life sciences and biotechnology.\\n\\n\\n=== Real estate ===\\n\\nReal estate is a major force in the city\\'s economy, as the total value of all New York City property was assessed at $1.072 trillion for the 2017 fiscal year, an increase of 10.6% from the previous year, with 89% of the increase coming from market effects. The Time Warner Center is the property with the highest-listed market value in the city, at $1.1 billion in 2006. New York City is home to some of the nation\\'s—and the world\\'s—most valuable real estate. 450 Park Avenue was sold on July 2, 2007 for $510 million, about $1,589 per square foot ($17,104/m²), breaking the barely month-old record for an American office building of $1,476 per square foot ($15,887/m²) set in the June 2007 sale of 660 Madison Avenue.In 2014, Manhattan was home to six of the top ten ZIP codes in the United States by median housing price. Fifth Avenue in Midtown Manhattan commands the highest retail rents in the world, at $3,000 per square foot ($32,000/m2) in 2017. In 2019, the most expensive home sale ever in the United States achieved completion in Manhattan, at a selling price of $238 million, for a 24,000 square feet (2,200 m2) penthouse apartment overlooking Central Park.\\n\\n\\n==== Rental housing ====\\nIn June 2019, sweeping reforms to NYC rental properties were made. In January 2020, the New York State Department of State issued clarifying guidelines to the reforms that provided for the elimination of decades of broker fees, which have been unique to the NYC housing market in the United States.\\n\\n\\n=== Tourism ===\\n\\nTourism is a vital industry for New York City, which has witnessed a growing combined volume of international and domestic tourists, receiving an eighth consecutive annual record of approximately 62.8 million visitors in 2017. Tourism had generated an all-time high $61.3 billion in overall economic impact for New York City in 2014, pending 2015 statistics. Approximately 12 million visitors to New York City were from outside the United States, with the highest numbers from the United Kingdom, Canada, Brazil, and China.I Love New York (stylized I ❤ NY) is both a logo and a song that are the basis of an advertising campaign and have been used since 1977 to promote tourism in New York City, and later to promote New York State as well. The trademarked logo, owned by New York State Empire State Development, appears in souvenir shops and brochures throughout the city and state, some licensed, many not. The song is the state song of New York.\\nMajor tourist destinations include Times Square; Broadway theater productions; the Empire State Building; the Statue of Liberty; Ellis Island; the United Nations Headquarters; museums such as the Metropolitan Museum of Art; greenspaces such as Central Park and Washington Square Park; Rockefeller Center; the Manhattan Chinatown; luxury shopping along Fifth and Madison Avenues; and events such as the Halloween Parade in Greenwich Village; the Macy\\'s Thanksgiving Day Parade; the lighting of the Rockefeller Center Christmas Tree; the St. Patrick\\'s Day parade; seasonal activities such as ice skating in Central Park in the wintertime; the Tribeca Film Festival; and free performances in Central Park at Summerstage.Major attractions in the boroughs outside Manhattan include Flushing Meadows-Corona Park and the Unisphere in Queens; the Bronx Zoo; Coney Island, Brooklyn; and the New York Botanical Garden in the Bronx. The New York Wheel, a 630-foot ferris wheel, was under construction at the northern shore of Staten Island in 2015, overlooking the Statue of Liberty, New York Harbor, and the Lower Manhattan skyline. Manhattan was on track to have an estimated 90,000 hotel rooms at the end of 2014, a 10% increase from 2013. In October 2014, the Anbang Insurance Group, based in China, purchased the Waldorf Astoria New York for $1.95 billion, making it the world\\'s most expensive hotel ever sold.\\n\\n\\n=== Media and entertainment ===\\n\\nNew York is a prominent location for the American entertainment industry, with many films, television series, books, and other media being set there. As of 2012, New York City was the second largest center for filmmaking and television production in the United States, producing about 200 feature films annually, employing 130,000 individuals. The filmed entertainment industry has been growing in New York, contributing nearly $9 billion to the New York City economy alone as of 2015. By volume, New York is the world leader in independent film production—one-third of all American independent films are produced there. The Association of Independent Commercial Producers is also based in New York. In the first five months of 2014 alone, location filming for television pilots in New York City exceeded the record production levels for all of 2013, with New York surpassing Los Angeles as the top North American city for the same distinction during the 2013–2014 cycle.New York City is also a center for the advertising, music, newspaper, digital media, and publishing industries and is also the largest media market in North America. Some of the city\\'s media conglomerates and institutions include Time Warner, the Thomson Reuters Corporation, the Associated Press, Bloomberg L.P., the News Corporation, The New York Times Company, NBCUniversal, the Hearst Corporation, AOL, and Viacom. Seven of the world\\'s top eight global advertising agency networks have their headquarters in New York. Two of the top three record labels\\' headquarters are in New York: Sony Music Entertainment and Warner Music Group. Universal Music Group also has offices in New York. New media enterprises are contributing an increasingly important component to the city\\'s central role in the media sphere.\\nMore than 200 newspapers and 350 consumer magazines have an office in the city, and the publishing industry employs about 25,000 people. Two of the three national daily newspapers with the largest circulations in the United States are published in New York: The Wall Street Journal and The New York Times, which has won the most Pulitzer Prizes for journalism. Major tabloid newspapers in the city include The New York Daily News, which was founded in 1919 by Joseph Medill Patterson, and The New York Post, founded in 1801 by Alexander Hamilton. The city also has a comprehensive ethnic press, with 270 newspapers and magazines published in more than 40 languages. El Diario La Prensa is New York\\'s largest Spanish-language daily and the oldest in the nation. The New York Amsterdam News, published in Harlem, is a prominent African American newspaper. The Village Voice, historically the largest alternative newspaper in the United States, announced in 2017 that it would cease publication of its print edition and convert to a fully digital venture.\\n\\nThe television and radio industry developed in New York and is a significant employer in the city\\'s economy. The three major American broadcast networks are all headquartered in New York: ABC, CBS, and NBC. Many cable networks are based in the city as well, including MTV, Fox News, HBO, Showtime, Bravo, Food Network, AMC, and Comedy Central. News 12 Networks operated News 12 The Bronx and News 12 Brooklyn. The City of New York operates a public broadcast service, NYC Media, that has produced several original Emmy Award-winning shows covering music and culture in city neighborhoods and city government. WBAI, with news and information programming, is one of the few socialist radio stations operating in the United States.\\nNew York is also a major center for non-commercial educational media. The oldest public-access television channel in the United States is the Manhattan Neighborhood Network, founded in 1971. WNET is the city\\'s major public television station and a primary source of national Public Broadcasting Service (PBS) television programming. WNYC, a public radio station owned by the city until 1997, has the largest public radio audience in the United States.\\n\\n\\n== Education and scholarly activity ==\\n\\n\\n=== Primary and secondary education ===\\nThe New York City Public Schools system, managed by the New York City Department of Education, is the largest public school system in the United States, serving about 1.1 million students in more than 1,700 separate primary and secondary schools. The city\\'s public school system includes nine specialized high schools to serve academically and artistically gifted students. The city government pays the Pelham Public Schools to educate a very small, detached section of the Bronx.\\n\\nThe New York City Charter School Center assists the setup of new charter schools. There are approximately 900 additional privately run secular and religious schools in the city.\\n\\n\\n=== Higher education and research ===\\nMore than 600,000 students are enrolled in New York City\\'s more than 120 higher education institutions, the highest number of any city in the world, with more than half a million in the City University of New York (CUNY) system alone as of 2020, including both degree and professional programs. According to Academic Ranking of World Universities, New York City has, on average, the best higher education institutions of any global city. New York City is home to such notable private universities as Barnard College, Columbia University, Cooper Union, Fordham University, New York University, New York Institute of Technology, Rockefeller University, and Yeshiva University; several of these universities are ranked among the top universities in the world.The public CUNY system is one of the largest universities in the nation, comprising 24 institutions across all five boroughs: senior colleges, community colleges, and other graduate/professional schools. The public State University of New York (SUNY) system includes campuses in New York City, including: Downstate Health Sciences University, Fashion Institute of Technology, Maritime College, and the College of Optometry. The city also hosts other smaller private colleges and universities, including many religious and special-purpose institutions, such as: St. John\\'s University, The Juilliard School, Manhattan College, The College of Mount Saint Vincent, Parsons School of Design, The New School, Pratt Institute, New York Film Academy, The School of Visual Arts, The King\\'s College, and Wagner College.\\nMuch of the scientific research in the city is done in medicine and the life sciences. New York City has the most postgraduate life sciences degrees awarded annually in the United States, with 127 Nobel laureates having roots in local institutions as of 2005; while in 2012, 43,523 licensed physicians were practicing in New York City. Major biomedical research institutions include Memorial Sloan–Kettering Cancer Center, Rockefeller University, SUNY Downstate Medical Center, Albert Einstein College of Medicine, Mount Sinai School of Medicine, and Weill Cornell Medical College, being joined by the Cornell University/Technion-Israel Institute of Technology venture on Roosevelt Island. The graduates of SUNY Maritime College in the Bronx earned the highest average annual salary of any university graduates in the United States, $144,000 as of 2017.\\n\\n\\n== Human resources ==\\n\\n\\n=== Public health ===\\n\\nThe New York City Health and Hospitals Corporation (HHC) operates the public hospitals and clinics in New York City. A public benefit corporation with $6.7 billion in annual revenues, HHC is the largest municipal healthcare system in the United States serving 1.4 million patients, including more than 475,000 uninsured city residents. HHC was created in 1969 by the New York State Legislature as a public benefit corporation (Chapter 1016 of the Laws 1969). HHC operates 11 acute care hospitals, five nursing homes, six diagnostic and treatment centers, and more than 70 community-based primary care sites, serving primarily the poor and working class. HHC\\'s MetroPlus Health Plan is one of the New York area\\'s largest providers of government-sponsored health insurance and is the plan of choice for nearly half million New Yorkers.HHC\\'s facilities annually provide millions of New Yorkers services interpreted in more than 190 languages. The most well-known hospital in the HHC system is Bellevue Hospital, the oldest public hospital in the United States. Bellevue is the designated hospital for treatment of the President of the United States and other world leaders if they become sick or injured while in New York City. The president of HHC is Ramanathan Raju, MD, a surgeon and former CEO of the Cook County health system in Illinois. In August 2017, Mayor Bill de Blasio signed legislation outlawing pharmacies from selling cigarettes once their existing licenses to do so expired, beginning in 2018.\\n\\n\\n=== Public safety ===\\n\\n\\n==== Police and law enforcement ====\\n\\nThe New York Police Department (NYPD) has been the largest police force in the United States by a significant margin, with more than 35,000 sworn officers. Members of the NYPD are frequently referred to by politicians, the media, and their own police cars by the nickname, New York\\'s Finest.\\n\\nCrime has continued an overall downward trend in New York City since the 1990s. In 2012, the NYPD came under scrutiny for its use of a stop-and-frisk program, which has undergone several policy revisions since then. In 2014, New York City had the third lowest murder rate among the largest U.S. cities, having become significantly safer after a spike in crime in the 1970s through 1990s. Violent crime in New York City decreased more than 75% from 1993 to 2005, and continued decreasing during periods when the nation as a whole saw increases. By 2002, New York City was ranked 197th in crime among the 216 U.S. cities with populations greater than 100,000. In 1992, the city recorded 2,245 murders. In 2005, the homicide rate was at its lowest level since 1966, and in 2009, the city recorded fewer than 461 homicides for the first time ever since crime statistics were first published in 1963. In 2017, 60.1% of violent crime suspects were black, 29.6% Hispanic, 6.5% white, 3.6% Asian and 0.2% American Indian. New York City experienced 292 homicides in 2017,Sociologists and criminologists have not reached consensus on the explanation for the dramatic decrease in the city\\'s crime rate. Some attribute the phenomenon to new tactics used by the NYPD, including its use of CompStat and the broken windows theory. Others cite the end of the crack epidemic and demographic changes, including from immigration. Another theory is that widespread exposure to lead pollution from automobile exhaust, which can lower intelligence and increase aggression levels, incited the initial crime wave in the mid-20th century, most acutely affecting heavily trafficked cities like New York. A strong correlation was found demonstrating that violent crime rates in New York and other big cities began to fall after lead was removed from American gasoline in the 1970s. Another theory cited to explain New York City\\'s falling homicide rate is the inverse correlation between the number of murders and the increasingly wet climate in the city.Organized crime has long been associated with New York City, beginning with the Forty Thieves and the Roach Guards in the Five Points in the 1820s. The 20th century saw a rise in the Mafia, dominated by the Five Families, as well as in gangs, including the Black Spades. The Mafia and gang presence has declined in the city in the 21st century.\\n\\n\\n==== Firefighting ====\\n\\nThe Fire Department of New York (FDNY), provides fire protection, technical rescue, primary response to biological, chemical, and radioactive hazards, and emergency medical services for the five boroughs of New York City. The FDNY is the largest municipal fire department in the United States and the second largest in the world after the Tokyo Fire Department. The FDNY employs approximately 11,080 uniformed firefighters and more than 3,300 uniformed EMTs and paramedics. The FDNY\\'s motto is New York\\'s Bravest.\\nThe fire department faces multifaceted firefighting challenges in many ways unique to New York. In addition to responding to building types that range from wood-frame single family homes to high-rise structures, the FDNY also responds to fires that occur in the New York City Subway. Secluded bridges and tunnels, as well as large parks and wooded areas that can give rise to brush fires, also present challenges.\\nThe FDNY headquarters is located at 9 MetroTech Center in Downtown Brooklyn, and the FDNY Fire Academy is located on Randalls Island. There are three Bureau of Fire Communications alarm offices which receive and dispatch alarms to appropriate units. One office, at 11 Metrotech Center in Brooklyn, houses Manhattan/Citywide, Brooklyn, and Staten Island Fire Communications; the Bronx and Queens offices are in separate buildings.\\n\\n\\n=== Public library system ===\\n\\nThe New York Public Library, which has the largest collection of any public library system in the United States, serves Manhattan, the Bronx, and Staten Island. Queens is served by the Queens Borough Public Library, the nation\\'s second largest public library system, while the Brooklyn Public Library serves Brooklyn.\\n\\n\\n== Culture and contemporary life ==\\nNew York City has been described as the cultural capital of the world by New York\\'s Baruch College. A book containing a series of essays titled New York, Culture Capital of the World, 1940–1965 has also been published as showcased by the National Library of Australia. In describing New York, author Tom Wolfe said, \"Culture just seems to be in the air, like part of the weather.\"Numerous major American cultural movements began in the city, such as the Harlem Renaissance, which established the African-American literary canon in the United States. The city was a center of jazz in the 1940s, abstract expressionism in the 1950s, and the birthplace of hip hop in the 1970s. The city\\'s punk and hardcore scenes were influential in the 1970s and 1980s. New York has long had a flourishing scene for Jewish American literature.\\nThe city is the birthplace of many cultural movements, including the Harlem Renaissance in literature and visual art; abstract expressionism (also known as the New York School) in painting; and hip hop, punk, salsa, freestyle, Tin Pan Alley, certain forms of jazz, and (along with Philadelphia) disco in music. New York City has been considered the dance capital of the world. The city is also frequently the setting for novels, movies (see List of films set in New York City), and television programs. New York Fashion Week is one of the world\\'s preeminent fashion events and is afforded extensive coverage by the media. New York has also frequently been ranked the top fashion capital of the world on the annual list compiled by the Global Language Monitor.\\n\\n\\n=== Pace ===\\nOne of the most common traits attributed to New York City is its fast pace, which spawned the term New York minute. Journalist Walt Whitman characterized New York\\'s streets as being traversed by \"hurrying, feverish, electric crowds\".\\n\\n\\n=== Arts ===\\nNew York City has more than 2,000 arts and cultural organizations and more than 500 art galleries. The city government funds the arts with a larger annual budget than the National Endowment for the Arts. Wealthy business magnates in the 19th century built a network of major cultural institutions, such as the famed Carnegie Hall and the Metropolitan Museum of Art, that would become internationally established. The advent of electric lighting led to elaborate theater productions, and in the 1880s, New York City theaters on Broadway and along 42nd Street began featuring a new stage form that became known as the Broadway musical. Strongly influenced by the city\\'s immigrants, productions such as those of Harrigan and Hart, George M. Cohan, and others used song in narratives that often reflected themes of hope and ambition. New York City itself is the subject or background of many plays and musicals.\\n\\n\\n==== Performing arts ====\\n\\nBroadway theatre is one of the premier forms of English-language theatre in the world, named after Broadway, the major thoroughfare that crosses Times Square, also sometimes referred to as \"The Great White Way\". Forty-one venues in Midtown Manhattan\\'s Theatre District, each with at least 500 seats, are classified as Broadway theatres. According to The Broadway League, Broadway shows sold approximately $1.27 billion worth of tickets in the 2013–2014 season, an 11.4% increase from $1.139 billion in the 2012–2013 season. Attendance in 2013–2014 stood at 12.21 million, representing a 5.5% increase from the 2012–2013 season\\'s 11.57 million. Performance artists displaying diverse skills are ubiquitous on the streets of Manhattan.\\nLincoln Center for the Performing Arts, anchoring Lincoln Square on the Upper West Side of Manhattan, is home to numerous influential arts organizations, including the Metropolitan Opera, New York City Opera, New York Philharmonic, and New York City Ballet, as well as the Vivian Beaumont Theater, the Juilliard School, Jazz at Lincoln Center, and Alice Tully Hall. The Lee Strasberg Theatre and Film Institute is in Union Square, and Tisch School of the Arts is based at New York University, while Central Park SummerStage presents free music concerts in Central Park.\\n\\n\\n==== Visual arts ====\\n\\nNew York City is home to hundreds of cultural institutions and historic sites. Museum Mile is the name for a section of Fifth Avenue running from 82nd to 105th streets on the Upper East Side of Manhattan, in an area sometimes called Upper Carnegie Hill. The Mile, which contains one of the densest displays of culture in the world, is actually three blocks longer than one mile (1.6 km). Ten museums occupy the length of this section of Fifth Avenue. The tenth museum, the Museum for African Art, joined the ensemble in 2009, although its museum at 110th Street, the first new museum constructed on the Mile since the Guggenheim in 1959, opened in late 2012. In addition to other programming, the museums collaborate for the annual Museum Mile Festival, held each year in June, to promote the museums and increase visitation. Many of the world\\'s most lucrative art auctions are held in New York City.\\n\\n\\n=== Cuisine ===\\n\\nNew York City\\'s food culture includes an array of international cuisines influenced by the city\\'s immigrant history. Central and Eastern European immigrants, especially Jewish immigrants from those regions, brought bagels, cheesecake, hot dogs, knishes, and delicatessens (or delis) to the city. Italian immigrants brought New York-style pizza and Italian cuisine into the city, while Jewish immigrants and Irish immigrants brought pastrami and corned beef, respectively. Chinese and other Asian restaurants, sandwich joints, trattorias, diners, and coffeehouses are ubiquitous throughout the city. Some 4,000 mobile food vendors licensed by the city, many immigrant-owned, have made Middle Eastern foods such as falafel and kebabs examples of modern New York street food. The city is home to \"nearly one thousand of the finest and most diverse haute cuisine restaurants in the world\", according to Michelin. The New York City Department of Health and Mental Hygiene assigns letter grades to the city\\'s restaurants based upon their inspection results. As of 2019, there were 27,043 restaurants in the city, up from 24,865 in 2017. The Queens Night Market in Flushing Meadows–Corona Park attracts more than ten thousand people nightly to sample food from more than 85 countries.\\n\\n\\n=== Parades ===\\n\\nNew York City is well known for its street parades, which celebrate a broad array of themes, including holidays, nationalities, human rights, and major league sports team championship victories. The majority of parades are held in Manhattan. The primary orientation of the annual street parades is typically from north to south, marching along major avenues. The annual Macy\\'s Thanksgiving Day Parade is the world\\'s largest parade, beginning alongside Central Park and processing southward to the flagship Macy\\'s Herald Square store; the parade is viewed on telecasts worldwide and draws millions of spectators in person. Other notable parades including the annual St. Patrick\\'s Day Parade in March, the LGBT Pride March in June, the Greenwich Village Halloween Parade in October, and numerous parades commemorating the independence days of many nations. Ticker-tape parades celebrating championships won by sports teams as well as other heroic accomplishments march northward along the Canyon of Heroes on Broadway from Bowling Green to City Hall Park in Lower Manhattan.\\n\\n\\n=== Accent and dialect ===\\n\\nThe New York area is home to a distinctive regional speech pattern called the New York dialect, alternatively known as Brooklynese or New Yorkese. It has generally been considered one of the most recognizable accents within American English.The traditional New York area accent is characterized as non-rhotic, so that the sound [ɹ] does not appear at the end of a syllable or immediately before a consonant; therefore the pronunciation of the city name as \"New Yawk.\" There is no [ɹ] in words like park [pɑək] or [pɒək] (with vowel backed and diphthongized due to the low-back chain shift), butter [bʌɾə], or here [hiə]. In another feature called the low back chain shift, the [ɔ] vowel sound of words like talk, law, cross, chocolate, and coffee and the often homophonous [ɔr] in core and more are tensed and usually raised more than in General American English. In the most old-fashioned and extreme versions of the New York dialect, the vowel sounds of words like \"girl\" and of words like \"oil\" became a diphthong [ɜɪ]. This is often misperceived by speakers of other accents as a reversal of the er and oy sounds, so that girl is pronounced \"goil\" and oil is pronounced \"erl\"; this leads to the caricature of New Yorkers saying things like \"Joizey\" (Jersey), \"Toidy-Toid Street\" (33rd St.) and \"terlet\" (toilet). The character Archie Bunker from the 1970s television sitcom All in the Family was an example of having used this pattern of speech.\\nThe classic version of the New York City dialect is generally centered on middle and working-class New Yorkers. The influx of non-European immigrants in recent decades has led to changes in this distinctive dialect, and the traditional form of this speech pattern is no longer as prevalent among general New Yorkers as it has been in the past.\\n\\n\\n=== Sports ===\\n\\nNew York City is home to the headquarters of the National Football League, Major League Baseball, the National Basketball Association, the National Hockey League, and Major League Soccer. The New York metropolitan area hosts the most sports teams in the four major North American professional sports leagues with nine, one more than Los Angeles, and has 11 top-level professional sports teams if Major League Soccer is included, also one more than Los Angeles. Participation in professional sports in the city predates all professional leagues, and the city has been continuously hosting professional sports since the birth of the Brooklyn Dodgers in 1882.\\nThe city has played host to more than forty major professional teams in the five sports and their respective competing league. Four of the ten most expensive stadiums ever built worldwide (MetLife Stadium, the new Yankee Stadium, Madison Square Garden, and Citi Field) are located in the New York metropolitan area. Madison Square Garden, its predecessor, the original Yankee Stadium and Ebbets Field, are sporting venues located in New York City, the latter two having been commemorated on U.S. postage stamps. New York was the first of eight American cities to have won titles in all four major leagues (MLB, NHL, NFL and NBA), having done so following the Knicks\\' 1970 title. In 1972, it became the first city to win titles in five sports when the Cosmos won the NASL final.\\nNew York has been described as the \"Capital of Baseball\". There have been 35 Major League Baseball World Series and 73 pennants won by New York teams. It is one of only five metro areas (Los Angeles, Chicago, Baltimore–Washington, and the San Francisco Bay Area being the others) to have two baseball teams. Additionally, there have been 14 World Series in which two New York City teams played each other, known as a Subway Series and occurring most recently in 2000. No other metropolitan area has had this happen more than once (Chicago in 1906, St. Louis in 1944, and the San Francisco Bay Area in 1989).\\nThe city\\'s two Major League Baseball teams are the New York Mets, who play at Citi Field in Queens, and the New York Yankees, who play at Yankee Stadium in the Bronx. These teams compete in six games of interleague play every regular season that has also come to be called the Subway Series. The Yankees have won a record 27 championships, while the Mets have won the World Series twice. The city also was once home to the Brooklyn Dodgers (now the Los Angeles Dodgers), who won the World Series once, and the New York Giants (now the San Francisco Giants), who won the World Series five times. Both teams moved to California in 1958. There are also two Minor League Baseball teams in the city, the Brooklyn Cyclones and Staten Island Yankees.The city is represented in the National Football League by the New York Giants and the New York Jets, although both teams play their home games at MetLife Stadium in nearby East Rutherford, New Jersey, which hosted Super Bowl XLVIII in 2014.The metropolitan area is home to three National Hockey League teams. The New York Rangers, the traditional representative of the city itself and one of the league\\'s Original Six, play at Madison Square Garden in Manhattan. The New York Islanders, traditionally representing Nassau and Suffolk Counties of Long Island, play at Barclays Center in Brooklyn and are planning a return to Nassau County by way of a new arena just outside the border with Queens at Belmont Park. The New Jersey Devils play at Prudential Center in nearby Newark, New Jersey and traditionally represent the counties of neighboring New Jersey which are coextensive with the boundaries of the New York metropolitan area and media market.\\nThe city\\'s National Basketball Association teams are the Brooklyn Nets, which played in and were named for New Jersey until 2012, and the New York Knicks, while the New York Liberty is the city\\'s Women\\'s National Basketball Association team. The first national college-level basketball championship, the National Invitation Tournament, was held in New York in 1938 and remains in the city. The city is well known for its links to basketball, which is played in nearly every park in the city by local youth, many of whom have gone on to play for major college programs and in the NBA.\\nIn soccer, New York City is represented by New York City FC of Major League Soccer, who play their home games at Yankee Stadium and the New York Red Bulls, who play their home games at Red Bull Arena in nearby Harrison, New Jersey. Historically, the city is known for the New York Cosmos, the highly successful former professional soccer team which was the American home of Pelé. A new version of the New York Cosmos was formed in 2010, and began play in the second division North American Soccer League in 2013. The Cosmos play their home games at James M. Shuart Stadium on the campus of Hofstra University, just outside the New York City limits in Hempstead, New York.\\nThe annual United States Open Tennis Championships is one of the world\\'s four Grand Slam tennis tournaments and is held at the National Tennis Center in Flushing Meadows-Corona Park, Queens. The New York City Marathon, which courses through all five boroughs, is the world\\'s largest running marathon, with 51,394 finishers in 2016 and 98,247 applicants for the 2017 race. The Millrose Games is an annual track and field meet whose featured event is the Wanamaker Mile. Boxing is also a prominent part of the city\\'s sporting scene, with events like the Amateur Boxing Golden Gloves being held at Madison Square Garden each year. The city is also considered the host of the Belmont Stakes, the last, longest and oldest of horse racing\\'s Triple Crown races, held just over the city\\'s border at Belmont Park on the first or second Sunday of June. The city also hosted the 1932 U.S. Open golf tournament and the 1930 and 1939 PGA Championships, and has been host city for both events several times, most notably for nearby Winged Foot Golf Club. The Gaelic games are played in Riverdale, Bronx at Gaelic Park, home to the New York GAA, the only North American team to compete at the senior inter-county level.\\n\\n\\n== Transportation ==\\n\\nNew York City\\'s comprehensive transportation system is both complex and extensive.\\n\\n\\n=== Rapid transit ===\\nMass transit in New York City, most of which runs 24 hours a day, accounts for one in every three users of mass transit in the United States, and two-thirds of the nation\\'s rail riders live in the New York City Metropolitan Area.\\n\\n\\n==== Rail ====\\nThe iconic New York City Subway system is the largest rapid transit system in the world when measured by stations in operation, with 472, and by length of routes. Nearly all of New York\\'s subway system is open 24 hours a day, in contrast to the overnight shutdown common to systems in most cities, including Hong Kong, London, Paris, Seoul, and Tokyo. The New York City Subway is also the busiest metropolitan rail transit system in the Western Hemisphere, with 1.76 billion passenger rides in 2015, while Grand Central Terminal, also referred to as \"Grand Central Station\", is the world\\'s largest railway station by number of train platforms.\\n\\nPublic transport is essential in New York City. 54.6% of New Yorkers commuted to work in 2005 using mass transit. This is in contrast to the rest of the United States, where 91% of commuters travel in automobiles to their workplace. According to the New York City Comptroller, workers in the New York City area spend an average of 6 hours and 18 minutes getting to work each week, the longest commute time in the nation among large cities. New York is the only U.S. city in which a majority (52%) of households do not have a car; only 22% of Manhattanites own a car. Due to their high usage of mass transit, New Yorkers spend less of their household income on transportation than the national average, saving $19 billion annually on transportation compared to other urban Americans.New York City\\'s commuter rail network is the largest in North America. The rail network, connecting New York City to its suburbs, consists of the Long Island Rail Road, Metro-North Railroad, and New Jersey Transit. The combined systems converge at Grand Central Terminal and Pennsylvania Station and contain more than 250 stations and 20 rail lines. In Queens, the elevated AirTrain people mover system connects JFK International Airport to the New York City Subway and the Long Island Rail Road; a separate AirTrain system is planned alongside the Grand Central Parkway to connect LaGuardia Airport to these transit systems. For intercity rail, New York City is served by Amtrak, whose busiest station by a significant margin is Pennsylvania Station on the West Side of Manhattan, from which Amtrak provides connections to Boston, Philadelphia, and Washington, D.C. along the Northeast Corridor, and long-distance train service to other North American cities.The Staten Island Railway rapid transit system solely serves Staten Island, operating 24 hours a day. The Port Authority Trans-Hudson (PATH train) links Midtown and Lower Manhattan to northeastern New Jersey, primarily Hoboken, Jersey City, and Newark. Like the New York City Subway, the PATH operates 24 hours a day; meaning three of the six rapid transit systems in the world which operate on 24-hour schedules are wholly or partly in New York (the others are a portion of the Chicago \\'L\\', the PATCO Speedline serving Philadelphia, and the Copenhagen Metro).\\nMultibillion-dollar heavy rail transit projects under construction in New York City include the Second Avenue Subway, and the East Side Access project.\\n\\n\\n==== Buses ====\\n\\nNew York City\\'s public bus fleet runs 24/7 and is the largest in North America. The Port Authority Bus Terminal, the main intercity bus terminal of the city, serves 7,000 buses and 200,000 commuters daily, making it the busiest bus station in the world.\\n\\n\\n=== Air ===\\nNew York\\'s airspace is the busiest in the United States and one of the world\\'s busiest air transportation corridors. The three busiest airports in the New York metropolitan area include John F. Kennedy International Airport, Newark Liberty International Airport, and LaGuardia Airport; 130.5 million travelers used these three airports in 2016, and the city\\'s airspace is the busiest in the nation. JFK and Newark Liberty were the busiest and fourth busiest U.S. gateways for international air passengers, respectively, in 2012; as of 2011, JFK was the busiest airport for international passengers in North America.\\n\\nPlans have advanced to expand passenger volume at a fourth airport, Stewart International Airport near Newburgh, New York, by the Port Authority of New York and New Jersey. Plans were announced in July 2015 to entirely rebuild LaGuardia Airport in a multibillion-dollar project to replace its aging facilities. Other commercial airports in or serving the New York metropolitan area include Long Island MacArthur Airport, Trenton–Mercer Airport and Westchester County Airport. The primary general aviation airport serving the area is Teterboro Airport.\\n\\n\\n=== Ferries ===\\n\\nThe Staten Island Ferry is the world\\'s busiest ferry route, carrying more than 23 million passengers from July 2015 through June 2016 on the 5.2-mile (8.4 km) route between Staten Island and Lower Manhattan and running 24 hours a day. Other ferry systems shuttle commuters between Manhattan and other locales within the city and the metropolitan area.\\nNYC Ferry, a NYCEDC initiative with routes planned to travel to all five boroughs, was launched in 2017, with second graders choosing the names of the ferries. Meanwhile, Seastreak ferry announced construction of a 600-passenger high-speed luxury ferry in September 2016, to shuttle riders between the Jersey Shore and Manhattan, anticipated to start service in 2017; this would be the largest vessel in its class.\\n\\n\\n=== Taxis, vehicles for hire, and trams ===\\n\\nOther features of the city\\'s transportation infrastructure encompass 13,587 yellow taxicabs; other vehicle for hire companies; and the Roosevelt Island Tramway, an aerial tramway that transports commuters between Roosevelt Island and Manhattan Island. \\n\\n\\n=== Streets and highways ===\\n\\nDespite New York\\'s heavy reliance on its vast public transit system, streets are a defining feature of the city. The Commissioners\\' Plan of 1811 greatly influenced the city\\'s physical development. Several of the city\\'s streets and avenues, including Broadway, Wall Street, Madison Avenue, and Seventh Avenue are also used as metonyms for national industries there: the theater, finance, advertising, and fashion organizations, respectively.\\nNew York City also has an extensive web of freeways and parkways, which link the city\\'s boroughs to each other and to North Jersey, Westchester County, Long Island, and southwestern Connecticut through various bridges and tunnels. Because these highways serve millions of outer borough and suburban residents who commute into Manhattan, it is quite common for motorists to be stranded for hours in traffic congestion that are a daily occurrence, particularly during rush hour. Congestion pricing in New York City will go into effect in 2022 at the earliest.New York City is also known for its rules regarding turning at red lights. Unlike the rest of the United States, New York State prohibits right or left turns on red in cities with a population greater than one million, to reduce traffic collisions and increase pedestrian safety. In New York City, therefore, all turns at red lights are illegal unless a sign permitting such maneuvers is present.\\n\\n\\n==== River crossings ====\\n\\nNew York City is located on one of the world\\'s largest natural harbors, and the boroughs of Manhattan and Staten Island are primarily coterminous with islands of the same names, while Queens and Brooklyn are located at the west end of the larger Long Island, and the Bronx is located on New York State\\'s mainland. This situation of boroughs separated by water led to the development of an extensive infrastructure of bridges and tunnels.\\nThe George Washington Bridge is the world\\'s busiest motor vehicle bridge, connecting Manhattan to Bergen County, New Jersey. The Verrazano-Narrows Bridge is the longest suspension bridge in the Americas and one of the world\\'s longest. The Brooklyn Bridge is an icon of the city itself. The towers of the Brooklyn Bridge are built of limestone, granite, and Rosendale cement, and their architectural style is neo-Gothic, with characteristic pointed arches above the passageways through the stone towers. This bridge was also the longest suspension bridge in the world from its opening until 1903, and is the first steel-wire suspension bridge. The Queensboro Bridge is an important piece of cantilever architecture. The Manhattan Bridge, opened in 1909, is considered to be the forerunner of modern suspension bridges, and its design served as the model for many of the long-span suspension bridges around the world; the Manhattan Bridge, Throgs Neck Bridge, Triborough Bridge, and Verrazano-Narrows Bridge are all examples of Structural Expressionism.Manhattan Island is linked to New York City\\'s outer boroughs and New Jersey by several tunnels as well. The Lincoln Tunnel, which carries 120,000 vehicles a day under the Hudson River between New Jersey and Midtown Manhattan, is the busiest vehicular tunnel in the world. The tunnel was built instead of a bridge to allow unfettered passage of large passenger and cargo ships that sailed through New York Harbor and up the Hudson River to Manhattan\\'s piers. The Holland Tunnel, connecting Lower Manhattan to Jersey City, New Jersey, was the world\\'s first mechanically ventilated vehicular tunnel when it opened in 1927. The Queens-Midtown Tunnel, built to relieve congestion on the bridges connecting Manhattan with Queens and Brooklyn, was the largest non-federal project in its time when it was completed in 1940. President Franklin D. Roosevelt was the first person to drive through it. The Brooklyn-Battery Tunnel (officially known as the Hugh L. Carey Tunnel) runs underneath Battery Park and connects the Financial District at the southern tip of Manhattan to Red Hook in Brooklyn.\\n\\n\\n=== Cycling network ===\\n\\nCycling in New York City is associated with mixed cycling conditions that include urban density, relatively flat terrain, congested roadways with \"stop-and-go\" traffic, and many pedestrians. The city\\'s large cycling population includes utility cyclists, such as delivery and messenger services; cycling clubs for recreational cyclists; and increasingly commuters. Cycling is increasingly popular in New York City; in 2017 there were approximately 450,000 daily bike trips, compared with 170,000 daily bike trips in 2005. As of 2017, New York City had 1,333 miles (2,145 km) of bike lanes, compared to 513 miles (826 km) of bike lanes in 2006. As of 2019, there are 126 miles (203 km) of segregated or \"protected\" bike lanes citywide.\\n\\n\\n== Environment ==\\n\\n\\n=== Environmental impact reduction ===\\nNew York City has focused on reducing its environmental impact and carbon footprint. Mass transit use in New York City is the highest in the United States. Also, by 2010, the city had 3,715 hybrid taxis and other clean diesel vehicles, representing around 28% of New York\\'s taxi fleet in service, the most of any city in North America.New York\\'s high rate of public transit use, more than 200,000 daily cyclists as of 2014, and many pedestrian commuters make it the most energy-efficient major city in the United States. Walk and bicycle modes of travel account for 21% of all modes for trips in the city; nationally the rate for metro regions is about 8%. In both its 2011 and 2015 rankings, Walk Score named New York City the most walkable large city in the United States, and in 2018, Stacker ranked New York the most walkable U.S. city. Citibank sponsored the introduction of 10,000 public bicycles for the city\\'s bike-share project in the summer of 2013. New York City\\'s numerical \"in-season cycling indicator\" of bicycling in the city had hit an all-time high of 437 when measured in 2014.The city government was a petitioner in the landmark Massachusetts v. Environmental Protection Agency Supreme Court case forcing the EPA to regulate greenhouse gases as pollutants. The city is a leader in the construction of energy-efficient green office buildings, including the Hearst Tower among others. Mayor Bill de Blasio has committed to an 80% reduction in greenhouse gas emissions between 2014 and 2050 to reduce the city\\'s contributions to climate change, beginning with a comprehensive \"Green Buildings\" plan.\\n\\n\\n=== Water purity and availability ===\\n\\nNew York City is supplied with drinking water by the protected Catskill Mountains watershed. As a result of the watershed\\'s integrity and undisturbed natural water filtration system, New York is one of only four major cities in the United States the majority of whose drinking water is pure enough not to require purification by water treatment plants. The city\\'s municipal water system is the largest in the United States, moving over one billion gallons of water per day. The Croton Watershed north of the city is undergoing construction of a $3.2 billion water purification plant to augment New York City\\'s water supply by an estimated 290 million gallons daily, representing a greater than 20% addition to the city\\'s current availability of water. The ongoing expansion of New York City Water Tunnel No. 3, an integral part of the New York City water supply system, is the largest capital construction project in the city\\'s history, with segments serving Manhattan and the Bronx completed, and with segments serving Brooklyn and Queens planned for construction in 2020. In 2018, New York City announced a $1 billion investment to protect the integrity of its water system and to maintain the purity of its unfiltered water supply.\\n\\n\\n=== Air quality ===\\nAccording to the 2016 World Health Organization Global Urban Ambient Air Pollution Database, the annual average concentration in New York City\\'s air of particulate matter measuring 2.5 micrometers or less (PM2.5) was 7.0 micrograms per cubic meter, or 3.0 micrograms below the recommended limit of the WHO Air Quality Guidelines for the annual mean PM2.5. The New York City Department of Health and Mental Hygiene, in partnership with Queens College, conducts the New York Community Air Survey to measure pollutants at about 150 locations.\\n\\n\\n=== Environmental revitalization ===\\nNewtown Creek, a 3.5-mile (6-kilometer) a long estuary that forms part of the border between the boroughs of Brooklyn and Queens, has been designated a Superfund site for environmental clean-up and remediation of the waterway\\'s recreational and economic resources for many communities. One of the most heavily used bodies of water in the Port of New York and New Jersey, it had been one of the most contaminated industrial sites in the country, containing years of discarded toxins, an estimated 30 million US gallons (110,000 m3) of spilled oil, including the Greenpoint oil spill, raw sewage from New York City\\'s sewer system, and other accumulation.\\n\\n\\n== Government and politics ==\\n\\n\\n=== Government ===\\n\\nNew York City has been a metropolitan municipality with a mayor–council form of government since its consolidation in 1898. In New York City, the city government is responsible for public education, correctional institutions, public safety, recreational facilities, sanitation, water supply, and welfare services.\\nThe Mayor and council members are elected to four-year terms. The City Council is a unicameral body consisting of 51 council members whose districts are defined by geographic population boundaries. Each term for the mayor and council members lasts four years and has a three consecutive-term limit, which is reset after a four-year break. The New York City Administrative Code, the New York City Rules, and the City Record are the code of local laws, compilation of regulations, and official journal, respectively.\\n\\nEach borough is coextensive with a judicial district of the state Unified Court System, of which the Criminal Court and the Civil Court are the local courts, while the New York Supreme Court conducts major trials and appeals. Manhattan hosts the First Department of the Supreme Court, Appellate Division while Brooklyn hosts the Second Department. There are also several extrajudicial administrative courts, which are executive agencies and not part of the state Unified Court System.\\nUniquely among major American cities, New York is divided between, and is host to the main branches of, two different U.S. district courts: the District Court for the Southern District of New York, whose main courthouse is on Foley Square near City Hall in Manhattan and whose jurisdiction includes Manhattan and the Bronx; and the District Court for the Eastern District of New York, whose main courthouse is in Brooklyn and whose jurisdiction includes Brooklyn, Queens, and Staten Island. The U.S. Court of Appeals for the Second Circuit and U.S. Court of International Trade are also based in New York, also on Foley Square in Manhattan.\\n\\n\\n=== Politics ===\\n\\nThe present mayor is Bill de Blasio, the first Democrat since 1993. He was elected in 2013 with over 73% of the vote, and assumed office on January 1, 2014.\\nThe Democratic Party holds the majority of public offices. As of April 2016, 69% of registered voters in the city are Democrats and 10% are Republicans. New York City has not been carried by a Republican in a statewide or presidential election since President Calvin Coolidge won the five boroughs in 1924. In 2012, Democrat Barack Obama became the first presidential candidate of any party to receive more than 80% of the overall vote in New York City, sweeping all five boroughs. Party platforms center on affordable housing, education, and economic development, and labor politics are of importance in the city. Thirteen out of 27 U.S. congressional districts in the State of New York include portions of New York City.New York is the most important source of political fundraising in the United States, as four of the top five ZIP Codes in the nation for political contributions are in Manhattan. The top ZIP Code, 10021 on the Upper East Side, generated the most money for the 2004 presidential campaigns of George W. Bush and John Kerry. The city has a strong imbalance of payments with the national and state governments. It receives 83 cents in services for every $1 it sends to the federal government in taxes (or annually sends $11.4 billion more than it receives back). City residents and businesses also sent an additional $4.1 billion in the 2009–2010 fiscal year to the state of New York than the city received in return.\\n\\n\\n== Notable people ==\\n\\n\\n== Global outreach ==\\n\\nIn 2006, the Sister City Program of the City of New York, Inc. was restructured and renamed New York City Global Partners. Through this program, New York City has expanded its international outreach to a network of cities worldwide, promoting the exchange of ideas and innovation between their citizenry and policymakers. New York\\'s historic sister cities are denoted below by the year they joined New York City\\'s partnership network.\\n\\n\\n== See also ==\\nOutline of New York City\\n\\n\\n== Notes ==\\n\\n\\n== References ==\\n\\n\\n== Further reading ==\\nBelden, E. Porter (1849). New York, Past, Present, and Future: Comprising a History of the City of New York, a Description of its Present Condition, and an Estimate of its Future Increase. New York: G.P. Putnam. From Google Books.\\nBurgess, Anthony (1976). New York. New York: Little, Brown & Co. ISBN 978-90-6182-266-0.\\nBurrows, Edwin G. & Wallace, Mike (1999). Gotham: A History of New York City to 1898. New York: Oxford University Press. ISBN 0-195-11634-8.\\nFederal Writers\\' Project (1939). The WPA Guide to New York City (1995 reissue ed.). New York: The New Press. ISBN 978-1-56584-321-9.\\nJackson, Kenneth T., ed. (1995). The Encyclopedia of New York City. New Haven: Yale University Press. ISBN 0300055366.\\nJackson, Kenneth T.; Dunbar, David S., eds. (2005). Empire City: New York Through the Centuries. Columbia University Press. ISBN 978-0-231-10909-3.\\nLankevich, George L. (1998). American Metropolis: A History of New York City. NYU Press. ISBN 978-0-8147-5186-2.\\nWhite, E.B. (1949). Here is New York (2000 reissue ed.). Little Bookroom.\\nWhite, Norval & Willensky, Elliot (2000). AIA Guide to New York City (4th ed.). New York: Three Rivers Press. ISBN 978-0-8129-3107-5.\\nWhitehead, Colson (2003). The Colossus of New York: A City in 13 Parts. New York: Doubleday. ISBN 978-0-385-50794-3.\\n\\n\\n== External links ==\\nOfficial website\\nNYC Go, official tourism website of New York City\\nNew York City at Curlie\\n Geographic data related to New York City at OpenStreetMap.\\nCollections, 145,000 NYC photographs at the Museum of the City of New York\\n\"The New New York Skyline\". National Geographic. November 2015. (Interactive.)'"
            ]
          },
          "metadata": {
            "tags": []
          },
          "execution_count": 129
        }
      ]
    },
    {
      "cell_type": "code",
      "metadata": {
        "id": "B1n6nKcE-IZu",
        "colab_type": "code",
        "colab": {
          "base_uri": "https://localhost:8080/",
          "height": 34
        },
        "outputId": "0d0e2acc-9475-4812-c838-c8dd8f72ce36"
      },
      "source": [
        "'History of New York City' in ny.links"
      ],
      "execution_count": 6,
      "outputs": [
        {
          "output_type": "execute_result",
          "data": {
            "text/plain": [
              "True"
            ]
          },
          "metadata": {
            "tags": []
          },
          "execution_count": 6
        }
      ]
    },
    {
      "cell_type": "code",
      "metadata": {
        "id": "Y0-TS-3s-bww",
        "colab_type": "code",
        "colab": {
          "base_uri": "https://localhost:8080/",
          "height": 34
        },
        "outputId": "9668ed2e-e5a7-443a-8630-b2b5bdb2d837"
      },
      "source": [
        "len(ny.links)"
      ],
      "execution_count": 7,
      "outputs": [
        {
          "output_type": "execute_result",
          "data": {
            "text/plain": [
              "2486"
            ]
          },
          "metadata": {
            "tags": []
          },
          "execution_count": 7
        }
      ]
    },
    {
      "cell_type": "code",
      "metadata": {
        "id": "uUa-Bwq9_Cn8",
        "colab_type": "code",
        "colab": {
          "base_uri": "https://localhost:8080/",
          "height": 188
        },
        "outputId": "5a8d76fe-772a-4744-9126-16d20fea7334"
      },
      "source": [
        "ny_history = wikipedia.page('History of New York City')\n",
        "ny_history.content"
      ],
      "execution_count": 130,
      "outputs": [
        {
          "output_type": "execute_result",
          "data": {
            "application/vnd.google.colaboratory.intrinsic+json": {
              "type": "string"
            },
            "text/plain": [
              "'The written history of New York City began with the first European explorer the Italian Giovanni da Verrazzano in 1524. European settlement began with the Dutch in 1608.\\nThe \"Sons of Liberty\" destroyed British authority in New York City, and the Stamp Act Congress of representatives from throughout the Thirteen Colonies met in the city in 1765 to organize resistance to British policies. The city\\'s strategic location and status as a major seaport made it the prime target for British seizure in 1776. General George Washington lost a series of battles from which he narrowly escaped (with the notable exception of the Battle of Harlem Heights, his first victory of the war), and the British Army controlled New York City and made it their base on the continent until late 1783, attracting Loyalist refugees. The city served as the national capital under the Articles of Confederation from 1785–1789, and briefly served as the new nation\\'s capital in 1789–90 under the United States Constitution. Under the new government the city hosted the inauguration of George Washington as the first President of the United States, the drafting of the United States Bill of Rights, and the first Supreme Court of the United States. The opening of the Erie Canal gave excellent steamboat connections with upstate New York and the Great Lakes, along with coastal traffic to lower New England, making the city the preeminent port on the Atlantic Ocean. The arrival of rail connections to the north and west in the 1840s and 1850s strengthened its central role.\\nBeginning in the mid-18th century, waves of new immigrants arrived from Europe dramatically changing the composition of the city and serving as workers in the expanding industries. Modern New York City traces its development to the consolidation of the five boroughs in 1898 and an economic and building boom following the Great Depression and World War II. Throughout its history, New York City has served as a main port of entry for many immigrants, and its cultural and economic influence has made it one of the most important urban areas in the United States and the world.\\n\\n\\n== Native American settlement ==\\nThe area that eventually encompassed modern day New York City was inhabited by the Lenape people. These groups of culturally and linguistically related Native Americans traditionally spoke an Algonquian language now referred to as Unami. Early European settlers called bands of Lenape by the Unami place name for where they lived, such as \"Raritan\" in Staten Island and New Jersey, \"Canarsee\" in Brooklyn, and \"Hackensack\" in New Jersey across the Hudson River from Lower Manhattan. Some modern place names such as Raritan Bay and Canarsie are derived from Lenape names. Eastern Long Island neighbors were culturally and linguistically more closely related to the Mohegan-Pequot peoples of New England who spoke the Mohegan-Montauk-Narragansett language.These peoples all made use of the abundant waterways in the New York City region for fishing, hunting trips, trade, and occasionally war. Many paths created by the indigenous peoples are now main thoroughfares, such as Broadway in Manhattan, the Bronx, and Westchester. The Lenape developed sophisticated techniques of hunting and managing their resources. By the time of the arrival of Europeans, they were cultivating fields of vegetation through the slash and burn technique, which extended the productive life of planted fields. They also harvested vast quantities of fish and shellfish from the bay. Historians estimate that at the time of European settlement, approximately 5,000 Lenape lived in 80 settlements around the region.\\n\\n\\n== European exploration and settlement ==\\n\\n\\n=== New Angoulême ===\\nThe first European visitor to the area was Giovanni da Verrazzano, an Italian in command of the French ship La Dauphine in 1524. It is believed he sailed into Upper New York Bay, where he encountered native Lenape, returned through the Narrows, where he anchored the night of April 17, and left to continue his voyage. He named the area New Angoulême (French: Nouvelle-Angoulême) in honor of Francis I, King of France of the royal house of Valois-Angoulême and who had been Count of Angoulême from 1496 until his coronation in 1515. The name refers to the town of Angoulême, in the Charente département of France. For the next century, the area was occasionally visited by fur traders or explorers, such as by Esteban Gomez in 1525.European exploration continued on September 2, 1609, when the Englishman Henry Hudson, in the employ of the Dutch East India Company, sailed the Half Moon through the Narrows into Upper New York Bay. Like Christopher Columbus, Hudson was looking for a westerly passage to Asia. He never found one, but he did take note of the abundant beaver population. Beaver pelts were in fashion in Europe, fueling a lucrative business. Hudson\\'s report on the regional beaver population served as the impetus for the founding of Dutch trading colonies in the New World. The beaver\\'s importance in New York City\\'s history is reflected by its use on the city\\'s official seal.\\n\\n\\n=== Dutch settlement ===\\n\\nThe first Dutch fur trading posts and settlements were in 1614 near present-day Albany, New York, the same year that New Netherland first appeared on maps. Only in May 1624, the Dutch West India Company landed a number of families at Noten Eylant (today\\'s Governors Island) off the southern tip of Manhattan at the mouth of the North River (today\\'s Hudson River). Soon thereafter, most likely in 1626, construction of Fort Amsterdam began. Later, the Dutch West Indies Company imported African slaves to serve as laborers; they helped to build the wall that defended the town against English and Indian attacks. Early directors included Willem Verhulst and Peter Minuit. Willem Kieft became director in 1638 but five years later was embroiled in Kieft\\'s War against the Native Americans. The Pavonia Massacre, across the Hudson River in present-day Jersey City, resulted in the death of 80 natives in February 1643. Following the massacre, Algonquian tribes joined forces and nearly defeated the Dutch. Holland sent additional forces to the aid of Kieft, leading to the overwhelming defeat of the Native Americans and a peace treaty on August 29, 1645.\\n\\nOn May 27, 1647, Peter Stuyvesant was inaugurated as director general upon his arrival and ruled as a member of the Dutch Reformed Church. The colony was granted self-government in 1652, and New Amsterdam was incorporated as a city on February 2, 1653. The first mayors (burgemeesters) of New Amsterdam, Arent van Hattem and Martin Cregier, were appointed in that year. By the early 1660s, the population existed of approximately 1500 Europeans, only about half of whom were Dutch, and 375 Africans, 300 of whom were slaves.A few of the original Dutch place names have been retained, most notably Flushing (after the Dutch town of Vlissingen), Harlem (after Haarlem), and Brooklyn (after Breukelen). Few buildings, however, remain from the 17th century. The oldest recorded house still in existence in New York City, the Pieter Claesen Wyckoff House in Brooklyn, dates from 1652.\\n\\n\\n=== British Rule and revolution: 1664–1783 ===\\nOn August 27, 1664, four English frigates under the command of Col. Richard Nicolls sailed into New Amsterdam\\'s harbor and demanded New Netherland\\'s surrender, as part of an effort by king Charles\\' brother James, Duke of York, the Lord High Admiral to provoke the Second Anglo-Dutch War. Two weeks later, Stuyvesant officially capitulated by signing Articles of Surrender and in June 1665, the town was reincorporated under English law and renamed \"New York\" after the Duke, and Fort Orange was renamed \"Albany,\" ending the 50-year history of the Dutch colony. This English conquest cannot be defended as being based on any principles of right. The war ended in a Dutch victory in 1667, but the colony remained under English rule. During the Third Anglo-Dutch War, the Dutch briefly regained the city in 1673, renaming the city \"New Orange\", before permanently ceding the colony of New Netherland to the English for what is now Suriname in November 1674.\\nThe colony benefited within the burgeoning global British Empire and its population grew faster. The Bolting Act of 1678, whereby no mill outside the city was permitted to grind wheat or corn, boosted growth until its repeal in 1694, increasing the number of houses over the period from 384 to 983.In the context of the Glorious Revolution in England, Jacob Leisler led Leisler\\'s Rebellion and effectively controlled the city and surrounding areas from 1689–1691, before being arrested and executed.\\n\\n\\n==== Lawyers ====\\nIn New York City at first, legal practitioners were full-time businessmen and merchants, with no legal training, who had watched a few court proceedings, and mostly used their own common sense together with snippets they had picked up about English law. Court proceedings were quite informal, for the judges had no more training than the attorneys.  By the 1760s, the situation had dramatically changed. Lawyers were essential to the rapidly growing international trade, dealing with questions of partnerships, contracts, and insurance. The sums of money involved were large, and hiring an incompetent lawyer was a very expensive proposition. Lawyers were now professionally trained, and conversant in an extremely complex language that combined highly specific legal terms and motions with a dose of Latin. Court proceedings became a baffling mystery to the ordinary layman. Lawyers became more specialized and built their reputation, and their fee schedule, on the basis of their reputation for success. But as their status, wealth and power rose, animosity grew even faster. By the 1750s and 1760s, there was a widespread attack ridiculing and demeaning the lawyers as pettifoggers. Their image and influence declined. The lawyers organized a bar association, but it fell apart in 1768 during the bitter political dispute between the factions based in the Delancey and Livingston families.  A large fraction of the prominent lawyers were Loyalists; their clientele was often tied to royal authority or British merchants and financiers. They were not allowed to practice law unless they took a loyalty oath to the new United States of America. Many went to Britain or Canada after losing the war.For the next century, various attempts were made, and failed, to build an effective organization of lawyers. Finally a Bar Association emerged in 1869 that proved successful and continues to operate.\\n\\n\\n==== Indians and slaves ====\\n\\nBy 1700, the Lenape population of New York had diminished to 200. The Dutch West Indies Company transported African slaves to the post as trading laborers used to build the fort and stockade, and some gained freedom under the Dutch. After the British took over the colony and city in 1664, they continued to import slaves from Africa and the Caribbean. In 1703, 42% of the New York households had slaves; they served as domestic servants and laborers but also became involved in skilled trades, shipping and other fields. Yet following reform in ethics according to British Enlightenment thought, by the 1770s slaves made up less than 25% of the population.By the 1740s, 20% of the residents of New York were slaves, totaling about 2,500 people.After a series of fires in 1741, the city became panicked that blacks planned to burn the city in conspiracy with some poor whites. Historians believe their alarm was mostly fabrication and fear, but officials rounded up 31 blacks and 4 whites, who over a period of months were convicted of arson. Of these, the city executed 13 blacks by burning them alive and hanged 4 whites and 18 blacks.In 1754, Columbia University was founded under charter by George II of Great Britain as King\\'s College in Lower Manhattan.\\n\\n\\n=== American Revolution ===\\n\\nThe Stamp Act and other British measures fomented dissent, particularly among Sons of Liberty who maintained a long-running skirmish with locally stationed British troops over Liberty Poles from 1766 to 1776. The Stamp Act Congress met in New York City in 1765 in the first organized resistance to British authority across the colonies. After the major defeat of the Continental Army in the Battle of Long Island in late 1776, General George Washington withdrew to Manhattan Island, but with the subsequent defeat at the Battle of Fort Washington the island was effectively left to the British. The city became a haven for loyalist refugees, becoming a British stronghold for the entire war. Consequently, the area also became the focal point for Washington\\'s espionage and intelligence-gathering throughout the war.\\nNew York City was greatly damaged twice by fires of suspicious origin during British military rule. The city became the political and military center of operations for the British in North America for the remainder of the war. Continental Army officer Nathan Hale was hanged in Manhattan for espionage. In addition, the British began to hold the majority of captured American prisoners of war aboard prison ships in Wallabout Bay, across the East River in Brooklyn. More Americans lost their lives from neglect aboard these ships than died in all the battles of the war.  British occupation lasted until November 25, 1783. George Washington triumphantly returned to the city that day, as the last British forces left the city.\\n\\n\\n=== Federal and early America: 1784–1854 ===\\n\\nStarting in 1785 the Congress met in New York City under the Articles of Confederation. In 1789, New York City became the first national capital of the United States under the new United States Constitution. The Constitution also created the current Congress of the United States, and its first sitting was at Federal Hall on Wall Street. The first United States Supreme Court sat there. The United States Bill of Rights was drafted and ratified there. George Washington was inaugurated at Federal Hall. New York City remained the capital of the U.S. until 1790, when the role was transferred to Philadelphia.\\nDuring the 19th century, the city was transformed by immigration, a visionary development proposal called the Commissioners\\' Plan of 1811 which expanded the city street grid to encompass all of Manhattan, and the opening of the Erie Canal in 1825, which connected the Atlantic port to the vast agricultural markets of the Midwestern United States and Canada. By 1835, New York City had surpassed Philadelphia as the largest city in the United States. New York grew as an economic center, first as a result of Alexander Hamilton\\'s policies and practices as the first Secretary of the Treasury.In 1842, water was piped from a reservoir to supply the city for the first time.The Great Irish Famine (1845–1850) brought a large influx of Irish immigrants, and by 1850 the Irish comprised one quarter of the city\\'s population. Government institutions, including the New York City Police Department and the public schools, were established in the 1840s and 1850s to respond to growing demands of residents.\\n\\n\\n== Modern history ==\\n\\n\\n=== Tammany and consolidation: 1855–1897 ===\\n\\nThis period started with the 1855 inauguration of Fernando Wood as the first mayor from Tammany Hall, an Irish immigrant-supported Democratic Party political machine that dominated local politics throughout this period and into the 1930s. Public-minded members of the old merchant aristocracy pressed for a Central Park, which was opened to a design competition in 1857; it became the first landscape park in an American city.\\nDuring the American Civil War (1861–1865), the city was affected by its history of strong commercial ties to the South; before the war, half of its exports were related to cotton, including textiles from upstate mills. Together with its growing immigrant population, which was angry about conscription, sympathies among residents were divided for both the Union and Confederacy at the outbreak of war. Tensions related to the war culminated in the Draft Riots of 1863 by ethnic white immigrants, who attacked black neighborhood and abolitionist homes. Many blacks left the city and moved to Brooklyn. After the Civil War, the rate of immigration from Europe grew steeply, and New York became the first stop for millions seeking a new and better life in the United States, a role acknowledged by the dedication of the Statue of Liberty in 1886.\\n\\n\\n=== Early 20th century: 1898–1945 ===\\n\\nFrom 1890 to 1930, the larger cities were the focus of national attention. The skyscrapers and tourist attractions were widely publicized. Suburbs existed, but they were largely bedroom communities for commuters to the central city. San Francisco dominated the West, Atlanta dominated the South, Boston dominated New England; Chicago, the nation\\'s railroad hub, dominated the Midwest United States; however, New York City dominated the entire nation in terms of communications, trade, finance, popular culture, and high culture. More than a fourth of the 300 largest corporations in 1920 were headquartered in New York City.In 1898, the modern City of New York was formed with the consolidation of Brooklyn (until then an independent city), Manhattan, and outlying areas. Manhattan and the Bronx were established as two separate boroughs and joined together with three other boroughs created from parts of adjacent counties to form the new municipal government originally called \"Greater New York\". The Borough of Brooklyn incorporated the independent City of Brooklyn, recently joined to Manhattan by the Brooklyn Bridge; the Borough of Queens was created from western Queens County (with the remnant established as Nassau County in 1899); and the Borough of Richmond contained all of Richmond County. Municipal governments contained within the boroughs were abolished, and the county governmental functions were absorbed by the city or each borough. In 1914, the New York State Legislature created Bronx County, making five counties coterminous with the five boroughs.\\nThe Bronx had a steady boom period during 1898–1929, with a population growth by a factor of six from 200,000 in 1900 to 1.3 million in 1930. The Great Depression created a surge of unemployment, especially among the working class, and a slow-down of growth.On June 15, 1904, over 1,000 people, mostly German immigrant women and children, were killed when the excursion steamship General Slocum caught fire and sank. It is the city\\'s worst maritime disaster. On March 25, 1911, the Triangle Shirtwaist Factory fire in Greenwich Village took the lives of 146 garment workers. In response, the city made great advancements in the fire department, building codes, and workplace regulations.\\nThroughout the first half of the 20th century, the city became a world center for industry, commerce, and communication, marking its rising influence with such events as the Hudson-Fulton Celebration of 1909. Interborough Rapid Transit (the first New York City Subway company) began operating in 1904, and the railroads operating out of Grand Central Terminal and Pennsylvania Station thrived.\\n\\nThe city was a destination for internal migrants as well as immigrants. Through 1940, New York City was a major destination for African Americans during the Great Migration from the rural American South.  The Harlem Renaissance flourished during the 1920s and the era of Prohibition. New York City\\'s ever accelerating changes and rising crime and poverty rates were reduced after World War I disrupted trade routes, the Immigration Restriction Acts limited additional immigration after the war, and the Great Depression reduced the need for new labor. The combination ended the rule of the Gilded Age barons. As the city\\'s demographics temporarily stabilized, labor unionization helped the working class gain new protections and middle-class affluence, the city\\'s government and infrastructure underwent a dramatic overhaul under Fiorello La Guardia, and his controversial parks commissioner, Robert Moses, ended the blight of many tenement areas, expanded new parks, remade streets, and restricted and reorganized zoning controls.\\nFor a while, New York City ranked as the most populous city in the world, overtaking London in 1925, which had reigned for a century. During the difficult years of the Great Depression, the reformer Fiorello La Guardia was elected as mayor, and Tammany Hall fell after eighty years of political dominance.Despite the effects of the Great Depression, some of the world\\'s tallest skyscrapers were built during the 1930s. Art Deco architecture—such as the iconic Chrysler Building, Empire State Building, and 30 Rockefeller Plaza— came to define the city\\'s skyline. The construction of the Rockefeller Center occurred in the 1930s and was the largest-ever private development project at the time. Both before and especially after World War II, vast areas of the city were also reshaped by the construction of bridges, parks and parkways coordinated by Robert Moses, the greatest proponent of automobile-centered modernist urbanism in America.\\n\\n\\n=== Post–World War II: 1946–1977 ===\\n\\nReturning World War II veterans and immigrants from Europe created a postwar economic boom. Demands for new housing were aided by the G.I. Bill for veterans, stimulating the development of huge suburban tracts in eastern Queens and Nassau County. The city was extensively photographed during the post–war years by photographer Todd Webb.New York emerged from the war as the leading city of the world, with Wall Street leading the United States ascendancy. In 1951, the United Nations relocated from its first headquarters in Flushing Meadows Park, Queens, to the East Side of Manhattan. During the late 1960s, the views of real estate developer and city leader Robert Moses began to fall out of favor as the anti-urban renewal views of Jane Jacobs gained popularity. Citizen rebellion stopped a plan to construct an expressway through Lower Manhattan.\\nAfter a short war boom, The Bronx declined from 1950 to 1985, going from predominantly moderate-income to mostly lower-income, with high rates of violent crime and poverty. The Bronx has experienced an economic and developmental resurgence starting in the late 1980s that continues into today.The transition away from the industrial base toward a service economy picked up speed, while the jobs in the large shipbuilding and garment industries declined sharply. The ports converted to container ships, costing many traditional jobs among longshoremen. Many large corporations moved their headquarters to the suburbs or to distant cities. At the same time, there was enormous growth in services, especially finance, education, medicine, tourism, communications and law. New York remained the largest city and largest metropolitan area in the United States, and continued as its largest financial, commercial, information, and cultural center.\\nLike many major U.S. cities, New York suffered race riots, gang wars and some population decline in the late 1960s.  Street activists and minority groups such as the Black Panthers and Young Lords organized rent strikes and garbage offensives, demanding improved city services for poor areas.  They also set up free health clinics and other programs, as a guide for organizing and gaining \"Power to the People.\" By the 1970s the city had gained a reputation as a crime-ridden relic of history. In 1975, the city government avoided bankruptcy only through a federal loan and debt restructuring by the Municipal Assistance Corporation, headed by Felix Rohatyn. The city was also forced to accept increased financial scrutiny by an agency of New York State. In 1977, the city was struck by the twin crises of the New York City blackout of 1977 and serial slayings by the Son of Sam.\\n\\n\\n=== 1978–present ===\\n\\nThe 1980s began a rebirth of Wall Street, and the city reclaimed its role at the center of the worldwide financial industry.  Unemployment and crime remained high, the latter reaching peak levels in some categories around the close of the decade and the beginning of the 1990s. Neighborhood restoration projects funded by the city and state had very good effects for New York, especially Bedford-Stuyvesant, Harlem, and The Bronx. The city later resumed its social and economic recovery, bolstered by the influx of Asians, Latin Americans, and U.S. citizens, and by new crime-fighting techniques on the part of the New York Police Department.\\nIn the late 1990s, the city benefited from the success of the financial sectors, such as Silicon Alley, during the dot com boom, one of the factors in a decade of booming real estate values. New York was also able to attract more business and convert abandoned industrialized neighborhoods into arts or attractive residential neighborhoods; examples include the Meatpacking District and Chelsea (in Manhattan)  and Williamsburg (in Brooklyn).\\nNew York\\'s population reached an all-time high in the 2000 census; according to census estimates since 2000, the city has continued to grow, including rapid growth in the most urbanized borough, Manhattan. During this period, New York City was a site of the September 11 attacks of 2001; 2,606 people who were in the towers and in the surrounding area were killed by a terrorist attack on the World Trade Center, an event considered highly traumatic for the city but which did not stop the city\\'s rapid regrowth. On November 3, 2014, One World Trade Center opened on the site of the attack. Hurricane Sandy brought a destructive storm surge to New York City in the evening of October 29, 2012, flooding numerous streets, tunnels, and subway lines in Lower Manhattan. It flooded low-lying areas of Brooklyn, Queens, and Staten Island. Electrical power was lost in many parts of the city and its suburbs.The city has been in lockdown since March 22, 2020, amidst the COVID-19 pandemic. As of April 2020, New York City is experiencing the most deaths of any locality in the coronavirus pandemic in New York State, which itself has the highest number of confirmed coronavirus cases of any state in the United States; at the time, one-third of total known U.S. cases were in New York City.\\n\\n\\n== See also ==\\nAmerican urban history\\nTimeline of New York City\\nHere Grows New York - urban history of city from 1609 to present\\n New York City portal\\n\\n\\n== Notes ==\\n\\n\\n== References ==\\n\\n\\n== Further reading ==\\n\\nAbu-Lughod, Janet L. New York, Chicago, Los Angeles: America\\'s Global Cities (U of Minnesota Press, 1999), Compares the three cities in terms of geography, economics and race from 1800 to 1990\\nAnbinder, Tyler. City of Dreams: The 400-Year Epic History of Immigrant New York (Houghton Mifflin Harcourt, 2016). 766 pp.\\nArchdeacon, Thomas J. New York City, 1664–1710: Conquest and Change (1976)\\nBurrows, Edwin G. & Wallace, Mike (1999). Gotham: A History of New York City to 1898. New York: Oxford University Press. ISBN 0-195-11634-8., The standard scholarly history, 1390pp  onlibe review; Pulitzer Prize.\\nBurns, Ric, and James Sanders. New York: An Illustrated History (2003), book version of 17-hour Burns PBS documentary, \"NEW YORK: A Documentary Film\"\\nEllis, Edward Robb. The Epic of New York City: A Narrative History (2004) 640pp; Excerpt and text search; Popular history concentrating on violent events & scandals\\nHabert, Jacques; Lipman-Wulf, Peter  (illustrations) (1949). When New York was Called Angoulême. New York: Transocean Press. OCLC 489918773.\\nHomberger, Eric. The Historical Atlas of New York City: A Visual Celebration of 400 Years of New York City\\'s History (2005)\\nHood. Clifton. In Pursuit of Privilege: A History of New York City\\'s Upper Class and the Making of a Metropolis (2016). Cover 1760–1970.\\nJackson, Kenneth T., ed. (1995). The Encyclopedia of New York City. New Haven: Yale University Press. ISBN 0300055366.; second edition 2010\\nJackson, Kenneth T. and Roberts, Sam (eds.) The Almanac of New York City (2008)\\nJaffe, Steven H. New York at War: Four Centuries of Combat, Fear, and Intrigue in Gotham  (2012) Excerpt and text search\\nKessner, Thomas. Fiorello H. LaGuardia and the Making of Modern New York (1989) the most detailed standard scholarly biography\\nKouwenhoven, John Atlee. The Columbia Historical Portrait of New York: An Essay In Graphic History. (1953)\\nLankevich, George J. New York City: A Short History (2002)\\nMcCully, Betsy. City At The Water\\'s Edge: A Natural History of New York (2005), environmental history excerpt and text search\\nReitano, Joanne. The Restless City: A Short History of New York from Colonial Times to the Present (2010), Popular history with focus on politics and riots excerpt and text search\\nSyrett, Harold Coffin. The city of Brooklyn, 1865-1898: a political history (Columbia University press, 1944)\\n\\n\\n=== Primary sources ===\\nBurke, Katie. ed. Manhattan Memories: A Book of Postcards of Old New York (2000); Postcards lacking the (c) symbol are not copyright and are in the public domain.\\nJackson, Kenneth T. and David S. Dunbar, eds. Empire City: New York Through the Centuries 1015 pages of excerpts excerpt\\nStill, Bayrd, ed. Mirror for Gotham: New York as Seen by Contemporaries from Dutch Days to the Present (New York University Press, 1956) online edition\\nVirga, Vincent, ed. Historic Maps and Views of New York (2008)\\nStokes, I.N. Phelps. The Iconography of Manhattan Island, 1498-1909 compiled from original sources and illustrated by photo-intaglio reproductions of important maps plans views and documents in public and private collections  (6 vols., 1915–28). A highly detailed, heavily illustrated chronology of Manhattan and New York City. see The Iconography of Manhattan Island All volumes are on line free at:\\nI.N. Phelps Stokes; The Iconography of Manhattan Island Vol 1. 1915 v. 1. The period of discovery (1524-1609); the Dutch period (1609-1664). The English period (1664-1763). The Revolutionary period (1763-1783). Period of adjustment and reconstruction; New York as the state and federal capital (1783-1811)\\nI.N. Phelps Stokes; The Iconography of Manhattan Island Vol 2. 1916 v. 2. Cartography: an essay on the development of knowledge regarding the geography of the east coast of North America; Manhattan Island and its environs on early maps and charts / by F.C. Wieder and I.N. Phelps Stokes. The Manatus maps. The Castello plan. The Dutch grants. Early New York newspapers (1725-1811). Plan of Manhattan Island in 1908\\nI.N. Phelps Stokes; The Iconography of Manhattan Island Vol 3. 1918 v. 3. The War of 1812 (1812-1815). Period of invention, prosperity, and progress (1815-1841). Period of industrial and educational development (1842-1860). The Civil War (1861-1865); period of political and social development (1865-1876). The modern city and island (1876-1909)\\nI.N. Phelps Stokes; The Iconography of Manhattan Island Vol 4. 1922; v. 4. The period of discovery (565-1626); the Dutch period (1626-1664). The English period (1664-1763). The Revolutionary period, part I (1763-1776)\\nI.N. Phelps Stokes; The Iconography of Manhattan Island Vol 5. 1926; v. 5. The Revolutionary period, part II (1776-1783). Period of adjustment and reconstruction New York as the state and federal capital (1783-1811). The War of 1812 (1812-1815) ; period of invention, prosperity, and progress (1815-1841). Period of industrial and educational development (1842-1860). The Civil War (1861-1865) ; Period of political and social development (1865-1876). The modern city and island (1876-1909)\\nI.N. Phelps Stokes; The Iconography of Manhattan Island Vol 6. 1928; v. 6. Chronology: addenda. Original grants and farms. Bibliography. Index.\\n\\n\\n=== Further viewing ===\\nNew York: A Documentary Film: an eight part, 171/2 hour documentary film directed by Ric Burns for PBS. It originally aired in 1999 with additional episodes airing in 2001 and 2003.\\n\\n\\n== External links ==\\nColumbia University Libraries. \"New York City History\". Research Guides. New York: Columbia University. Archived from the original on 2014-02-23. Retrieved 2014-02-06.\\nNew York University Libraries. \"New York City\". Research Guides. New York University.\\nGotham Center for New York City History\\nMuseum of the City of New York\\nNew-York Historical Society\\nBoston Public Library, Map Center. Maps of NYC, various dates\\n\"Urban Affairs\". Research Guides. New York Public Library.\\nChisholm, Hugh, ed. (1911). \"New York City\" . Encyclopædia Britannica. 19 (11th ed.). Cambridge University Press. pp. 610–624.\\nSelect \"New York City\" value to browse NYC Maps (satyrical, political, pictorial)  from 1883-1984 at the Persuasive Cartography, The PJ Mode Collection, Cornell University Library.'"
            ]
          },
          "metadata": {
            "tags": []
          },
          "execution_count": 130
        }
      ]
    },
    {
      "cell_type": "code",
      "metadata": {
        "id": "f1qkGOsI_aqG",
        "colab_type": "code",
        "colab": {
          "base_uri": "https://localhost:8080/",
          "height": 35
        },
        "outputId": "8f484c62-d693-4562-9f8e-75df6919a1b3"
      },
      "source": [
        "ny.links[943]"
      ],
      "execution_count": 9,
      "outputs": [
        {
          "output_type": "execute_result",
          "data": {
            "application/vnd.google.colaboratory.intrinsic+json": {
              "type": "string"
            },
            "text/plain": [
              "'History of New York City'"
            ]
          },
          "metadata": {
            "tags": []
          },
          "execution_count": 9
        }
      ]
    },
    {
      "cell_type": "code",
      "metadata": {
        "id": "N2ONJJ2s6nG-",
        "colab_type": "code",
        "colab": {
          "base_uri": "https://localhost:8080/",
          "height": 188
        },
        "outputId": "848829d7-12dd-4dd5-cdca-668ea2efdc2e"
      },
      "source": [
        "ny.section('Architecture')"
      ],
      "execution_count": 72,
      "outputs": [
        {
          "output_type": "execute_result",
          "data": {
            "application/vnd.google.colaboratory.intrinsic+json": {
              "type": "string"
            },
            "text/plain": [
              "'New York has architecturally noteworthy buildings in a wide range of styles and from distinct time periods, from the Dutch Colonial Pieter Claesen Wyckoff House in Brooklyn, the oldest section of which dates to 1656, to the modern One World Trade Center, the skyscraper at Ground Zero in Lower Manhattan and the most expensive office tower in the world by construction cost.Manhattan\\'s skyline, with its many skyscrapers, is universally recognized, and the city has been home to several of the tallest buildings in the world. As of 2019, New York City had 6,455 high-rise buildings, the third most in world after Hong Kong and Seoul. Of these, as of 2011, 550 completed structures were at least 330 feet (100 m) high, the second most in the world after Hong Kong, with more than fifty completed skyscrapers taller than 656 feet (200 m). These include the Woolworth Building, an early example of Gothic Revival architecture in skyscraper design, built with massively scaled Gothic detailing; completed in 1913, for 17 years it was the world\\'s tallest building.The 1916 Zoning Resolution required setbacks in new buildings and restricted towers to a percentage of the lot size, to allow sunlight to reach the streets below. The Art Deco style of the Chrysler Building (1930) and Empire State Building (1931), with their tapered tops and steel spires, reflected the zoning requirements. The buildings have distinctive ornamentation, such as the eagles at the corners of the 61st floor on the Chrysler Building, and are considered some of the finest examples of the Art Deco style. A highly influential example of the international style in the United States is the Seagram Building (1957), distinctive for its façade using visible bronze-toned I-beams to evoke the building\\'s structure. The Condé Nast Building (2000) is a prominent example of green design in American skyscrapers and has received an award from the American Institute of Architects and AIA New York State for its design.\\nThe character of New York\\'s large residential districts is often defined by the elegant brownstone rowhouses and townhouses and shabby tenements that were built during a period of rapid expansion from 1870 to 1930. In contrast, New York City also has neighborhoods that are less densely populated and feature free-standing dwellings. In neighborhoods such as Riverdale (in the Bronx), Ditmas Park (in Brooklyn), and Douglaston (in Queens), large single-family homes are common in various architectural styles such as Tudor Revival and Victorian.Stone and brick became the city\\'s building materials of choice after the construction of wood-frame houses was limited in the aftermath of the Great Fire of 1835. A distinctive feature of many of the city\\'s buildings is the roof-mounted wooden water tower. In the 1800s, the city required their installation on buildings higher than six stories to prevent the need for excessively high water pressures at lower elevations, which could break municipal water pipes. Garden apartments became popular during the 1920s in outlying areas, such as Jackson Heights.According to the United States Geological Survey, an updated analysis of seismic hazard in July 2014 revealed a \"slightly lower hazard for tall buildings\" in New York City than previously assessed. Scientists estimated this lessened risk based upon a lower likelihood than previously thought of slow shaking near the city, which would be more likely to cause damage to taller structures from an earthquake in the vicinity of the city.'"
            ]
          },
          "metadata": {
            "tags": []
          },
          "execution_count": 72
        }
      ]
    },
    {
      "cell_type": "code",
      "metadata": {
        "id": "Khazr9DZPvKW",
        "colab_type": "code",
        "colab": {
          "base_uri": "https://localhost:8080/",
          "height": 272
        },
        "outputId": "fd629ec6-7cac-40fa-a26e-42d520f1fe4c"
      },
      "source": [
        "sections = get_sections('Van Cortlandt Park')\n",
        "sections[:len(sections)//2]"
      ],
      "execution_count": 100,
      "outputs": [
        {
          "output_type": "execute_result",
          "data": {
            "text/plain": [
              "['History',\n",
              " 'Settlement and colonization',\n",
              " 'Planning',\n",
              " 'Creation',\n",
              " 'Early years',\n",
              " 'Decline',\n",
              " 'Improvements',\n",
              " 'Geography',\n",
              " 'Geology',\n",
              " 'Watercourses',\n",
              " 'Wildlife',\n",
              " 'Landmarks and structures',\n",
              " 'Trails',\n",
              " 'Landmarks',\n",
              " 'Other structures']"
            ]
          },
          "metadata": {
            "tags": []
          },
          "execution_count": 100
        }
      ]
    },
    {
      "cell_type": "markdown",
      "metadata": {
        "id": "H0tyugGKW-67",
        "colab_type": "text"
      },
      "source": [
        "### **Collect data from a page by city name**\n",
        "Filter the data by \"cultural\" content. Search through sections, links and deeper links"
      ]
    },
    {
      "cell_type": "code",
      "metadata": {
        "id": "VSriO1RDBi7P",
        "colab_type": "code",
        "colab": {}
      },
      "source": [
        "def get_sections(page_name: str) -> List[str]:\n",
        "  \"\"\"Returns sections' names from Wikipedia page by page_name\n",
        "  \"\"\"\n",
        "  query_params = {\n",
        "          'action': 'parse',\n",
        "          'prop': 'sections',\n",
        "        }\n",
        "  query_params['page']= page_name\n",
        "  request = wikipedia.wikipedia._wiki_request(query_params)\n",
        "  #print(request)\n",
        "  sections = [a['line'] for a in request['parse']['sections']]\n",
        "  return sections"
      ],
      "execution_count": 87,
      "outputs": []
    },
    {
      "cell_type": "code",
      "metadata": {
        "id": "JiwdiebIJj_n",
        "colab_type": "code",
        "colab": {
          "base_uri": "https://localhost:8080/",
          "height": 35
        },
        "outputId": "1283fadb-5acc-4774-83a0-325b52eb4d56"
      },
      "source": [
        "sections = get_sections('New York City')\n",
        "sections[0]"
      ],
      "execution_count": 81,
      "outputs": [
        {
          "output_type": "execute_result",
          "data": {
            "application/vnd.google.colaboratory.intrinsic+json": {
              "type": "string"
            },
            "text/plain": [
              "'Etymology'"
            ]
          },
          "metadata": {
            "tags": []
          },
          "execution_count": 81
        }
      ]
    },
    {
      "cell_type": "code",
      "metadata": {
        "id": "lC_sz7zW9Ixk",
        "colab_type": "code",
        "colab": {}
      },
      "source": [
        "# keywords for sections and links that are interesting to check\n",
        "# stop words to skip\n",
        "# can be updated later!\n",
        "SECTION_KEYWORDS = {'architecture', 'park', 'art', 'history', 'cultural', \n",
        "                    'museum', 'etymology', 'landmark'}\n",
        "LINK_KEYWORDS = {'architecture', 'park', 'art', 'history', 'cultural', 'museum', \n",
        "                 'monument', 'landmark', 'statue', 'castle', 'zoo', 'arch', \n",
        "                 'cathedral', 'church', 'square', 'opera', 'house'}\n",
        "LINK_CONTENT_KEYWORDS = {'architecture', 'attractions','history', 'background'}\n",
        "DEEP_LINK_KEYWORDS = {'List of museums'}  # to go to the next link\n",
        "DEEP_CONTENT_KEYWORDS = {'museum', 'cathedral', 'statue', 'monument', 'house',\n",
        "                           'church', 'castle', 'zoo', 'park', 'garden'}\n",
        "STOP_WORDS = {'police', 'article', 'burial', 'party', 'inc', 'zoopraxiscope', \n",
        "              'Representatives', 'Archdiocese', 'Commission', 'History.com',\n",
        "              'internet', 'archive', 'operations', 'parker', 'parkway', \n",
        "              'archdeacon', 'references', 'see', 'also' 'external', 'links', \n",
        "              'demographics', 'faculty', 'alumni', 'accreditation', 'lawsuits',\n",
        "              'notable', 'residents', 'curriculum', 'school', 'health', 'mental',\n",
        "              'online', 'canada', 'education', 'college', 'universit', \n",
        "              'relocation', 'expansion', 'bibliography', 'reading', 'citations'} \n",
        "              # 'Beaux-Arts'\n",
        "LINK_STOP_WORDS = {}"
      ],
      "execution_count": 61,
      "outputs": []
    },
    {
      "cell_type": "code",
      "metadata": {
        "id": "80CqGfqw_k0h",
        "colab_type": "code",
        "colab": {}
      },
      "source": [
        "def get_interesting_sections(page_name: str) -> List[str]:\n",
        "  \"\"\"Returns a list of section names that contains interesting keywords\n",
        "  \"\"\"\n",
        "  sections = get_sections(page_name)\n",
        "  interesting_sections = []\n",
        "  for section in sections:\n",
        "    section_low = section.lower()\n",
        "    for key in SECTION_KEYWORDS:\n",
        "      if key in section_low:\n",
        "        interesting_sections.append(section)\n",
        "  return interesting_sections"
      ],
      "execution_count": 62,
      "outputs": []
    },
    {
      "cell_type": "code",
      "metadata": {
        "id": "568dbcsyB7-X",
        "colab_type": "code",
        "colab": {}
      },
      "source": [
        " def get_interesting_links(page_name: str) -> List[str]:\n",
        "  \"\"\"Returns a list of link names that contain interesting keywords\n",
        "  \"\"\"\n",
        "  links = wikipedia.page(page_name).links\n",
        "  interesting_links = []\n",
        "  for link in links:\n",
        "    link_lower = link.lower()\n",
        "    link_low_splitted = link_lower.split(' ')\n",
        "    for key in LINK_KEYWORDS:\n",
        "      if (any(l.startswith(key) for l in link_low_splitted) and \n",
        "        all(stop_word not in link_lower for stop_word in STOP_WORDS)):\n",
        "        interesting_links.append(link)\n",
        "  return interesting_links"
      ],
      "execution_count": 63,
      "outputs": []
    },
    {
      "cell_type": "code",
      "metadata": {
        "id": "JNzY4IH_GjcX",
        "colab_type": "code",
        "colab": {}
      },
      "source": [
        "def get_page_data_by_section(page_name: str) -> Dict[str, str]:\n",
        "  \"\"\"Returns a dictionary of section: content as key: value pairs\n",
        "  \"\"\"\n",
        "  section_names = get_interesting_sections(page_name=page_name)\n",
        "  section_data = {'Summary': wikipedia.page(city_name).summary}\n",
        "  city = wikipedia.page(city_name)\n",
        "  for section_name in section_names:\n",
        "    section_content = city.section(section_name)\n",
        "    section_data[section_name] = section_content\n",
        "  return section_data"
      ],
      "execution_count": 64,
      "outputs": []
    },
    {
      "cell_type": "code",
      "metadata": {
        "id": "3nwAr5V-zlJc",
        "colab_type": "code",
        "colab": {}
      },
      "source": [
        "def get_page_data_by_section_by_link(page_name: str) -> Dict[str, str]:\n",
        "  \"\"\"Returns a string of section contents without stop words\n",
        "  \"\"\"\n",
        "  sections = get_sections(page_name)\n",
        "  interesting_sections = []\n",
        "  for section in sections:\n",
        "    section_lower = section.lower()\n",
        "    if all(stop_word not in section_lower for stop_word in STOP_WORDS):\n",
        "      interesting_sections.append(section)\n",
        "  \n",
        "  page_content_by_link = {}\n",
        "  page_summary = page_name + '.' + 'Summary'\n",
        "  page_from_link = wikipedia.page(page_name)\n",
        "  page_content_by_link[page_summary] = page_from_link.summary\n",
        "  for section in interesting_sections:\n",
        "    page_section = page_name + '.' + section\n",
        "    page_content_by_link[page_section] = page_from_link.section(section)\n",
        "  return page_content_by_link"
      ],
      "execution_count": 65,
      "outputs": []
    },
    {
      "cell_type": "code",
      "metadata": {
        "id": "VyxnEP5NC8Ig",
        "colab_type": "code",
        "colab": {}
      },
      "source": [
        "def get_city_data_by_link(page_name: str) -> Dict[str, str]:\n",
        "  \"\"\"Returns a dictionary of link: content as key: value pairs\n",
        "  \"\"\"\n",
        "  link_names = get_interesting_links(page_name=page_name)\n",
        "  links_data = {}\n",
        "  for link_name in link_names:\n",
        "    link_data = get_page_data_by_section_by_link(page_name=link_name)\n",
        "    links_data.update(link_data)\n",
        "  return links_data"
      ],
      "execution_count": 66,
      "outputs": []
    },
    {
      "cell_type": "code",
      "metadata": {
        "id": "G6OsepHHH3vl",
        "colab_type": "code",
        "colab": {}
      },
      "source": [
        "def get_deep_links_by_link(page_name: str) -> List[str]:\n",
        "  \"\"\"Returns filtered deep links of links \n",
        "  \"\"\"\n",
        "  deeper_links_names = []\n",
        "  links = wikipedia.page(page_name).links\n",
        "\n",
        "  for link in links:\n",
        "    for key in DEEP_LINK_KEYWORDS:\n",
        "      if key not in link:\n",
        "        continue\n",
        "      \n",
        "      deep_page = wikipedia.page(link)\n",
        "      for deep_page_link in deep_page.links:\n",
        "        deep_page_link_lower = deep_page_link.lower()\n",
        "        for key_content in DEEP_CONTENT_KEYWORDS:\n",
        "          if key_content in deep_page_link_lower:\n",
        "            deeper_links_names.append(deep_page_link)\n",
        "  return deeper_links_names"
      ],
      "execution_count": 93,
      "outputs": []
    },
    {
      "cell_type": "code",
      "metadata": {
        "id": "j9VZz9TjIBg9",
        "colab_type": "code",
        "colab": {}
      },
      "source": [
        "def get_deeper_links_content(page_name: str) -> Dict[str, str]:\n",
        "  \"\"\"Returns deeper links content filtered as first half of sections\n",
        "  \"\"\"\n",
        "  deeper_links_data = get_deep_links_by_link(page_name=page_name)\n",
        "  \n",
        "  deeper_links_data = {}\n",
        "  for link in deeper_links_data:\n",
        "    page_summary = link + '.' + 'Summary'\n",
        "    page_from_link = wikipedia.page(link)\n",
        "    deeper_links_data[page_summary] = page_from_link.summary\n",
        "    \n",
        "    link_sections = get_sections(link)\n",
        "    for i in range(len(link_sections) // 2):\n",
        "      section = link_sections[i]\n",
        "      page_section = link + '.' + section\n",
        "      deeper_links_data[page_section] = page_from_link.section(section)\n",
        "  return deeper_links_data"
      ],
      "execution_count": 94,
      "outputs": []
    },
    {
      "cell_type": "code",
      "metadata": {
        "id": "pB6XSdCKDTPM",
        "colab_type": "code",
        "colab": {}
      },
      "source": [
        "def get_city_data(city_name: str) -> Dict[str, str]:\n",
        "  \"\"\"Gets two dictionaries of section: content and link: content\n",
        "     Returns one concatenated dictionary\n",
        "  \"\"\"\n",
        "  section_data = get_page_data_by_section(page_name=city_name)\n",
        "  link_data = get_city_data_by_link(page_name=city_name)\n",
        "  deeper_links_data = get_deeper_links_content(page_name=city_name)\n",
        "  return {**section_data, **link_data, **deeper_links_data}"
      ],
      "execution_count": 95,
      "outputs": []
    },
    {
      "cell_type": "code",
      "metadata": {
        "id": "0xvK4B71GCuy",
        "colab_type": "code",
        "colab": {}
      },
      "source": [
        "# collects all interesting content and link data for chosen cities into one  \n",
        "# dictionary\n",
        "city_names = ['New York City', 'San Francisco', 'Washington, D.C.', 'Chicago', \n",
        "              'Philadelphia', 'Las Vegas', 'Seattle', 'Miami', 'Los Angeles',\n",
        "              'San Diego', 'Boston', 'Minneapolis', 'Atlanta', 'Houston', \n",
        "              'Phoenix']\n",
        "city_names_test = ['New York City', 'San Francisco']\n",
        "city_data = {}\n",
        "for city_name in city_names_test:\n",
        "  city_data[city_name] = get_city_data(city_name=city_name)"
      ],
      "execution_count": null,
      "outputs": []
    },
    {
      "cell_type": "markdown",
      "metadata": {
        "id": "urBu6HP_XsJs",
        "colab_type": "text"
      },
      "source": [
        "###**Do some testing**\n",
        "To continue.."
      ]
    },
    {
      "cell_type": "code",
      "metadata": {
        "id": "J2kWDX9YHBI4",
        "colab_type": "code",
        "colab": {}
      },
      "source": [
        "for city in city_data:\n",
        "  for key in city_data[city]:\n",
        "    print(key)"
      ],
      "execution_count": null,
      "outputs": []
    },
    {
      "cell_type": "code",
      "metadata": {
        "id": "Hlov2LDnYyCV",
        "colab_type": "code",
        "colab": {}
      },
      "source": [
        "for heading in city_data['San Francisco']:\n",
        "  print(heading)"
      ],
      "execution_count": null,
      "outputs": []
    },
    {
      "cell_type": "code",
      "metadata": {
        "id": "h1zWOkpDa852",
        "colab_type": "code",
        "colab": {}
      },
      "source": [
        "for city in city_data:\n",
        "  city_info = []\n",
        "  for heading in city_data[city]:\n",
        "    city_info.append(heading)\n",
        "    city_info.append(city_data[city][heading])\n",
        "  file_name = city + ' data.txt'\n",
        "  with open(file_name, \"w\") as text_file:\n",
        "    try:\n",
        "      print('\\n'.join(map(str, city_info)), file=text_file)\n",
        "    except:\n",
        "      print(city_info, file=text_file)"
      ],
      "execution_count": null,
      "outputs": []
    },
    {
      "cell_type": "code",
      "metadata": {
        "id": "s2S7bsBGMui4",
        "colab_type": "code",
        "colab": {}
      },
      "source": [
        "# save city_data in json format\n",
        "import json \n",
        "with open('city_data.json', 'w') as fp:\n",
        "    json.dump(city_data, fp)"
      ],
      "execution_count": null,
      "outputs": []
    },
    {
      "cell_type": "code",
      "metadata": {
        "id": "78gmvQszTRg-",
        "colab_type": "code",
        "colab": {}
      },
      "source": [
        "import _pickle as pickle\n",
        "\n",
        "with open('file.txt', 'w') as file:\n",
        "     file.write(pickle.dumps(city_data))"
      ],
      "execution_count": null,
      "outputs": []
    },
    {
      "cell_type": "code",
      "metadata": {
        "id": "xYfADgDtL1AP",
        "colab_type": "code",
        "colab": {
          "base_uri": "https://localhost:8080/",
          "height": 221
        },
        "outputId": "f9e06015-8956-491a-c7b9-03f4b6c4ce77"
      },
      "source": [
        "for section in city_data['New York City']:\n",
        "  print(section)"
      ],
      "execution_count": null,
      "outputs": [
        {
          "output_type": "stream",
          "text": [
            "Etymology\n",
            "History\n",
            "Early history\n",
            "Modern history\n",
            "Architecture\n",
            "Parks\n",
            "National parks\n",
            "State parks\n",
            "City parks\n",
            "Arts\n",
            "Performing arts\n",
            "Visual arts\n"
          ],
          "name": "stdout"
        }
      ]
    },
    {
      "cell_type": "code",
      "metadata": {
        "id": "Q4kY14pwMDvt",
        "colab_type": "code",
        "colab": {
          "base_uri": "https://localhost:8080/",
          "height": 171
        },
        "outputId": "c92243aa-3e3d-4212-f2c3-e970361b9103"
      },
      "source": [
        "city_data['New York City']['Arts']"
      ],
      "execution_count": null,
      "outputs": [
        {
          "output_type": "execute_result",
          "data": {
            "application/vnd.google.colaboratory.intrinsic+json": {
              "type": "string"
            },
            "text/plain": [
              "\"New York City has more than 2,000 arts and cultural organizations and more than 500 art galleries. The city government funds the arts with a larger annual budget than the National Endowment for the Arts. Wealthy business magnates in the 19th century built a network of major cultural institutions, such as the famed Carnegie Hall and the Metropolitan Museum of Art, that would become internationally established. The advent of electric lighting led to elaborate theater productions, and in the 1880s, New York City theaters on Broadway and along 42nd Street began featuring a new stage form that became known as the Broadway musical. Strongly influenced by the city's immigrants, productions such as those of Harrigan and Hart, George M. Cohan, and others used song in narratives that often reflected themes of hope and ambition. New York City itself is the subject or background of many plays and musicals.\""
            ]
          },
          "metadata": {
            "tags": []
          },
          "execution_count": 15
        }
      ]
    },
    {
      "cell_type": "code",
      "metadata": {
        "id": "_3JJVRjXMr6n",
        "colab_type": "code",
        "colab": {
          "base_uri": "https://localhost:8080/",
          "height": 85
        },
        "outputId": "288c3ad9-a5f8-411a-9b75-641e97fa1259"
      },
      "source": [
        "for section in city_data['San Francisco']:\n",
        "  print(section)"
      ],
      "execution_count": null,
      "outputs": [
        {
          "output_type": "stream",
          "text": [
            "History\n",
            "Performing arts\n",
            "Museums\n",
            "Beaches and parks\n"
          ],
          "name": "stdout"
        }
      ]
    },
    {
      "cell_type": "code",
      "metadata": {
        "id": "f1QnJN6WMz-3",
        "colab_type": "code",
        "colab": {
          "base_uri": "https://localhost:8080/",
          "height": 188
        },
        "outputId": "8dddf2d2-3943-4620-9a2c-c2f8b05d42df"
      },
      "source": [
        "city_data['San Francisco']['Beaches and parks']"
      ],
      "execution_count": null,
      "outputs": [
        {
          "output_type": "execute_result",
          "data": {
            "application/vnd.google.colaboratory.intrinsic+json": {
              "type": "string"
            },
            "text/plain": [
              "\"Several of San Francisco's parks and nearly all of its beaches form part of the regional Golden Gate National Recreation Area, one of the most visited units of the National Park system in the United States with over 13 million visitors a year. Among the GGNRA's attractions within the city are Ocean Beach, which runs along the Pacific Ocean shoreline and is frequented by a vibrant surfing community, and Baker Beach, which is located in a cove west of the Golden Gate and part of the Presidio, a former military base. Also within the Presidio is Crissy Field, a former airfield that was restored to its natural salt marsh ecosystem. The GGNRA also administers Fort Funston, Lands End, Fort Mason, and Alcatraz. The National Park Service separately administers the San Francisco Maritime National Historical Park – a fleet of historic ships and waterfront property around Aquatic Park.\\n\\nThere are more than 220 parks maintained by the San Francisco Recreation & Parks Department. The largest and best-known city park is Golden Gate Park, which stretches from the center of the city west to the Pacific Ocean. Once covered in native grasses and sand dunes, the park was conceived in the 1860s and was created by the extensive planting of thousands of non-native trees and plants. The large park is rich with cultural and natural attractions such as the Conservatory of Flowers, Japanese Tea Garden and San Francisco Botanical Garden. Lake Merced is a fresh-water lake surrounded by parkland and near the San Francisco Zoo, a city-owned park that houses more than 250 animal species, many of which are endangered. The only park managed by the California State Park system located principally in San Francisco, Candlestick Point was the state's first urban recreation area.San Francisco is the first city in the U.S. to have a park within a 10-Minute Walk of every resident. It also ranks fifth in the U.S. for park access and quality in the 2018 ParkScore ranking of the top 100 park systems across the United States, according to the nonprofit Trust for Public Land.\""
            ]
          },
          "metadata": {
            "tags": []
          },
          "execution_count": 17
        }
      ]
    },
    {
      "cell_type": "markdown",
      "metadata": {
        "id": "559_vug7X_6Q",
        "colab_type": "text"
      },
      "source": [
        "### **Use tokenization from nltk**\n",
        "To continue"
      ]
    },
    {
      "cell_type": "code",
      "metadata": {
        "id": "ao3h8_81Svru",
        "colab_type": "code",
        "colab": {}
      },
      "source": [
        "import nltk\n",
        "from nltk.tokenize import word_tokenize\n",
        "from nltk.tag import pos_tag\n",
        "nltk.download('punkt')\n",
        "nltk.download('averaged_perceptron_tagger')"
      ],
      "execution_count": null,
      "outputs": []
    },
    {
      "cell_type": "code",
      "metadata": {
        "id": "j4FnkGK3S14-",
        "colab_type": "code",
        "colab": {}
      },
      "source": [
        "def preprocess(sent):\n",
        "    sent = nltk.word_tokenize(sent)\n",
        "    sent = nltk.pos_tag(sent)\n",
        "    return sent"
      ],
      "execution_count": null,
      "outputs": []
    },
    {
      "cell_type": "code",
      "metadata": {
        "id": "eqOzAlNnS5n_",
        "colab_type": "code",
        "colab": {}
      },
      "source": [
        "preprocess(city_data['San Francisco']['Beaches and parks'])"
      ],
      "execution_count": null,
      "outputs": []
    },
    {
      "cell_type": "code",
      "metadata": {
        "id": "GVikQyAhWdR0",
        "colab_type": "code",
        "colab": {}
      },
      "source": [
        "def ie_preprocess(document):\n",
        "  sentences = nltk.sent_tokenize(document)\n",
        "  sentences = [nltk.word_tokenize(sent) for sent in sentences] \n",
        "  sentences = [nltk.pos_tag(sent) for sent in sentences]\n",
        "  return sentences"
      ],
      "execution_count": null,
      "outputs": []
    },
    {
      "cell_type": "code",
      "metadata": {
        "id": "CuSd-GSSW20p",
        "colab_type": "code",
        "colab": {}
      },
      "source": [
        "ie_preprocess(city_data['San Francisco']['History'])"
      ],
      "execution_count": null,
      "outputs": []
    },
    {
      "cell_type": "markdown",
      "metadata": {
        "id": "n-P-OhLAYktT",
        "colab_type": "text"
      },
      "source": [
        "### **Extract some years**\n",
        "Thinking about preparing for question generation.. \n",
        "To continue"
      ]
    },
    {
      "cell_type": "code",
      "metadata": {
        "id": "pmEbpt1AXLCW",
        "colab_type": "code",
        "colab": {
          "base_uri": "https://localhost:8080/",
          "height": 326
        },
        "outputId": "e24eca08-8afe-4abd-9ac5-c1dd98cb1c04"
      },
      "source": [
        "import re\n",
        "import datetime\n",
        "now = datetime.datetime.now()\n",
        "y = city_data['San Francisco']['History']\n",
        "print(f'Text:\\n{y}')\n",
        "years = re.findall(r'\\b\\d{4}\\b', y)\n",
        "years = [year for year in years if int(year) <= now.year]\n",
        "print(f'\\nYears:\\n{years}')"
      ],
      "execution_count": null,
      "outputs": [
        {
          "output_type": "stream",
          "text": [
            "Text:\n",
            "The earliest archaeological evidence of human habitation of the territory of the city of San Francisco dates to 3000 BC. The Yelamu group of the Ohlone people resided in a few small villages when an overland Spanish exploration party, led by Don Gaspar de Portolá, arrived on November 2, 1769, the first documented European visit to San Francisco Bay. Seven years later, on March 28, 1776, the Spanish established the Presidio of San Francisco, followed by a mission, Mission San Francisco de Asís (Mission Dolores), established by the Spanish explorer Juan Bautista de Anza.\n",
            "\n",
            "Upon independence from Spain in 1821, the area became part of Mexico. Under Mexican rule, the mission system gradually ended, and its lands became privatized. In 1835, William Richardson, a naturalized Mexican citizen of English birth, erected the first independent homestead, near a boat anchorage around what is today Portsmouth Square. Together with Alcalde Francisco de Haro, he laid out a street plan for the expanded settlement, and the town, named Yerba Buena, began to attract American settlers. Commodore John D. Sloat claimed California for the United States on July 7, 1846, during the Mexican–American War, and Captain John B. Montgomery arrived to claim Yerba Buena two days later. Yerba Buena was renamed San Francisco on January 30 of the next year, and Mexico officially ceded the territory to the United States at the end of the war in 1848. Despite its attractive location as a port and naval base, San Francisco was still a small settlement with inhospitable geography.\n",
            "\n",
            "The California Gold Rush brought a flood of treasure seekers (known as \"forty-niners\", as in \"1849\"). With their sourdough bread in tow, prospectors accumulated in San Francisco over rival Benicia, raising the population from 1,000 in 1848 to 25,000 by December 1849. The promise of great wealth was so strong that crews on arriving vessels deserted and rushed off to the gold fields, leaving behind a forest of masts in San Francisco harbor.\n",
            "Some of these approximately 500 abandoned ships were used at times as storeships, saloons and hotels; many were left to rot and some were sunk to establish title to the underwater lot. By 1851 the harbor was extended out into the bay by wharves while buildings were erected on piles among the ships. By 1870 Yerba Buena Cove had been filled to create new land. Buried ships are occasionally exposed when foundations are dug for new buildings.California was quickly granted statehood in 1850, and the U.S. military built Fort Point at the Golden Gate and a fort on Alcatraz Island to secure the San Francisco Bay. Silver discoveries, including the Comstock Lode in Nevada in 1859, further drove rapid population growth. With hordes of fortune seekers streaming through the city, lawlessness was common, and the Barbary Coast section of town gained notoriety as a haven for criminals, prostitution, and gambling.Entrepreneurs sought to capitalize on the wealth generated by the Gold Rush. Early winners were the banking industry, with the founding of Wells Fargo in 1852 and the Bank of California in 1864. Development of the Port of San Francisco and the establishment in 1869 of overland access to the eastern U.S. rail system via the newly completed Pacific Railroad (the construction of which the city only reluctantly helped support) helped make the Bay Area a center for trade. Catering to the needs and tastes of the growing population, Levi Strauss opened a dry goods business and Domingo Ghirardelli began manufacturing chocolate. Chinese immigrants made the city a polyglot culture, drawn to \"Old Gold Mountain\", creating the city's Chinatown quarter. In 1870, Asians made up 8% of the population. The first cable cars carried San Franciscans up Clay Street in 1873. The city's sea of Victorian houses began to take shape, and civic leaders campaigned for a spacious public park, resulting in plans for Golden Gate Park. San Franciscans built schools, churches, theaters, and all the hallmarks of civic life. The Presidio developed into the most important American military installation on the Pacific coast. By 1890, San Francisco's population approached 300,000, making it the eighth-largest city in the United States at the time. Around 1901, San Francisco was a major city known for its flamboyant style, stately hotels, ostentatious mansions on Nob Hill, and a thriving arts scene. The first North American plague epidemic was the San Francisco plague of 1900–1904.At 5:12 am on April 18, 1906, a major earthquake struck San Francisco and northern California. As buildings collapsed from the shaking, ruptured gas lines ignited fires that spread across the city and burned out of control for several days. With water mains out of service, the Presidio Artillery Corps attempted to contain the inferno by dynamiting blocks of buildings to create firebreaks. More than three-quarters of the city lay in ruins, including almost all of the downtown core. Contemporary accounts reported that 498 people lost their lives, though modern estimates put the number in the several thousands. More than half of the city's population of 400,000 was left homeless. Refugees settled temporarily in makeshift tent villages in Golden Gate Park, the Presidio, on the beaches, and elsewhere. Many fled permanently to the East Bay.\n",
            "\n",
            "Rebuilding was rapid and performed on a grand scale. Rejecting calls to completely remake the street grid, San Franciscans opted for speed. Amadeo Giannini's Bank of Italy, later to become Bank of America, provided loans for many of those whose livelihoods had been devastated. The influential San Francisco Planning and Urban Research Association or SPUR was founded in 1910 to address the quality of housing after the earthquake. The earthquake hastened development of western neighborhoods that survived the fire, including Pacific Heights, where many of the city's wealthy rebuilt their homes. In turn, the destroyed mansions of Nob Hill became grand hotels. City Hall rose again in splendid Beaux Arts style, and the city celebrated its rebirth at the Panama–Pacific International Exposition in 1915.It was during this period San Francisco built some of its most important infrastructure. Civil Engineer Michael O'Shaughnessy was hired by San Francisco Mayor James Rolph as chief engineer for the city in September 1912 to supervise the construction of the Twin Peaks Reservoir, the Stockton Street Tunnel, the Twin Peaks Tunnel, the San Francisco Municipal Railway, the Auxiliary Water Supply System, and new sewers. San Francisco's streetcar system, of which the J, K, L, M, and N lines survive today, was pushed to completion by O'Shaughnessy between 1915 and 1927. It was the O'Shaughnessy Dam, Hetch Hetchy Reservoir, and Hetch Hetchy Aqueduct that would have the largest effect on San Francisco. An abundant water supply enabled San Francisco to develop into the city it has become today.\n",
            "\n",
            "In ensuing years, the city solidified its standing as a financial capital; in the wake of the 1929 stock market crash, not a single San Francisco-based bank failed. Indeed, it was at the height of the Great Depression that San Francisco undertook two great civil engineering projects, simultaneously constructing the San Francisco–Oakland Bay Bridge and the Golden Gate Bridge, completing them in 1936 and 1937, respectively. It was in this period that the island of Alcatraz, a former military stockade, began its service as a federal maximum security prison, housing notorious inmates such as Al Capone, and Robert Franklin Stroud, the Birdman of Alcatraz. San Francisco later celebrated its regained grandeur with a World's fair, the Golden Gate International Exposition in 1939–40, creating Treasure Island in the middle of the bay to house it.\n",
            "\n",
            "During World War II, the Hunters Point Naval Shipyard became a hub of activity, and Fort Mason became the primary port of embarkation for service members shipping out to the Pacific Theater of Operations. The explosion of jobs drew many people, especially African Americans from the South, to the area. After the end of the war, many military personnel returning from service abroad and civilians who had originally come to work decided to stay. The United Nations Charter creating the United Nations was drafted and signed in San Francisco in 1945 and, in 1951, the Treaty of San Francisco officially ended the war with Japan.Urban planning projects in the 1950s and 1960s involved widespread destruction and redevelopment of west-side neighborhoods and the construction of new freeways, of which only a series of short segments were built before being halted by citizen-led opposition. The onset of containerization made San Francisco's small piers obsolete, and cargo activity moved to the larger Port of Oakland. The city began to lose industrial jobs and turned to tourism as the most important segment of its economy. The suburbs experienced rapid growth, and San Francisco underwent significant demographic change, as large segments of the white population left the city, supplanted by an increasing wave of immigration from Asia and Latin America. From 1950 to 1980, the city lost over 10 percent of its population.\n",
            "Over this period, San Francisco became a magnet for America's counterculture. Beat Generation writers fueled the San Francisco Renaissance and centered on the North Beach neighborhood in the 1950s. Hippies flocked to Haight-Ashbury in the 1960s, reaching a peak with the 1967 Summer of Love. In 1974, the Zebra murders left at least 16 people dead. In the 1970s, the city became a center of the gay rights movement, with the emergence of The Castro as an urban gay village, the election of Harvey Milk to the Board of Supervisors, and his assassination, along with that of Mayor George Moscone, in 1978.Bank of America completed 555 California Street in 1969 and the Transamerica Pyramid was completed in 1972, igniting a wave of \"Manhattanization\" that lasted until the late 1980s, a period of extensive high-rise development downtown. The 1980s also saw a dramatic increase in the number of homeless people in the city, an issue that remains today, despite many attempts to address it. The 1989 Loma Prieta earthquake caused destruction and loss of life throughout the Bay Area. In San Francisco, the quake severely damaged structures in the Marina and South of Market districts and precipitated the demolition of the damaged Embarcadero Freeway and much of the damaged Central Freeway, allowing the city to reclaim The Embarcadero as its historic downtown waterfront and revitalizing the Hayes Valley neighborhood.Two recent decades have seen two booms driven by the internet industry. First was the dot-com boom of the late 1990s, startup companies invigorated the San Francisco economy. Large numbers of entrepreneurs and computer application developers moved into the city, followed by marketing, design, and sales professionals, changing the social landscape as once-poorer neighborhoods became increasingly gentrified. Demand for new housing and office space ignited a second wave of high-rise development, this time in the South of Market district. By 2000, the city's population reached new highs, surpassing the previous record set in 1950. When the bubble burst in 2001, many of these companies folded and their employees were laid off. Yet high technology and entrepreneurship remain mainstays of the San Francisco economy. By the mid-2000s (decade), the social media boom had begun, with San Francisco becoming a popular location for tech offices and a common place to live for people employed in Silicon Valley companies such as Apple and Google.The Ferry Station Post Office Building, Armour & Co. Building, Atherton House, and YMCA Hotel are historic buildings among dozens of historical landmarks in the city according to the National Register of Historic Places listings in San Francisco.\n",
            "\n",
            "Years:\n",
            "['1769', '1776', '1821', '1835', '1846', '1848', '1849', '1848', '1849', '1851', '1870', '1850', '1859', '1852', '1864', '1869', '1870', '1873', '1890', '1901', '1900', '1904', '1906', '1910', '1915', '1912', '1915', '1927', '1929', '1936', '1937', '1939', '1945', '1951', '1950', '1980', '1967', '1974', '1978', '1969', '1972', '1989', '2000', '1950', '2001']\n"
          ],
          "name": "stdout"
        }
      ]
    }
  ]
}