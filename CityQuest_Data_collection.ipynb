{
  "nbformat": 4,
  "nbformat_minor": 0,
  "metadata": {
    "colab": {
      "name": "CityQuest_Data_collection.ipynb",
      "provenance": [],
      "authorship_tag": "ABX9TyMGIIkMphI0mNZSLokMmu+o",
      "include_colab_link": true
    },
    "kernelspec": {
      "name": "python3",
      "display_name": "Python 3"
    }
  },
  "cells": [
    {
      "cell_type": "markdown",
      "metadata": {
        "id": "view-in-github",
        "colab_type": "text"
      },
      "source": [
        "<a href=\"https://colab.research.google.com/github/Margarita89/CityQuest/blob/master/CityQuest_Data_collection.ipynb\" target=\"_parent\"><img src=\"https://colab.research.google.com/assets/colab-badge.svg\" alt=\"Open In Colab\"/></a>"
      ]
    },
    {
      "cell_type": "markdown",
      "metadata": {
        "id": "ZKp8bRqrVeQa",
        "colab_type": "text"
      },
      "source": [
        "# **City Quest Data Collection from Wikipedia**"
      ]
    },
    {
      "cell_type": "markdown",
      "metadata": {
        "id": "rxOXMuojVoRG",
        "colab_type": "text"
      },
      "source": [
        "### **Install wikipedia module**\n",
        "Also useful links of the Wikipedia pages for tests"
      ]
    },
    {
      "cell_type": "code",
      "metadata": {
        "id": "xeZ619bxrmLe",
        "colab_type": "code",
        "colab": {}
      },
      "source": [
        "!pip install wikipedia\n",
        "# Wikipedia API: https://github.com/goldsmith/Wikipedia/blob/master/wikipedia/wikipedia.py \n",
        "# NLTK: https://towardsdatascience.com/named-entity-recognition-with-nltk-and-spacy-8c4a7d88e7da \n",
        "# New York City: https://en.wikipedia.org/wiki/New_York_City\n",
        "# San Francisco: https://en.wikipedia.org/wiki/San_Francisco\n",
        "# Washigton D.C.: https://en.wikipedia.org/wiki/Washington,_D.C.\n",
        "# Las Vegas: https://en.wikipedia.org/wiki/Las_Vegas\n",
        "# Seattle: https://en.wikipedia.org/wiki/Seattle\n",
        "# Miami: https://en.wikipedia.org/wiki/Miami\n",
        "# Los Angeles: https://en.wikipedia.org/wiki/Los_Angeles\n",
        "# Philadelphia: https://en.wikipedia.org/wiki/Philadelphia\n",
        "# Chicago\n",
        "# San Diego\n",
        "# Boston\n",
        "# Minneapolis\n",
        "# Atlanta\n",
        "# Houston\n",
        "# Phoenix"
      ],
      "execution_count": null,
      "outputs": []
    },
    {
      "cell_type": "markdown",
      "metadata": {
        "id": "ZDSFmv89WL_l",
        "colab_type": "text"
      },
      "source": [
        "### **Some imports and testing wikipedia module**"
      ]
    },
    {
      "cell_type": "code",
      "metadata": {
        "id": "Y0Pb8tIzrT6C",
        "colab_type": "code",
        "colab": {}
      },
      "source": [
        "from collections import defaultdict\n",
        "from typing import Set, List, Dict, DefaultDict\n",
        "import wikipedia"
      ],
      "execution_count": 2,
      "outputs": []
    },
    {
      "cell_type": "code",
      "metadata": {
        "id": "NfimW2i8WBp7",
        "colab_type": "code",
        "colab": {
          "base_uri": "https://localhost:8080/",
          "height": 35
        },
        "outputId": "48198a89-4cd5-43ac-8806-5611d8fca25a"
      },
      "source": [
        "ny = wikipedia.page(\"New York City\")\n",
        "ny.title\n",
        "# u'New York City'"
      ],
      "execution_count": 3,
      "outputs": [
        {
          "output_type": "execute_result",
          "data": {
            "application/vnd.google.colaboratory.intrinsic+json": {
              "type": "string"
            },
            "text/plain": [
              "'New York City'"
            ]
          },
          "metadata": {
            "tags": []
          },
          "execution_count": 3
        }
      ]
    },
    {
      "cell_type": "code",
      "metadata": {
        "id": "FEQWQKoW-DmW",
        "colab_type": "code",
        "colab": {
          "base_uri": "https://localhost:8080/",
          "height": 35
        },
        "outputId": "05b9e9bf-62f9-4706-dd1a-8a3baa1f714a"
      },
      "source": [
        "ny.url\n",
        "# u'https://en.wikipedia.org/wiki/New_York_City'"
      ],
      "execution_count": 4,
      "outputs": [
        {
          "output_type": "execute_result",
          "data": {
            "application/vnd.google.colaboratory.intrinsic+json": {
              "type": "string"
            },
            "text/plain": [
              "'https://en.wikipedia.org/wiki/New_York_City'"
            ]
          },
          "metadata": {
            "tags": []
          },
          "execution_count": 4
        }
      ]
    },
    {
      "cell_type": "code",
      "metadata": {
        "id": "G1svze4J6Udf",
        "colab_type": "code",
        "colab": {
          "base_uri": "https://localhost:8080/",
          "height": 35
        },
        "outputId": "f340024d-54d5-438c-bfb9-de960f0856db"
      },
      "source": [
        "ny.summary[:100]"
      ],
      "execution_count": 8,
      "outputs": [
        {
          "output_type": "execute_result",
          "data": {
            "application/vnd.google.colaboratory.intrinsic+json": {
              "type": "string"
            },
            "text/plain": [
              "'New York City, often called simply New York and abbreviated as NYC, is the most populous city in the'"
            ]
          },
          "metadata": {
            "tags": []
          },
          "execution_count": 8
        }
      ]
    },
    {
      "cell_type": "code",
      "metadata": {
        "id": "Kw71sUM7-GBP",
        "colab_type": "code",
        "colab": {
          "base_uri": "https://localhost:8080/",
          "height": 35
        },
        "outputId": "fb26d3e0-3b6d-441b-a44b-eed1f7e1c6be"
      },
      "source": [
        "ny.content[:100]\n",
        "# u'New York City, often called simply New York and abbreviated as NYC, is the most populous city in the'..."
      ],
      "execution_count": 7,
      "outputs": [
        {
          "output_type": "execute_result",
          "data": {
            "application/vnd.google.colaboratory.intrinsic+json": {
              "type": "string"
            },
            "text/plain": [
              "'New York City, often called simply New York and abbreviated as NYC, is the most populous city in the'"
            ]
          },
          "metadata": {
            "tags": []
          },
          "execution_count": 7
        }
      ]
    },
    {
      "cell_type": "code",
      "metadata": {
        "id": "Y0-TS-3s-bww",
        "colab_type": "code",
        "colab": {
          "base_uri": "https://localhost:8080/",
          "height": 34
        },
        "outputId": "716d27a9-4bee-430c-951e-6f62f645c822"
      },
      "source": [
        "len(ny.links)"
      ],
      "execution_count": 10,
      "outputs": [
        {
          "output_type": "execute_result",
          "data": {
            "text/plain": [
              "2486"
            ]
          },
          "metadata": {
            "tags": []
          },
          "execution_count": 10
        }
      ]
    },
    {
      "cell_type": "code",
      "metadata": {
        "id": "B1n6nKcE-IZu",
        "colab_type": "code",
        "colab": {
          "base_uri": "https://localhost:8080/",
          "height": 34
        },
        "outputId": "4a36fe01-ef3f-4da4-b6e4-b99ceed1fdc7"
      },
      "source": [
        "'History of New York City' in ny.links"
      ],
      "execution_count": 9,
      "outputs": [
        {
          "output_type": "execute_result",
          "data": {
            "text/plain": [
              "True"
            ]
          },
          "metadata": {
            "tags": []
          },
          "execution_count": 9
        }
      ]
    },
    {
      "cell_type": "code",
      "metadata": {
        "id": "uUa-Bwq9_Cn8",
        "colab_type": "code",
        "colab": {
          "base_uri": "https://localhost:8080/",
          "height": 35
        },
        "outputId": "a88809e1-0599-42ea-e5a8-f0375384a741"
      },
      "source": [
        "ny_history = wikipedia.page('History of New York City')\n",
        "ny_history.content[:100]"
      ],
      "execution_count": 11,
      "outputs": [
        {
          "output_type": "execute_result",
          "data": {
            "application/vnd.google.colaboratory.intrinsic+json": {
              "type": "string"
            },
            "text/plain": [
              "'The written history of New York City began with the first European explorer the Italian Giovanni da '"
            ]
          },
          "metadata": {
            "tags": []
          },
          "execution_count": 11
        }
      ]
    },
    {
      "cell_type": "code",
      "metadata": {
        "id": "f1qkGOsI_aqG",
        "colab_type": "code",
        "colab": {
          "base_uri": "https://localhost:8080/",
          "height": 35
        },
        "outputId": "f16f922e-8971-434c-d507-64b544ddfc7f"
      },
      "source": [
        "ny.links[943]"
      ],
      "execution_count": 12,
      "outputs": [
        {
          "output_type": "execute_result",
          "data": {
            "application/vnd.google.colaboratory.intrinsic+json": {
              "type": "string"
            },
            "text/plain": [
              "'History of New York City'"
            ]
          },
          "metadata": {
            "tags": []
          },
          "execution_count": 12
        }
      ]
    },
    {
      "cell_type": "code",
      "metadata": {
        "id": "N2ONJJ2s6nG-",
        "colab_type": "code",
        "colab": {
          "base_uri": "https://localhost:8080/",
          "height": 35
        },
        "outputId": "4be01c7f-81ee-4d5b-f63a-bd38265eb54c"
      },
      "source": [
        "ny.section('Architecture')[:100]"
      ],
      "execution_count": 14,
      "outputs": [
        {
          "output_type": "execute_result",
          "data": {
            "application/vnd.google.colaboratory.intrinsic+json": {
              "type": "string"
            },
            "text/plain": [
              "'New York has architecturally noteworthy buildings in a wide range of styles and from distinct time p'"
            ]
          },
          "metadata": {
            "tags": []
          },
          "execution_count": 14
        }
      ]
    },
    {
      "cell_type": "code",
      "metadata": {
        "id": "Khazr9DZPvKW",
        "colab_type": "code",
        "colab": {
          "base_uri": "https://localhost:8080/",
          "height": 272
        },
        "outputId": "dbeb4007-5320-4407-c04c-493655146902"
      },
      "source": [
        "sections = get_sections('Van Cortlandt Park')\n",
        "sections[:len(sections)//2]"
      ],
      "execution_count": 17,
      "outputs": [
        {
          "output_type": "execute_result",
          "data": {
            "text/plain": [
              "['History',\n",
              " 'Settlement and colonization',\n",
              " 'Planning',\n",
              " 'Creation',\n",
              " 'Early years',\n",
              " 'Decline',\n",
              " 'Improvements',\n",
              " 'Geography',\n",
              " 'Geology',\n",
              " 'Watercourses',\n",
              " 'Wildlife',\n",
              " 'Landmarks and structures',\n",
              " 'Trails',\n",
              " 'Landmarks',\n",
              " 'Other structures']"
            ]
          },
          "metadata": {
            "tags": []
          },
          "execution_count": 17
        }
      ]
    },
    {
      "cell_type": "markdown",
      "metadata": {
        "id": "H0tyugGKW-67",
        "colab_type": "text"
      },
      "source": [
        "### **Collect data from a page by city name**\n",
        "Filter the data by \"cultural\" content. Search through sections, links and deeper links"
      ]
    },
    {
      "cell_type": "code",
      "metadata": {
        "id": "VSriO1RDBi7P",
        "colab_type": "code",
        "colab": {}
      },
      "source": [
        "def get_sections(page_name: str) -> List[str]:\n",
        "  \"\"\"Returns sections' names from Wikipedia page by page_name\n",
        "  \"\"\"\n",
        "  query_params = {\n",
        "          'action': 'parse',\n",
        "          'prop': 'sections',\n",
        "        }\n",
        "  query_params['page']= page_name\n",
        "  request = wikipedia.wikipedia._wiki_request(query_params)\n",
        "  #print(request)\n",
        "  sections = [a['line'] for a in request['parse']['sections']]\n",
        "  return sections"
      ],
      "execution_count": 16,
      "outputs": []
    },
    {
      "cell_type": "code",
      "metadata": {
        "id": "JiwdiebIJj_n",
        "colab_type": "code",
        "colab": {
          "base_uri": "https://localhost:8080/",
          "height": 35
        },
        "outputId": "51d5f2a1-61e7-4616-a19d-d9252b732b91"
      },
      "source": [
        "sections = get_sections('New York City')\n",
        "sections[0]"
      ],
      "execution_count": 18,
      "outputs": [
        {
          "output_type": "execute_result",
          "data": {
            "application/vnd.google.colaboratory.intrinsic+json": {
              "type": "string"
            },
            "text/plain": [
              "'Etymology'"
            ]
          },
          "metadata": {
            "tags": []
          },
          "execution_count": 18
        }
      ]
    },
    {
      "cell_type": "code",
      "metadata": {
        "id": "lC_sz7zW9Ixk",
        "colab_type": "code",
        "colab": {}
      },
      "source": [
        "# keywords for sections and links that are interesting to check\n",
        "# stop words to skip\n",
        "# can be updated later!\n",
        "SECTION_KEYWORDS = {'architecture', 'park', 'art', 'history', 'cultural', \n",
        "                    'museum', 'etymology', 'landmark'}\n",
        "LINK_KEYWORDS = {'architecture', 'park', 'art', 'history', 'cultural', 'museum', \n",
        "                 'monument', 'landmark', 'statue', 'castle', 'zoo', 'arch', \n",
        "                 'cathedral', 'church', 'square', 'opera', 'house'}\n",
        "LINK_CONTENT_KEYWORDS = {'architecture', 'attractions','history', 'background'}\n",
        "DEEP_LINK_KEYWORDS = {'List of museums'}  # to go to the next link\n",
        "DEEP_CONTENT_KEYWORDS = {'museum', 'cathedral', 'statue', 'monument', 'house',\n",
        "                           'church', 'castle', 'zoo', 'park', 'garden'}\n",
        "STOP_WORDS = {'police', 'article', 'burial', 'party', 'inc', 'zoopraxiscope', \n",
        "              'Representatives', 'Archdiocese', 'Commission', 'History.com',\n",
        "              'internet', 'archive', 'operations', 'parker', 'parkway', \n",
        "              'archdeacon', 'references', 'see', 'also' 'external', 'links', \n",
        "              'demographics', 'faculty', 'alumni', 'accreditation', 'lawsuits',\n",
        "              'notable', 'residents', 'curriculum', 'school', 'health', 'mental',\n",
        "              'online', 'canada', 'education', 'college', 'universit', \n",
        "              'relocation', 'expansion', 'bibliography', 'reading', 'citations'} \n",
        "              # 'Beaux-Arts'\n",
        "LINK_STOP_WORDS = {}"
      ],
      "execution_count": 19,
      "outputs": []
    },
    {
      "cell_type": "code",
      "metadata": {
        "id": "80CqGfqw_k0h",
        "colab_type": "code",
        "colab": {}
      },
      "source": [
        "def get_interesting_sections(page_name: str) -> List[str]:\n",
        "  \"\"\"Returns a list of section names that contains interesting keywords\n",
        "  \"\"\"\n",
        "  sections = get_sections(page_name)\n",
        "  interesting_sections = []\n",
        "  for section in sections:\n",
        "    section_low = section.lower()\n",
        "    for key in SECTION_KEYWORDS:\n",
        "      if key in section_low:\n",
        "        interesting_sections.append(section)\n",
        "  return interesting_sections"
      ],
      "execution_count": 20,
      "outputs": []
    },
    {
      "cell_type": "code",
      "metadata": {
        "id": "568dbcsyB7-X",
        "colab_type": "code",
        "colab": {}
      },
      "source": [
        " def get_interesting_links(page_name: str) -> List[str]:\n",
        "  \"\"\"Returns a list of link names that contain interesting keywords\n",
        "  \"\"\"\n",
        "  links = wikipedia.page(page_name).links\n",
        "  interesting_links = []\n",
        "  for link in links:\n",
        "    link_lower = link.lower()\n",
        "    link_low_splitted = link_lower.split(' ')\n",
        "    for key in LINK_KEYWORDS:\n",
        "      if (any(l.startswith(key) for l in link_low_splitted) and \n",
        "        all(stop_word not in link_lower for stop_word in STOP_WORDS)):\n",
        "        interesting_links.append(link)\n",
        "  return interesting_links"
      ],
      "execution_count": 21,
      "outputs": []
    },
    {
      "cell_type": "code",
      "metadata": {
        "id": "JNzY4IH_GjcX",
        "colab_type": "code",
        "colab": {}
      },
      "source": [
        "def get_page_data_by_section(page_name: str) -> Dict[str, str]:\n",
        "  \"\"\"Returns a dictionary of section: content as key: value pairs\n",
        "  \"\"\"\n",
        "  section_names = get_interesting_sections(page_name=page_name)\n",
        "  section_data = {'Summary': wikipedia.page(city_name).summary}\n",
        "  city = wikipedia.page(city_name)\n",
        "  for section_name in section_names:\n",
        "    section_content = city.section(section_name)\n",
        "    section_data[section_name] = section_content\n",
        "  return section_data"
      ],
      "execution_count": 22,
      "outputs": []
    },
    {
      "cell_type": "code",
      "metadata": {
        "id": "3nwAr5V-zlJc",
        "colab_type": "code",
        "colab": {}
      },
      "source": [
        "def get_page_data_by_section_by_link(page_name: str) -> Dict[str, str]:\n",
        "  \"\"\"Returns a string of section contents without stop words\n",
        "  \"\"\"\n",
        "  sections = get_sections(page_name)\n",
        "  interesting_sections = []\n",
        "  for section in sections:\n",
        "    section_lower = section.lower()\n",
        "    if all(stop_word not in section_lower for stop_word in STOP_WORDS):\n",
        "      interesting_sections.append(section)\n",
        "  \n",
        "  page_content_by_link = {}\n",
        "  page_summary = page_name + '.' + 'Summary'\n",
        "  page_from_link = wikipedia.page(page_name)\n",
        "  page_content_by_link[page_summary] = page_from_link.summary\n",
        "  for section in interesting_sections:\n",
        "    page_section = page_name + '.' + section\n",
        "    page_content_by_link[page_section] = page_from_link.section(section)\n",
        "  return page_content_by_link"
      ],
      "execution_count": 23,
      "outputs": []
    },
    {
      "cell_type": "code",
      "metadata": {
        "id": "VyxnEP5NC8Ig",
        "colab_type": "code",
        "colab": {}
      },
      "source": [
        "def get_city_data_by_link(page_name: str) -> Dict[str, str]:\n",
        "  \"\"\"Returns a dictionary of link: content as key: value pairs\n",
        "  \"\"\"\n",
        "  link_names = get_interesting_links(page_name=page_name)\n",
        "  links_data = {}\n",
        "  for link_name in link_names:\n",
        "    link_data = get_page_data_by_section_by_link(page_name=link_name)\n",
        "    links_data.update(link_data)\n",
        "  return links_data"
      ],
      "execution_count": 24,
      "outputs": []
    },
    {
      "cell_type": "code",
      "metadata": {
        "id": "G6OsepHHH3vl",
        "colab_type": "code",
        "colab": {}
      },
      "source": [
        "def get_deep_links_by_link(page_name: str) -> List[str]:\n",
        "  \"\"\"Returns filtered deep links of links \n",
        "  \"\"\"\n",
        "  deeper_links_names = []\n",
        "  links = wikipedia.page(page_name).links\n",
        "\n",
        "  for link in links:\n",
        "    for key in DEEP_LINK_KEYWORDS:\n",
        "      if key not in link:\n",
        "        continue\n",
        "      \n",
        "      deep_page = wikipedia.page(link)\n",
        "      for deep_page_link in deep_page.links:\n",
        "        deep_page_link_lower = deep_page_link.lower()\n",
        "        for key_content in DEEP_CONTENT_KEYWORDS:\n",
        "          if key_content in deep_page_link_lower:\n",
        "            deeper_links_names.append(deep_page_link)\n",
        "  return deeper_links_names"
      ],
      "execution_count": 25,
      "outputs": []
    },
    {
      "cell_type": "code",
      "metadata": {
        "id": "j9VZz9TjIBg9",
        "colab_type": "code",
        "colab": {}
      },
      "source": [
        "def get_deeper_links_content(page_name: str) -> Dict[str, str]:\n",
        "  \"\"\"Returns deeper links content filtered as first half of sections\n",
        "  \"\"\"\n",
        "  deeper_links_data = get_deep_links_by_link(page_name=page_name)\n",
        "  \n",
        "  deeper_links_data = {}\n",
        "  for link in deeper_links_data:\n",
        "    page_summary = link + '.' + 'Summary'\n",
        "    page_from_link = wikipedia.page(link)\n",
        "    deeper_links_data[page_summary] = page_from_link.summary\n",
        "    \n",
        "    link_sections = get_sections(link)\n",
        "    for i in range(len(link_sections) // 2):\n",
        "      section = link_sections[i]\n",
        "      page_section = link + '.' + section\n",
        "      deeper_links_data[page_section] = page_from_link.section(section)\n",
        "  return deeper_links_data"
      ],
      "execution_count": 26,
      "outputs": []
    },
    {
      "cell_type": "code",
      "metadata": {
        "id": "pB6XSdCKDTPM",
        "colab_type": "code",
        "colab": {}
      },
      "source": [
        "def get_city_data(city_name: str) -> Dict[str, str]:\n",
        "  \"\"\"Gets two dictionaries of section: content and link: content\n",
        "     Returns one concatenated dictionary\n",
        "  \"\"\"\n",
        "  section_data = get_page_data_by_section(page_name=city_name)\n",
        "  link_data = get_city_data_by_link(page_name=city_name)\n",
        "  deeper_links_data = get_deeper_links_content(page_name=city_name)\n",
        "  return {**section_data, **link_data, **deeper_links_data}"
      ],
      "execution_count": 27,
      "outputs": []
    },
    {
      "cell_type": "code",
      "metadata": {
        "id": "0xvK4B71GCuy",
        "colab_type": "code",
        "colab": {}
      },
      "source": [
        "# collects all interesting content and link data for chosen cities into one  \n",
        "# dictionary\n",
        "city_names = ['New York City', 'San Francisco', 'Washington, D.C.', 'Chicago', \n",
        "              'Philadelphia', 'Las Vegas', 'Seattle', 'Miami', 'Los Angeles',\n",
        "              'San Diego', 'Boston', 'Minneapolis', 'Atlanta', 'Houston', \n",
        "              'Phoenix']\n",
        "city_names_test = ['New York City', 'San Francisco']\n",
        "city_data = {}\n",
        "for city_name in city_names_test:\n",
        "  city_data[city_name] = get_city_data(city_name=city_name)"
      ],
      "execution_count": 28,
      "outputs": []
    },
    {
      "cell_type": "markdown",
      "metadata": {
        "id": "urBu6HP_XsJs",
        "colab_type": "text"
      },
      "source": [
        "###**Do some testing**\n",
        "To continue.."
      ]
    },
    {
      "cell_type": "code",
      "metadata": {
        "id": "J2kWDX9YHBI4",
        "colab_type": "code",
        "colab": {}
      },
      "source": [
        "for city in city_data:\n",
        "  for key in city_data[city]:\n",
        "    print(key)"
      ],
      "execution_count": null,
      "outputs": []
    },
    {
      "cell_type": "code",
      "metadata": {
        "id": "Hlov2LDnYyCV",
        "colab_type": "code",
        "colab": {}
      },
      "source": [
        "for heading in city_data['San Francisco']:\n",
        "  print(heading)"
      ],
      "execution_count": null,
      "outputs": []
    },
    {
      "cell_type": "code",
      "metadata": {
        "id": "h1zWOkpDa852",
        "colab_type": "code",
        "colab": {}
      },
      "source": [
        "for city in city_data:\n",
        "  city_info = []\n",
        "  for heading in city_data[city]:\n",
        "    city_info.append(heading)\n",
        "    city_info.append(city_data[city][heading])\n",
        "  file_name = city + ' data.txt'\n",
        "  with open(file_name, \"w\") as text_file:\n",
        "    try:\n",
        "      print('\\n'.join(map(str, city_info)), file=text_file)\n",
        "    except:\n",
        "      print(city_info, file=text_file)"
      ],
      "execution_count": 31,
      "outputs": []
    },
    {
      "cell_type": "code",
      "metadata": {
        "id": "s2S7bsBGMui4",
        "colab_type": "code",
        "colab": {}
      },
      "source": [
        "# save city_data in json format\n",
        "import json \n",
        "with open('city_data.json', 'w') as fp:\n",
        "    json.dump(city_data, fp)"
      ],
      "execution_count": 32,
      "outputs": []
    },
    {
      "cell_type": "code",
      "metadata": {
        "id": "78gmvQszTRg-",
        "colab_type": "code",
        "colab": {}
      },
      "source": [
        "import _pickle as pickle\n",
        "with open('file.txt', 'w') as file:\n",
        "     file.write(pickle.dumps(city_data))"
      ],
      "execution_count": null,
      "outputs": []
    },
    {
      "cell_type": "code",
      "metadata": {
        "id": "xYfADgDtL1AP",
        "colab_type": "code",
        "colab": {}
      },
      "source": [
        "for section in city_data['New York City']:\n",
        "  print(section)"
      ],
      "execution_count": null,
      "outputs": []
    },
    {
      "cell_type": "code",
      "metadata": {
        "id": "Q4kY14pwMDvt",
        "colab_type": "code",
        "colab": {
          "base_uri": "https://localhost:8080/",
          "height": 35
        },
        "outputId": "cfa1a2e3-78ef-49a4-e287-381803dfd6dc"
      },
      "source": [
        "city_data['New York City']['Arts'][:100]"
      ],
      "execution_count": 36,
      "outputs": [
        {
          "output_type": "execute_result",
          "data": {
            "application/vnd.google.colaboratory.intrinsic+json": {
              "type": "string"
            },
            "text/plain": [
              "'New York City has more than 2,000 arts and cultural organizations and more than 500 art galleries. T'"
            ]
          },
          "metadata": {
            "tags": []
          },
          "execution_count": 36
        }
      ]
    },
    {
      "cell_type": "code",
      "metadata": {
        "id": "_3JJVRjXMr6n",
        "colab_type": "code",
        "colab": {}
      },
      "source": [
        "for section in city_data['San Francisco']:\n",
        "  print(section)"
      ],
      "execution_count": null,
      "outputs": []
    },
    {
      "cell_type": "code",
      "metadata": {
        "id": "f1QnJN6WMz-3",
        "colab_type": "code",
        "colab": {
          "base_uri": "https://localhost:8080/",
          "height": 35
        },
        "outputId": "23454011-1947-45e4-f681-46c6c1e638b6"
      },
      "source": [
        "city_data['San Francisco']['Beaches and parks'][:100]"
      ],
      "execution_count": 38,
      "outputs": [
        {
          "output_type": "execute_result",
          "data": {
            "application/vnd.google.colaboratory.intrinsic+json": {
              "type": "string"
            },
            "text/plain": [
              "\"Several of San Francisco's parks and nearly all of its beaches form part of the regional Golden Gate\""
            ]
          },
          "metadata": {
            "tags": []
          },
          "execution_count": 38
        }
      ]
    },
    {
      "cell_type": "markdown",
      "metadata": {
        "id": "559_vug7X_6Q",
        "colab_type": "text"
      },
      "source": [
        "### **Use tokenization from nltk**\n",
        "To continue"
      ]
    },
    {
      "cell_type": "code",
      "metadata": {
        "id": "ao3h8_81Svru",
        "colab_type": "code",
        "colab": {}
      },
      "source": [
        "import nltk\n",
        "from nltk.tokenize import word_tokenize\n",
        "from nltk.tag import pos_tag\n",
        "nltk.download('punkt')\n",
        "nltk.download('averaged_perceptron_tagger')"
      ],
      "execution_count": null,
      "outputs": []
    },
    {
      "cell_type": "code",
      "metadata": {
        "id": "j4FnkGK3S14-",
        "colab_type": "code",
        "colab": {}
      },
      "source": [
        "def preprocess(sent):\n",
        "    sent = nltk.word_tokenize(sent)\n",
        "    sent = nltk.pos_tag(sent)\n",
        "    return sent"
      ],
      "execution_count": null,
      "outputs": []
    },
    {
      "cell_type": "code",
      "metadata": {
        "id": "eqOzAlNnS5n_",
        "colab_type": "code",
        "colab": {}
      },
      "source": [
        "preprocess(city_data['San Francisco']['Beaches and parks'])"
      ],
      "execution_count": null,
      "outputs": []
    },
    {
      "cell_type": "code",
      "metadata": {
        "id": "GVikQyAhWdR0",
        "colab_type": "code",
        "colab": {}
      },
      "source": [
        "def ie_preprocess(document):\n",
        "  sentences = nltk.sent_tokenize(document)\n",
        "  sentences = [nltk.word_tokenize(sent) for sent in sentences] \n",
        "  sentences = [nltk.pos_tag(sent) for sent in sentences]\n",
        "  return sentences"
      ],
      "execution_count": null,
      "outputs": []
    },
    {
      "cell_type": "code",
      "metadata": {
        "id": "CuSd-GSSW20p",
        "colab_type": "code",
        "colab": {}
      },
      "source": [
        "ie_preprocess(city_data['San Francisco']['History'])"
      ],
      "execution_count": null,
      "outputs": []
    },
    {
      "cell_type": "markdown",
      "metadata": {
        "id": "n-P-OhLAYktT",
        "colab_type": "text"
      },
      "source": [
        "### **Extract some years**\n",
        "Thinking about preparing for question generation.. \n",
        "To continue"
      ]
    },
    {
      "cell_type": "code",
      "metadata": {
        "id": "pmEbpt1AXLCW",
        "colab_type": "code",
        "colab": {
          "base_uri": "https://localhost:8080/",
          "height": 326
        },
        "outputId": "e24eca08-8afe-4abd-9ac5-c1dd98cb1c04"
      },
      "source": [
        "import re\n",
        "import datetime\n",
        "now = datetime.datetime.now()\n",
        "y = city_data['San Francisco']['History']\n",
        "print(f'Text:\\n{y}')\n",
        "years = re.findall(r'\\b\\d{4}\\b', y)\n",
        "years = [year for year in years if int(year) <= now.year]\n",
        "print(f'\\nYears:\\n{years}')"
      ],
      "execution_count": null,
      "outputs": [
        {
          "output_type": "stream",
          "text": [
            "Text:\n",
            "The earliest archaeological evidence of human habitation of the territory of the city of San Francisco dates to 3000 BC. The Yelamu group of the Ohlone people resided in a few small villages when an overland Spanish exploration party, led by Don Gaspar de Portolá, arrived on November 2, 1769, the first documented European visit to San Francisco Bay. Seven years later, on March 28, 1776, the Spanish established the Presidio of San Francisco, followed by a mission, Mission San Francisco de Asís (Mission Dolores), established by the Spanish explorer Juan Bautista de Anza.\n",
            "\n",
            "Upon independence from Spain in 1821, the area became part of Mexico. Under Mexican rule, the mission system gradually ended, and its lands became privatized. In 1835, William Richardson, a naturalized Mexican citizen of English birth, erected the first independent homestead, near a boat anchorage around what is today Portsmouth Square. Together with Alcalde Francisco de Haro, he laid out a street plan for the expanded settlement, and the town, named Yerba Buena, began to attract American settlers. Commodore John D. Sloat claimed California for the United States on July 7, 1846, during the Mexican–American War, and Captain John B. Montgomery arrived to claim Yerba Buena two days later. Yerba Buena was renamed San Francisco on January 30 of the next year, and Mexico officially ceded the territory to the United States at the end of the war in 1848. Despite its attractive location as a port and naval base, San Francisco was still a small settlement with inhospitable geography.\n",
            "\n",
            "The California Gold Rush brought a flood of treasure seekers (known as \"forty-niners\", as in \"1849\"). With their sourdough bread in tow, prospectors accumulated in San Francisco over rival Benicia, raising the population from 1,000 in 1848 to 25,000 by December 1849. The promise of great wealth was so strong that crews on arriving vessels deserted and rushed off to the gold fields, leaving behind a forest of masts in San Francisco harbor.\n",
            "Some of these approximately 500 abandoned ships were used at times as storeships, saloons and hotels; many were left to rot and some were sunk to establish title to the underwater lot. By 1851 the harbor was extended out into the bay by wharves while buildings were erected on piles among the ships. By 1870 Yerba Buena Cove had been filled to create new land. Buried ships are occasionally exposed when foundations are dug for new buildings.California was quickly granted statehood in 1850, and the U.S. military built Fort Point at the Golden Gate and a fort on Alcatraz Island to secure the San Francisco Bay. Silver discoveries, including the Comstock Lode in Nevada in 1859, further drove rapid population growth. With hordes of fortune seekers streaming through the city, lawlessness was common, and the Barbary Coast section of town gained notoriety as a haven for criminals, prostitution, and gambling.Entrepreneurs sought to capitalize on the wealth generated by the Gold Rush. Early winners were the banking industry, with the founding of Wells Fargo in 1852 and the Bank of California in 1864. Development of the Port of San Francisco and the establishment in 1869 of overland access to the eastern U.S. rail system via the newly completed Pacific Railroad (the construction of which the city only reluctantly helped support) helped make the Bay Area a center for trade. Catering to the needs and tastes of the growing population, Levi Strauss opened a dry goods business and Domingo Ghirardelli began manufacturing chocolate. Chinese immigrants made the city a polyglot culture, drawn to \"Old Gold Mountain\", creating the city's Chinatown quarter. In 1870, Asians made up 8% of the population. The first cable cars carried San Franciscans up Clay Street in 1873. The city's sea of Victorian houses began to take shape, and civic leaders campaigned for a spacious public park, resulting in plans for Golden Gate Park. San Franciscans built schools, churches, theaters, and all the hallmarks of civic life. The Presidio developed into the most important American military installation on the Pacific coast. By 1890, San Francisco's population approached 300,000, making it the eighth-largest city in the United States at the time. Around 1901, San Francisco was a major city known for its flamboyant style, stately hotels, ostentatious mansions on Nob Hill, and a thriving arts scene. The first North American plague epidemic was the San Francisco plague of 1900–1904.At 5:12 am on April 18, 1906, a major earthquake struck San Francisco and northern California. As buildings collapsed from the shaking, ruptured gas lines ignited fires that spread across the city and burned out of control for several days. With water mains out of service, the Presidio Artillery Corps attempted to contain the inferno by dynamiting blocks of buildings to create firebreaks. More than three-quarters of the city lay in ruins, including almost all of the downtown core. Contemporary accounts reported that 498 people lost their lives, though modern estimates put the number in the several thousands. More than half of the city's population of 400,000 was left homeless. Refugees settled temporarily in makeshift tent villages in Golden Gate Park, the Presidio, on the beaches, and elsewhere. Many fled permanently to the East Bay.\n",
            "\n",
            "Rebuilding was rapid and performed on a grand scale. Rejecting calls to completely remake the street grid, San Franciscans opted for speed. Amadeo Giannini's Bank of Italy, later to become Bank of America, provided loans for many of those whose livelihoods had been devastated. The influential San Francisco Planning and Urban Research Association or SPUR was founded in 1910 to address the quality of housing after the earthquake. The earthquake hastened development of western neighborhoods that survived the fire, including Pacific Heights, where many of the city's wealthy rebuilt their homes. In turn, the destroyed mansions of Nob Hill became grand hotels. City Hall rose again in splendid Beaux Arts style, and the city celebrated its rebirth at the Panama–Pacific International Exposition in 1915.It was during this period San Francisco built some of its most important infrastructure. Civil Engineer Michael O'Shaughnessy was hired by San Francisco Mayor James Rolph as chief engineer for the city in September 1912 to supervise the construction of the Twin Peaks Reservoir, the Stockton Street Tunnel, the Twin Peaks Tunnel, the San Francisco Municipal Railway, the Auxiliary Water Supply System, and new sewers. San Francisco's streetcar system, of which the J, K, L, M, and N lines survive today, was pushed to completion by O'Shaughnessy between 1915 and 1927. It was the O'Shaughnessy Dam, Hetch Hetchy Reservoir, and Hetch Hetchy Aqueduct that would have the largest effect on San Francisco. An abundant water supply enabled San Francisco to develop into the city it has become today.\n",
            "\n",
            "In ensuing years, the city solidified its standing as a financial capital; in the wake of the 1929 stock market crash, not a single San Francisco-based bank failed. Indeed, it was at the height of the Great Depression that San Francisco undertook two great civil engineering projects, simultaneously constructing the San Francisco–Oakland Bay Bridge and the Golden Gate Bridge, completing them in 1936 and 1937, respectively. It was in this period that the island of Alcatraz, a former military stockade, began its service as a federal maximum security prison, housing notorious inmates such as Al Capone, and Robert Franklin Stroud, the Birdman of Alcatraz. San Francisco later celebrated its regained grandeur with a World's fair, the Golden Gate International Exposition in 1939–40, creating Treasure Island in the middle of the bay to house it.\n",
            "\n",
            "During World War II, the Hunters Point Naval Shipyard became a hub of activity, and Fort Mason became the primary port of embarkation for service members shipping out to the Pacific Theater of Operations. The explosion of jobs drew many people, especially African Americans from the South, to the area. After the end of the war, many military personnel returning from service abroad and civilians who had originally come to work decided to stay. The United Nations Charter creating the United Nations was drafted and signed in San Francisco in 1945 and, in 1951, the Treaty of San Francisco officially ended the war with Japan.Urban planning projects in the 1950s and 1960s involved widespread destruction and redevelopment of west-side neighborhoods and the construction of new freeways, of which only a series of short segments were built before being halted by citizen-led opposition. The onset of containerization made San Francisco's small piers obsolete, and cargo activity moved to the larger Port of Oakland. The city began to lose industrial jobs and turned to tourism as the most important segment of its economy. The suburbs experienced rapid growth, and San Francisco underwent significant demographic change, as large segments of the white population left the city, supplanted by an increasing wave of immigration from Asia and Latin America. From 1950 to 1980, the city lost over 10 percent of its population.\n",
            "Over this period, San Francisco became a magnet for America's counterculture. Beat Generation writers fueled the San Francisco Renaissance and centered on the North Beach neighborhood in the 1950s. Hippies flocked to Haight-Ashbury in the 1960s, reaching a peak with the 1967 Summer of Love. In 1974, the Zebra murders left at least 16 people dead. In the 1970s, the city became a center of the gay rights movement, with the emergence of The Castro as an urban gay village, the election of Harvey Milk to the Board of Supervisors, and his assassination, along with that of Mayor George Moscone, in 1978.Bank of America completed 555 California Street in 1969 and the Transamerica Pyramid was completed in 1972, igniting a wave of \"Manhattanization\" that lasted until the late 1980s, a period of extensive high-rise development downtown. The 1980s also saw a dramatic increase in the number of homeless people in the city, an issue that remains today, despite many attempts to address it. The 1989 Loma Prieta earthquake caused destruction and loss of life throughout the Bay Area. In San Francisco, the quake severely damaged structures in the Marina and South of Market districts and precipitated the demolition of the damaged Embarcadero Freeway and much of the damaged Central Freeway, allowing the city to reclaim The Embarcadero as its historic downtown waterfront and revitalizing the Hayes Valley neighborhood.Two recent decades have seen two booms driven by the internet industry. First was the dot-com boom of the late 1990s, startup companies invigorated the San Francisco economy. Large numbers of entrepreneurs and computer application developers moved into the city, followed by marketing, design, and sales professionals, changing the social landscape as once-poorer neighborhoods became increasingly gentrified. Demand for new housing and office space ignited a second wave of high-rise development, this time in the South of Market district. By 2000, the city's population reached new highs, surpassing the previous record set in 1950. When the bubble burst in 2001, many of these companies folded and their employees were laid off. Yet high technology and entrepreneurship remain mainstays of the San Francisco economy. By the mid-2000s (decade), the social media boom had begun, with San Francisco becoming a popular location for tech offices and a common place to live for people employed in Silicon Valley companies such as Apple and Google.The Ferry Station Post Office Building, Armour & Co. Building, Atherton House, and YMCA Hotel are historic buildings among dozens of historical landmarks in the city according to the National Register of Historic Places listings in San Francisco.\n",
            "\n",
            "Years:\n",
            "['1769', '1776', '1821', '1835', '1846', '1848', '1849', '1848', '1849', '1851', '1870', '1850', '1859', '1852', '1864', '1869', '1870', '1873', '1890', '1901', '1900', '1904', '1906', '1910', '1915', '1912', '1915', '1927', '1929', '1936', '1937', '1939', '1945', '1951', '1950', '1980', '1967', '1974', '1978', '1969', '1972', '1989', '2000', '1950', '2001']\n"
          ],
          "name": "stdout"
        }
      ]
    }
  ]
}