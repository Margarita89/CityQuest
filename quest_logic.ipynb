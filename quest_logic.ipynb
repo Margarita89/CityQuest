{
  "nbformat": 4,
  "nbformat_minor": 0,
  "metadata": {
    "colab": {
      "name": "quest_logic.ipynb",
      "provenance": [],
      "authorship_tag": "ABX9TyPVMZJj/lTEz3oQP1jTihJ8",
      "include_colab_link": true
    },
    "kernelspec": {
      "name": "python3",
      "display_name": "Python 3"
    }
  },
  "cells": [
    {
      "cell_type": "markdown",
      "metadata": {
        "id": "view-in-github",
        "colab_type": "text"
      },
      "source": [
        "<a href=\"https://colab.research.google.com/github/Margarita89/CityQuest/blob/master/quest_logic.ipynb\" target=\"_parent\"><img src=\"https://colab.research.google.com/assets/colab-badge.svg\" alt=\"Open In Colab\"/></a>"
      ]
    },
    {
      "cell_type": "code",
      "metadata": {
        "id": "ZgZbi3FRTvIE",
        "colab_type": "code",
        "colab": {}
      },
      "source": [
        "!pip install transitions\n",
        "!sudo apt-get install graphviz  # Ubuntu and Debian\n",
        "!pip install graphviz pygraphviz # install graphviz and/or pygraphviz manually...\n",
        "!pip install transitions[diagrams]  # ... or install transitions with 'diagrams' extras which currently depends on pygraphviz"
      ],
      "execution_count": null,
      "outputs": []
    },
    {
      "cell_type": "code",
      "metadata": {
        "id": "KutD5_Igoxv5",
        "colab_type": "code",
        "colab": {}
      },
      "source": [
        "#from transitions import Machine\n",
        "from transitions.extensions import GraphMachine as Machine\n",
        "import random\n",
        "from enum import Enum, auto"
      ],
      "execution_count": 83,
      "outputs": []
    },
    {
      "cell_type": "code",
      "metadata": {
        "id": "vNxeF5AjapdG",
        "colab_type": "code",
        "colab": {}
      },
      "source": [
        "map_state_to_sentence = {\n",
        "    'select' : 'Sorry, wrong asnwer. Please, choose from 3 following options..',\n",
        "    'no_more_hints' : 'Sorry, there are no more hints..'\n",
        "}\n",
        "\n",
        "map_question_to_hints_amount = {\n",
        "    1 : 2,\n",
        "    2 : 2\n",
        "}\n",
        "\n",
        "class QuestionEntities(Enum):\n",
        "  question = auto()\n",
        "  answer = auto()\n",
        "  hints = auto()\n",
        "\n",
        "\n",
        "map_question_num_to_data = {\n",
        "    1 : {\n",
        "          QuestionEntities.question: 'When its precursor, a menagerie, was founded?', \n",
        "          QuestionEntities.answer: '1864',\n",
        "          QuestionEntities.hints: ['hint_1_1', 'hint_1_2']},\n",
        "    2 : {\n",
        "          QuestionEntities.question: 'Four thousand dollars towards the funding of the statue was raised at'\n",
        "          ' a benefit of which performance?',\n",
        "          QuestionEntities.answer: 'Julius Caesar',\n",
        "          QuestionEntities.hints: ['hint_2_1', 'hint_2_2']}\n",
        "}\n",
        "\n",
        "class UserDecisions(Enum):\n",
        "  hint = 'hint'\n",
        "  returning = 'return'\n",
        "  skip = 'skip'\n",
        "\n",
        "\n",
        "class Quiz(object):\n",
        "\n",
        "  # Define states\n",
        "  states = ['question_1', 'select', '_analyze_answer', '_user_decision', 'final']\n",
        "\n",
        "  def __init__(self):\n",
        "\n",
        "    self.additional_message = ''\n",
        "    self.user_hint_counter = 0\n",
        "    self.current_question_num = 1\n",
        "    self.total_questions = len(map_question_num_to_data)\n",
        "\n",
        "    # Initialize the state machine\n",
        "    self.machine = Machine(model=self, states=Quiz.states, initial='question_1')\n",
        "\n",
        "    # When user answers move from question 1 to analyzing answer\n",
        "    self.machine.add_transition(trigger='user_answers', source='question_1', dest='_analyze_answer',\n",
        "                                after = 'get_user_answer')\n",
        "\n",
        "    # If answer is correct move from question 1 to question 2\n",
        "    self.machine.add_transition(trigger='go_to_next_question', source='_analyze_answer', dest='question_1')\n",
        "\n",
        "    # If answer is incorrect move from question 1 to state 'select' \n",
        "    self.machine.add_transition(trigger='incorrect_answer', source='_analyze_answer', dest='select')\n",
        "\n",
        "    # When user decides where to move from analyzing answer \n",
        "    self.machine.add_transition(trigger='user_decides', source='select', dest='_user_decision',\n",
        "                                after = 'get_user_decision')\n",
        "\n",
        "    # Return from state 'select' back to question 1\n",
        "    self.machine.add_transition(trigger='returning', source='_user_decision', dest='question_1')\n",
        "\n",
        "    # Skip this question from state 'select' to question 2\n",
        "    self.machine.add_transition(trigger='skip', source='_user_decision', dest='question_1')\n",
        "\n",
        "    # Choose hint and move from state 'select' back to question 1 with a hint\n",
        "    self.machine.add_transition(\n",
        "        trigger='hint', source='_user_decision', dest='question_1')\n",
        "    \n",
        "    # Move to state 'final' if there are no more questions\n",
        "    self.machine.add_transition(\n",
        "        trigger='move_to_final', source='_analyze_answer', dest='final')\n",
        "\n",
        "  def get_user_answer(self, user_answer):\n",
        "    self.additional_message = ''\n",
        "    correct_answer = map_question_num_to_data[self.current_question_num][QuestionEntities.answer]\n",
        "    if user_answer == correct_answer:\n",
        "      self.move_to_next_question()\n",
        "    else:\n",
        "      self.incorrect_answer()\n",
        "\n",
        "  def get_user_decision(self, user_decision):\n",
        "    if user_decision == UserDecisions.hint.value:\n",
        "      hints_array = map_question_num_to_data[self.current_question_num][QuestionEntities.hints]\n",
        "      hints_amount = len(hints_array)\n",
        "      if self.user_hint_counter < hints_amount:\n",
        "        self.additional_message = hints_array[self.user_hint_counter]  \n",
        "        self.user_hint_counter += 1\n",
        "      else:\n",
        "        self.additional_message = map_state_to_sentence['no_more_hints']\n",
        "        \n",
        "      self.hint()\n",
        "    elif user_decision == UserDecisions.skip.value:\n",
        "      self.skip()\n",
        "    elif user_decision == UserDecisions.returning.value:\n",
        "      self.returning()\n",
        "\n",
        "  def get_state_message(self):\n",
        "    if self.state == 'question_1':\n",
        "      message = self.additional_message\n",
        "      if message:\n",
        "         message += '\\n' \n",
        "      message += map_question_num_to_sentence[self.current_question_num]\n",
        "      return message\n",
        "    if self.state == 'select':\n",
        "      return map_state_to_sentence[self.state]\n",
        "  \n",
        "  def move_to_next_question(self):\n",
        "    if self.current_question_num < self.total_questions :\n",
        "      self.current_question_num += 1\n",
        "      self.user_hint_counter = 0\n",
        "      self.go_to_next_question()\n",
        "    else:\n",
        "      self.move_to_final()"
      ],
      "execution_count": 100,
      "outputs": []
    },
    {
      "cell_type": "code",
      "metadata": {
        "id": "O7f0wjflcXuj",
        "colab_type": "code",
        "colab": {
          "base_uri": "https://localhost:8080/",
          "height": 222
        },
        "outputId": "1dfef6d5-6f15-4e51-e9bd-d2d325b6107d"
      },
      "source": [
        "quiz = Quiz()\n",
        "quiz.get_graph() #.draw('my_state_diagram.png', prog='dot')\n"
      ],
      "execution_count": 101,
      "outputs": [
        {
          "output_type": "execute_result",
          "data": {
            "text/plain": [
              "<graphviz.dot.Digraph at 0x7f2ae0d75e48>"
            ],
            "image/svg+xml": "<?xml version=\"1.0\" encoding=\"UTF-8\" standalone=\"no\"?>\n<!DOCTYPE svg PUBLIC \"-//W3C//DTD SVG 1.1//EN\"\n \"http://www.w3.org/Graphics/SVG/1.1/DTD/svg11.dtd\">\n<!-- Generated by graphviz version 2.40.1 (20161225.0304)\n -->\n<!-- Title: State Machine Pages: 1 -->\n<svg width=\"791pt\" height=\"151pt\"\n viewBox=\"0.00 0.00 791.00 151.00\" xmlns=\"http://www.w3.org/2000/svg\" xmlns:xlink=\"http://www.w3.org/1999/xlink\">\n<g id=\"graph0\" class=\"graph\" transform=\"scale(1 1) rotate(0) translate(4 147)\">\n<title>State Machine</title>\n<polygon fill=\"#ffffff\" stroke=\"transparent\" points=\"-4,4 -4,-147 787,-147 787,4 -4,4\"/>\n<text text-anchor=\"middle\" x=\"391.5\" y=\"-7.8\" font-family=\"Times,serif\" font-size=\"14.00\" fill=\"#000000\">State Machine</text>\n<!-- question_1 -->\n<g id=\"node1\" class=\"node\">\n<title>question_1</title>\n<path fill=\"#e9967a\" stroke=\"#ff0000\" d=\"M72,-76C72,-76 16,-76 16,-76 10,-76 4,-70 4,-64 4,-64 4,-52 4,-52 4,-46 10,-40 16,-40 16,-40 72,-40 72,-40 78,-40 84,-46 84,-52 84,-52 84,-64 84,-64 84,-70 78,-76 72,-76\"/>\n<path fill=\"none\" stroke=\"#ff0000\" d=\"M76,-80C76,-80 12,-80 12,-80 6,-80 0,-74 0,-68 0,-68 0,-48 0,-48 0,-42 6,-36 12,-36 12,-36 76,-36 76,-36 82,-36 88,-42 88,-48 88,-48 88,-68 88,-68 88,-74 82,-80 76,-80\"/>\n<text text-anchor=\"middle\" x=\"44\" y=\"-54.3\" font-family=\"Times,serif\" font-size=\"14.00\" fill=\"#000000\">question_1</text>\n</g>\n<!-- _analyze_answer -->\n<g id=\"node3\" class=\"node\">\n<title>_analyze_answer</title>\n<path fill=\"#ffffff\" stroke=\"#000000\" d=\"M349,-101C349,-101 259,-101 259,-101 253,-101 247,-95 247,-89 247,-89 247,-77 247,-77 247,-71 253,-65 259,-65 259,-65 349,-65 349,-65 355,-65 361,-71 361,-77 361,-77 361,-89 361,-89 361,-95 355,-101 349,-101\"/>\n<text text-anchor=\"middle\" x=\"304\" y=\"-79.3\" font-family=\"Times,serif\" font-size=\"14.00\" fill=\"#000000\">_analyze_answer</text>\n</g>\n<!-- question_1&#45;&gt;_analyze_answer -->\n<g id=\"edge1\" class=\"edge\">\n<title>question_1&#45;&gt;_analyze_answer</title>\n<path fill=\"none\" stroke=\"#000000\" d=\"M88.1369,-70.5768C94.1021,-71.9272 100.1735,-73.1254 106,-74 149.2644,-80.494 198.3916,-82.7575 236.8872,-83.3909\"/>\n<polygon fill=\"#000000\" stroke=\"#000000\" points=\"236.8955,-86.8912 246.9408,-83.5235 236.9879,-79.8918 236.8955,-86.8912\"/>\n<text text-anchor=\"middle\" x=\"167.5\" y=\"-86.8\" font-family=\"Times,serif\" font-size=\"14.00\" fill=\"#000000\">user_answers</text>\n</g>\n<!-- select -->\n<g id=\"node2\" class=\"node\">\n<title>select</title>\n<path fill=\"#ffffff\" stroke=\"#000000\" d=\"M560,-143C560,-143 530,-143 530,-143 524,-143 518,-137 518,-131 518,-131 518,-119 518,-119 518,-113 524,-107 530,-107 530,-107 560,-107 560,-107 566,-107 572,-113 572,-119 572,-119 572,-131 572,-131 572,-137 566,-143 560,-143\"/>\n<text text-anchor=\"middle\" x=\"545\" y=\"-121.3\" font-family=\"Times,serif\" font-size=\"14.00\" fill=\"#000000\">select</text>\n</g>\n<!-- _user_decision -->\n<g id=\"node4\" class=\"node\">\n<title>_user_decision</title>\n<path fill=\"#ffffff\" stroke=\"#000000\" d=\"M771,-59C771,-59 693,-59 693,-59 687,-59 681,-53 681,-47 681,-47 681,-35 681,-35 681,-29 687,-23 693,-23 693,-23 771,-23 771,-23 777,-23 783,-29 783,-35 783,-35 783,-47 783,-47 783,-53 777,-59 771,-59\"/>\n<text text-anchor=\"middle\" x=\"732\" y=\"-37.3\" font-family=\"Times,serif\" font-size=\"14.00\" fill=\"#000000\">_user_decision</text>\n</g>\n<!-- select&#45;&gt;_user_decision -->\n<g id=\"edge5\" class=\"edge\">\n<title>select&#45;&gt;_user_decision</title>\n<path fill=\"none\" stroke=\"#000000\" d=\"M572.1914,-112.7857C601.0175,-99.8371 647.1677,-79.1065 682.4797,-63.2444\"/>\n<polygon fill=\"#000000\" stroke=\"#000000\" points=\"683.9788,-66.408 691.6666,-59.1177 681.1105,-60.0226 683.9788,-66.408\"/>\n<text text-anchor=\"middle\" x=\"626.5\" y=\"-107.8\" font-family=\"Times,serif\" font-size=\"14.00\" fill=\"#000000\">user_decides</text>\n</g>\n<!-- _analyze_answer&#45;&gt;question_1 -->\n<g id=\"edge2\" class=\"edge\">\n<title>_analyze_answer&#45;&gt;question_1</title>\n<path fill=\"none\" stroke=\"#000000\" d=\"M263.4847,-64.8752C252.5134,-60.8025 240.489,-57.0747 229,-55 185.5139,-47.1473 135.3424,-48.6005 98.2278,-51.6258\"/>\n<polygon fill=\"#000000\" stroke=\"#000000\" points=\"97.7772,-48.1518 88.1222,-52.5143 98.3904,-55.1249 97.7772,-48.1518\"/>\n<text text-anchor=\"middle\" x=\"167.5\" y=\"-58.8\" font-family=\"Times,serif\" font-size=\"14.00\" fill=\"#000000\">go_to_next_question</text>\n</g>\n<!-- _analyze_answer&#45;&gt;select -->\n<g id=\"edge3\" class=\"edge\">\n<title>_analyze_answer&#45;&gt;select</title>\n<path fill=\"none\" stroke=\"#000000\" d=\"M361.1136,-92.9534C406.6016,-100.8808 468.9363,-111.7441 508.0805,-118.5659\"/>\n<polygon fill=\"#000000\" stroke=\"#000000\" points=\"507.5378,-122.024 517.9903,-120.2929 508.7397,-115.1279 507.5378,-122.024\"/>\n<text text-anchor=\"middle\" x=\"439.5\" y=\"-119.8\" font-family=\"Times,serif\" font-size=\"14.00\" fill=\"#000000\">incorrect_answer</text>\n</g>\n<!-- final -->\n<g id=\"node5\" class=\"node\">\n<title>final</title>\n<path fill=\"#ffffff\" stroke=\"#000000\" d=\"M560,-89C560,-89 530,-89 530,-89 524,-89 518,-83 518,-77 518,-77 518,-65 518,-65 518,-59 524,-53 530,-53 530,-53 560,-53 560,-53 566,-53 572,-59 572,-65 572,-65 572,-77 572,-77 572,-83 566,-89 560,-89\"/>\n<text text-anchor=\"middle\" x=\"545\" y=\"-67.3\" font-family=\"Times,serif\" font-size=\"14.00\" fill=\"#000000\">final</text>\n</g>\n<!-- _analyze_answer&#45;&gt;final -->\n<g id=\"edge4\" class=\"edge\">\n<title>_analyze_answer&#45;&gt;final</title>\n<path fill=\"none\" stroke=\"#000000\" d=\"M361.1136,-80.1562C406.5048,-77.896 468.6711,-74.8006 507.8303,-72.8508\"/>\n<polygon fill=\"#000000\" stroke=\"#000000\" points=\"508.1767,-76.338 517.9903,-72.3449 507.8286,-69.3466 508.1767,-76.338\"/>\n<text text-anchor=\"middle\" x=\"439.5\" y=\"-82.8\" font-family=\"Times,serif\" font-size=\"14.00\" fill=\"#000000\">move_to_final</text>\n</g>\n<!-- _user_decision&#45;&gt;question_1 -->\n<g id=\"edge6\" class=\"edge\">\n<title>_user_decision&#45;&gt;question_1</title>\n<path fill=\"none\" stroke=\"#000000\" d=\"M680.6835,-37.8676C573.5342,-32.0871 318.3508,-22.2909 106,-45 103.4643,-45.2712 100.8793,-45.5999 98.2747,-45.9735\"/>\n<polygon fill=\"#000000\" stroke=\"#000000\" points=\"97.5045,-42.5526 88.1947,-47.6101 98.6264,-49.4621 97.5045,-42.5526\"/>\n<text text-anchor=\"middle\" x=\"439.5\" y=\"-34.8\" font-family=\"Times,serif\" font-size=\"14.00\" fill=\"#000000\">returning | skip | hint</text>\n</g>\n</g>\n</svg>\n"
          },
          "metadata": {
            "tags": []
          },
          "execution_count": 101
        }
      ]
    },
    {
      "cell_type": "code",
      "metadata": {
        "id": "OwwYIKZ7gE6P",
        "colab_type": "code",
        "colab": {
          "base_uri": "https://localhost:8080/",
          "height": 102
        },
        "outputId": "028e58f6-fb5c-4909-e371-7e2f4e8c9b11"
      },
      "source": [
        "user_answer = 'Julius Caesar'\n",
        "print(f' State {quiz.state}')\n",
        "print(quiz.get_state_message())\n",
        "print(quiz.user_answers(user_answer=user_answer))\n",
        "print(f' State {quiz.state}')"
      ],
      "execution_count": 113,
      "outputs": [
        {
          "output_type": "stream",
          "text": [
            " State question_1\n",
            "hint_2_2\n",
            "Four thousand dollars towards the funding of the statue was raised at a benefit of which performance?\n",
            "True\n",
            " State final\n"
          ],
          "name": "stdout"
        }
      ]
    },
    {
      "cell_type": "code",
      "metadata": {
        "id": "3QBvezekgMqb",
        "colab_type": "code",
        "colab": {}
      },
      "source": [
        "quiz.get_state_message()"
      ],
      "execution_count": 114,
      "outputs": []
    },
    {
      "cell_type": "code",
      "metadata": {
        "id": "XCMJ2a9zl6_u",
        "colab_type": "code",
        "colab": {
          "base_uri": "https://localhost:8080/",
          "height": 34
        },
        "outputId": "5c34ff2d-aa43-43d1-e018-0bb9f9e27134"
      },
      "source": [
        "user_decision = UserDecisions.hint.value\n",
        "quiz.user_decides(user_decision=user_decision)"
      ],
      "execution_count": 111,
      "outputs": [
        {
          "output_type": "execute_result",
          "data": {
            "text/plain": [
              "True"
            ]
          },
          "metadata": {
            "tags": []
          },
          "execution_count": 111
        }
      ]
    },
    {
      "cell_type": "code",
      "metadata": {
        "id": "PLQzpJctmNta",
        "colab_type": "code",
        "colab": {
          "base_uri": "https://localhost:8080/",
          "height": 68
        },
        "outputId": "765c0637-3bd7-4323-e405-ea79314433e1"
      },
      "source": [
        "print(quiz.get_state_message())\n",
        "print(f' State {quiz.state}')"
      ],
      "execution_count": 112,
      "outputs": [
        {
          "output_type": "stream",
          "text": [
            "hint_2_2\n",
            "Four thousand dollars towards the funding of the statue was raised at a benefit of which performance?\n",
            " State question_1\n"
          ],
          "name": "stdout"
        }
      ]
    },
    {
      "cell_type": "code",
      "metadata": {
        "id": "hLtOXpBskekr",
        "colab_type": "code",
        "colab": {}
      },
      "source": [
        "class Matter(object):\n",
        "    def __init__(self): self.set_environment()\n",
        "    def set_environment(self, temp=0, pressure=101.325):\n",
        "        self.temp = temp\n",
        "        self.pressure = pressure\n",
        "    def print_temperature(self): print(\"Current temperature is %d degrees celsius.\" % self.temp)\n",
        "    def print_pressure(self): print(\"Current pressure is %.2f kPa.\" % self.pressure)\n",
        "\n",
        "lump = Matter()\n",
        "machine = Machine(lump, ['solid', 'liquid'], initial='solid')\n",
        "machine.add_transition('melt', 'solid', 'liquid', before='set_environment')\n",
        "\n",
        "lump.melt(45)  # positional arg;\n",
        "# equivalent to lump.trigger('melt', 45)\n",
        "lump.print_temperature()\n",
        ">>> 'Current temperature is 45 degrees celsius.'\n",
        "\n",
        "machine.set_state('solid')  # reset state so we can melt again\n",
        "lump.melt(pressure=300.23)  # keyword args also work\n",
        "lump.print_pressure()\n",
        ">>> 'Current pressure is 300.23 kPa.'"
      ],
      "execution_count": null,
      "outputs": []
    }
  ]
}